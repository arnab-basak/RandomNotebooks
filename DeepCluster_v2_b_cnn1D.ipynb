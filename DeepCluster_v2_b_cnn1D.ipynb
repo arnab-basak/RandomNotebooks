{
  "metadata": {
    "kernelspec": {
      "name": "py-dku-venv-anomaly",
      "display_name": "Python (env anomaly)",
      "language": "python"
    },
    "creator": "rajnish",
    "createdOn": 1692857235412,
    "tags": [],
    "customFields": {},
    "hide_input": false,
    "modifiedBy": "arnab.basak",
    "language_info": {
      "name": "python",
      "version": "3.6.8",
      "mimetype": "text/x-python",
      "codemirror_mode": {
        "name": "ipython",
        "version": 3
      },
      "pygments_lexer": "ipython3",
      "nbconvert_exporter": "python",
      "file_extension": ".py"
    },
    "versionNumber": 8
  },
  "nbformat": 4,
  "nbformat_minor": 1,
  "cells": [
    {
      "execution_count": 1,
      "cell_type": "code",
      "metadata": {},
      "source": [
        "import dataiku\nfrom dataiku import pandasutils as pdu\nimport pandas as pd\nimport numpy as np\nimport matplotlib.pyplot as plt\nimport seaborn as sns\nfrom sklearn.model_selection import train_test_split\nfrom matplotlib import image as mpimg"
      ],
      "outputs": []
    },
    {
      "execution_count": 2,
      "cell_type": "code",
      "metadata": {},
      "source": [
        "mydataset \u003d dataiku.Dataset(\"new_train\")\ntotal\u003dmydataset.get_dataframe()\ninfodata \u003d dataiku.Dataset(\"info\")\ninfo\u003dinfodata.get_dataframe()\ntotal\u003dtotal.to_numpy()\ntrain, test\u003dtrain_test_split(total,test_size\u003d0.20,random_state\u003d256)\ntrain, val\u003dtrain_test_split(train,test_size\u003d0.10,random_state\u003d256)"
      ],
      "outputs": []
    },
    {
      "execution_count": 3,
      "cell_type": "code",
      "metadata": {},
      "source": [
        "#total\u003dpd.DataFrame(total)"
      ],
      "outputs": []
    },
    {
      "execution_count": 4,
      "cell_type": "code",
      "metadata": {},
      "source": [
        "info\u003dinfo.sort_values(\u0027strip_id\u0027)"
      ],
      "outputs": []
    },
    {
      "execution_count": 5,
      "cell_type": "code",
      "metadata": {},
      "source": [
        "info\u003dinfo.set_index(\u0027strip_id\u0027)"
      ],
      "outputs": []
    },
    {
      "execution_count": 6,
      "cell_type": "code",
      "metadata": {},
      "source": [
        "info"
      ],
      "outputs": [
        {
          "output_type": "execute_result",
          "execution_count": 6,
          "data": {
            "text/plain": "                               device_bin_code       equipment_name                 time\nstrip_id                                                                                \n0.0                                       521,  INSP-ACA-AWB2D2-002  2023-09-01 23:41:18\n1.0                                   521,517,  INSP-ACA-AWB2D2-002  2023-09-01 23:41:18\n2.0                                       516,  INSP-ACA-AWB2D2-002  2023-09-01 23:41:18\n3.0                               530,530,530,  INSP-ACA-AWB2D2-002  2023-08-30 23:42:38\n4.0       530,530,530,530,530,530,530,530,530,  INSP-ACA-AWB2D2-002  2023-08-30 23:42:38\n...                                        ...                  ...                  ...\n876.0                                     518,  INSP-ACA-AWB2D2-018  2023-08-29 23:59:55\n877.0                                     516,  INSP-ACA-AWB2D2-018  2023-08-29 23:59:55\n878.0                                     516,  INSP-ACA-AWB2D2-009  2023-08-30 23:45:17\n879.0                                     517,  INSP-ACA-AWB2D2-007  2023-08-29 23:59:55\n880.0                                 518,518,  INSP-ACA-AWB2D2-006  2023-09-01 23:45:52\n\n[881 rows x 3 columns]",
            "text/html": "\n            \u003cbutton style\u003d\"display:none\" \n            class\u003d\"btn btn-default ipython-export-btn\" \n            id\u003d\"btn-df-89134d35-9d4d-47ef-b10f-9f2e655bf9ef\" \n            onclick\u003d\"_export_df(\u002789134d35-9d4d-47ef-b10f-9f2e655bf9ef\u0027)\"\u003e\n                Export dataframe\n            \u003c/button\u003e\n            \n            \u003cscript\u003e\n                \n                function _check_export_df_possible(dfid,yes_fn,no_fn) {\n                    console.log(\u0027Checking dataframe exportability...\u0027)\n                    if(!IPython || !IPython.notebook || !IPython.notebook.kernel || !IPython.notebook.kernel) {\n                        console.log(\u0027Export is not possible (IPython kernel is not available)\u0027)\n                        if(no_fn) {\n                            no_fn();\n                        }\n                    } else {\n                        var pythonCode \u003d \u0027from dataiku.notebook.export import IPythonExporter;IPythonExporter._check_export_stdout(\"\u0027+dfid+\u0027\")\u0027;\n                        IPython.notebook.kernel.execute(pythonCode,{iopub: {output: function(resp) {\n                            console.info(\"Exportability response\", resp);\n                            var size \u003d /^([0-9]+)x([0-9]+)$/.exec(resp.content.data || resp.content.text)\n                            if(!size) {\n                                console.log(\u0027Export is not possible (dataframe is not in-memory anymore)\u0027)\n                                if(no_fn) {\n                                    no_fn();\n                                }\n                            } else {\n                                console.log(\u0027Export is possible\u0027)\n                                if(yes_fn) {\n                                    yes_fn(1*size[1],1*size[2]);\n                                }\n                            }\n                        }}});\n                    }\n                }\n            \n                function _export_df(dfid) {\n                    \n                    var btn \u003d $(\u0027#btn-df-\u0027+dfid);\n                    var btns \u003d $(\u0027.ipython-export-btn\u0027);\n                    \n                    _check_export_df_possible(dfid,function() {\n                        \n                        window.parent.openExportModalFromIPython(\u0027Pandas dataframe\u0027,function(data) {\n                            btns.prop(\u0027disabled\u0027,true);\n                            btn.text(\u0027Exporting...\u0027);\n                            var command \u003d \u0027from dataiku.notebook.export import IPythonExporter;IPythonExporter._run_export(\"\u0027+dfid+\u0027\",\"\u0027+data.exportId+\u0027\")\u0027;\n                            var callback \u003d {iopub:{output: function(resp) {\n                                console.info(\"CB resp:\", resp);\n                                _check_export_df_possible(dfid,function(rows, cols) {\n                                    $(\u0027#btn-df-\u0027+dfid)\n                                        .css(\u0027display\u0027,\u0027inline-block\u0027)\n                                        .text(\u0027Export this dataframe (\u0027+rows+\u0027 rows, \u0027+cols+\u0027 cols)\u0027)\n                                        .prop(\u0027disabled\u0027,false);\n                                },function() {\n                                    $(\u0027#btn-df-\u0027+dfid).css(\u0027display\u0027,\u0027none\u0027);\n                                });\n                            }}};\n                            IPython.notebook.kernel.execute(command,callback,{silent:false}); // yes, silent now defaults to true. figures.\n                        });\n                    \n                    }, function(){\n                            alert(\u0027Unable to export : the Dataframe object is not loaded in memory\u0027);\n                            btn.css(\u0027display\u0027,\u0027none\u0027);\n                    });\n                    \n                }\n                \n                (function(dfid) {\n                \n                    var retryCount \u003d 10;\n                \n                    function is_valid_websock(s) {\n                        return s \u0026\u0026 s.readyState\u003d\u003d1;\n                    }\n                \n                    function check_conn() {\n                        \n                        if(!IPython || !IPython.notebook) {\n                            // Don\u0027t even try to go further\n                            return;\n                        }\n                        \n                        // Check if IPython is ready\n                        console.info(\"Checking conn ...\")\n                        if(IPython.notebook.kernel\n                        \u0026\u0026 IPython.notebook.kernel\n                        \u0026\u0026 is_valid_websock(IPython.notebook.kernel.ws)\n                        ) {\n                            \n                            _check_export_df_possible(dfid,function(rows, cols) {\n                                $(\u0027#btn-df-\u0027+dfid).css(\u0027display\u0027,\u0027inline-block\u0027);\n                                $(\u0027#btn-df-\u0027+dfid).text(\u0027Export this dataframe (\u0027+rows+\u0027 rows, \u0027+cols+\u0027 cols)\u0027);\n                            });\n                            \n                        } else {\n                            console.info(\"Conditions are not ok\", IPython.notebook.kernel);\n                            \n                            // Retry later\n                            \n                            if(retryCount\u003e0) {\n                                setTimeout(check_conn,500);\n                                retryCount--;\n                            }\n                            \n                        }\n                    };\n                    \n                    setTimeout(check_conn,100);\n                    \n                })(\"89134d35-9d4d-47ef-b10f-9f2e655bf9ef\");\n                \n            \u003c/script\u003e\n            \n        \u003cdiv\u003e\n\u003cstyle scoped\u003e\n    .dataframe tbody tr th:only-of-type {\n        vertical-align: middle;\n    }\n\n    .dataframe tbody tr th {\n        vertical-align: top;\n    }\n\n    .dataframe thead th {\n        text-align: right;\n    }\n\u003c/style\u003e\n\u003ctable border\u003d\"1\" class\u003d\"dataframe\"\u003e\n  \u003cthead\u003e\n    \u003ctr style\u003d\"text-align: right;\"\u003e\n      \u003cth\u003e\u003c/th\u003e\n      \u003cth\u003edevice_bin_code\u003c/th\u003e\n      \u003cth\u003eequipment_name\u003c/th\u003e\n      \u003cth\u003etime\u003c/th\u003e\n    \u003c/tr\u003e\n    \u003ctr\u003e\n      \u003cth\u003estrip_id\u003c/th\u003e\n      \u003cth\u003e\u003c/th\u003e\n      \u003cth\u003e\u003c/th\u003e\n      \u003cth\u003e\u003c/th\u003e\n    \u003c/tr\u003e\n  \u003c/thead\u003e\n  \u003ctbody\u003e\n    \u003ctr\u003e\n      \u003cth\u003e0.0\u003c/th\u003e\n      \u003ctd\u003e521,\u003c/td\u003e\n      \u003ctd\u003eINSP-ACA-AWB2D2-002\u003c/td\u003e\n      \u003ctd\u003e2023-09-01 23:41:18\u003c/td\u003e\n    \u003c/tr\u003e\n    \u003ctr\u003e\n      \u003cth\u003e1.0\u003c/th\u003e\n      \u003ctd\u003e521,517,\u003c/td\u003e\n      \u003ctd\u003eINSP-ACA-AWB2D2-002\u003c/td\u003e\n      \u003ctd\u003e2023-09-01 23:41:18\u003c/td\u003e\n    \u003c/tr\u003e\n    \u003ctr\u003e\n      \u003cth\u003e2.0\u003c/th\u003e\n      \u003ctd\u003e516,\u003c/td\u003e\n      \u003ctd\u003eINSP-ACA-AWB2D2-002\u003c/td\u003e\n      \u003ctd\u003e2023-09-01 23:41:18\u003c/td\u003e\n    \u003c/tr\u003e\n    \u003ctr\u003e\n      \u003cth\u003e3.0\u003c/th\u003e\n      \u003ctd\u003e530,530,530,\u003c/td\u003e\n      \u003ctd\u003eINSP-ACA-AWB2D2-002\u003c/td\u003e\n      \u003ctd\u003e2023-08-30 23:42:38\u003c/td\u003e\n    \u003c/tr\u003e\n    \u003ctr\u003e\n      \u003cth\u003e4.0\u003c/th\u003e\n      \u003ctd\u003e530,530,530,530,530,530,530,530,530,\u003c/td\u003e\n      \u003ctd\u003eINSP-ACA-AWB2D2-002\u003c/td\u003e\n      \u003ctd\u003e2023-08-30 23:42:38\u003c/td\u003e\n    \u003c/tr\u003e\n    \u003ctr\u003e\n      \u003cth\u003e...\u003c/th\u003e\n      \u003ctd\u003e...\u003c/td\u003e\n      \u003ctd\u003e...\u003c/td\u003e\n      \u003ctd\u003e...\u003c/td\u003e\n    \u003c/tr\u003e\n    \u003ctr\u003e\n      \u003cth\u003e876.0\u003c/th\u003e\n      \u003ctd\u003e518,\u003c/td\u003e\n      \u003ctd\u003eINSP-ACA-AWB2D2-018\u003c/td\u003e\n      \u003ctd\u003e2023-08-29 23:59:55\u003c/td\u003e\n    \u003c/tr\u003e\n    \u003ctr\u003e\n      \u003cth\u003e877.0\u003c/th\u003e\n      \u003ctd\u003e516,\u003c/td\u003e\n      \u003ctd\u003eINSP-ACA-AWB2D2-018\u003c/td\u003e\n      \u003ctd\u003e2023-08-29 23:59:55\u003c/td\u003e\n    \u003c/tr\u003e\n    \u003ctr\u003e\n      \u003cth\u003e878.0\u003c/th\u003e\n      \u003ctd\u003e516,\u003c/td\u003e\n      \u003ctd\u003eINSP-ACA-AWB2D2-009\u003c/td\u003e\n      \u003ctd\u003e2023-08-30 23:45:17\u003c/td\u003e\n    \u003c/tr\u003e\n    \u003ctr\u003e\n      \u003cth\u003e879.0\u003c/th\u003e\n      \u003ctd\u003e517,\u003c/td\u003e\n      \u003ctd\u003eINSP-ACA-AWB2D2-007\u003c/td\u003e\n      \u003ctd\u003e2023-08-29 23:59:55\u003c/td\u003e\n    \u003c/tr\u003e\n    \u003ctr\u003e\n      \u003cth\u003e880.0\u003c/th\u003e\n      \u003ctd\u003e518,518,\u003c/td\u003e\n      \u003ctd\u003eINSP-ACA-AWB2D2-006\u003c/td\u003e\n      \u003ctd\u003e2023-09-01 23:45:52\u003c/td\u003e\n    \u003c/tr\u003e\n  \u003c/tbody\u003e\n\u003c/table\u003e\n\u003cp\u003e881 rows × 3 columns\u003c/p\u003e\n\u003c/div\u003e"
          },
          "metadata": {}
        }
      ]
    },
    {
      "execution_count": 7,
      "cell_type": "code",
      "metadata": {},
      "source": [
        "itrain,itest\u003dtrain_test_split(info,test_size\u003d0.20,random_state\u003d256)"
      ],
      "outputs": []
    },
    {
      "execution_count": 8,
      "cell_type": "code",
      "metadata": {},
      "source": [
        "#total\u003dnp.reshape(total,(-1,12,4))"
      ],
      "outputs": []
    },
    {
      "execution_count": 9,
      "cell_type": "code",
      "metadata": {},
      "source": [
        "total.shape"
      ],
      "outputs": [
        {
          "output_type": "execute_result",
          "execution_count": 9,
          "data": {
            "text/plain": "(881, 48)"
          },
          "metadata": {}
        }
      ]
    },
    {
      "execution_count": 10,
      "cell_type": "code",
      "metadata": {},
      "source": [
        "train.shape"
      ],
      "outputs": [
        {
          "output_type": "execute_result",
          "execution_count": 10,
          "data": {
            "text/plain": "(633, 48)"
          },
          "metadata": {}
        }
      ]
    },
    {
      "execution_count": 11,
      "cell_type": "code",
      "metadata": {},
      "source": [
        "#train\u003dnp.reshape(train,(-1,12,4))"
      ],
      "outputs": []
    },
    {
      "execution_count": 12,
      "cell_type": "code",
      "metadata": {},
      "source": [
        "#test\u003dnp.reshape(test,(-1,12,4))"
      ],
      "outputs": []
    },
    {
      "execution_count": 13,
      "cell_type": "code",
      "metadata": {},
      "source": [
        "test.shape"
      ],
      "outputs": [
        {
          "output_type": "execute_result",
          "execution_count": 13,
          "data": {
            "text/plain": "(177, 48)"
          },
          "metadata": {}
        }
      ]
    },
    {
      "execution_count": 14,
      "cell_type": "code",
      "metadata": {},
      "source": [
        "#val\u003dnp.reshape(val,(-1,12,4))"
      ],
      "outputs": []
    },
    {
      "execution_count": 15,
      "cell_type": "code",
      "metadata": {},
      "source": [
        "val.shape"
      ],
      "outputs": [
        {
          "output_type": "execute_result",
          "execution_count": 15,
          "data": {
            "text/plain": "(71, 48)"
          },
          "metadata": {}
        }
      ]
    },
    {
      "execution_count": 16,
      "cell_type": "code",
      "metadata": {},
      "source": [
        "import tensorflow as tf\nfrom tensorflow.keras.models import Model\nfrom tensorflow.keras.layers import Dense,Flatten,Reshape,Lambda,LeakyReLU,Dropout,BatchNormalization,Conv1D,Conv2D,Reshape\nfrom tensorflow.keras import regularizers\nfrom tensorflow.keras.losses import MeanSquaredError,BinaryCrossentropy\nfrom tensorflow.keras.optimizers.schedules import PolynomialDecay\nfrom tensorflow.keras.callbacks import LearningRateScheduler\nfrom tensorflow.keras.callbacks import ReduceLROnPlateau\n#from keras.utils.visualize_util import plot"
      ],
      "outputs": []
    },
    {
      "execution_count": 17,
      "cell_type": "code",
      "metadata": {},
      "source": [
        "\ntrainf\u003dtf.expand_dims(train, axis\u003d-1)\nvalf\u003dtf.expand_dims(val, axis\u003d-1)\ntestf\u003dtf.expand_dims(test, axis\u003d-1)\ntotalf\u003dtf.expand_dims(total, axis\u003d-1)"
      ],
      "outputs": []
    },
    {
      "execution_count": 18,
      "cell_type": "code",
      "metadata": {},
      "source": [
        "trainf.shape"
      ],
      "outputs": [
        {
          "output_type": "execute_result",
          "execution_count": 18,
          "data": {
            "text/plain": "TensorShape([633, 48, 1])"
          },
          "metadata": {}
        }
      ]
    },
    {
      "execution_count": 19,
      "cell_type": "code",
      "metadata": {},
      "source": [
        "#trainf"
      ],
      "outputs": []
    },
    {
      "execution_count": 20,
      "cell_type": "code",
      "metadata": {},
      "source": [
        "def _parse_function(filename, channels):\n    image_string \u003d tf.io.read_file(filename)\n    image \u003d tf.image.decode_jpeg(image_string, channels\u003dchannels)\n    image \u003d tf.image.convert_image_dtype(image, tf.float32)\n    return image "
      ],
      "outputs": []
    },
    {
      "execution_count": 21,
      "cell_type": "code",
      "metadata": {},
      "source": [
        "#trainf[632]"
      ],
      "outputs": []
    },
    {
      "execution_count": 22,
      "cell_type": "code",
      "metadata": {},
      "source": [
        "#plt.imshow(trainf[632])"
      ],
      "outputs": []
    },
    {
      "execution_count": 23,
      "cell_type": "code",
      "metadata": {},
      "source": [
        "#plt.imshow(totalf[632])"
      ],
      "outputs": []
    },
    {
      "execution_count": 24,
      "cell_type": "code",
      "metadata": {},
      "source": [
        "tf.keras.backend.clear_session()"
      ],
      "outputs": []
    },
    {
      "execution_count": 25,
      "cell_type": "code",
      "metadata": {},
      "source": [
        "#train \u003d tf.cast(arr_train, tf.float32)\n#test \u003d tf.cast(arr_test, tf.float32)"
      ],
      "outputs": []
    },
    {
      "execution_count": 26,
      "cell_type": "code",
      "metadata": {
        "code_folding": []
      },
      "source": [
        "class AutoEncoder(Model):\n    def __init__(self):\n        super(AutoEncoder,self).__init__()\n        #input_shape \u003d (12, 12, 4, 1)\n        self.encoder \u003d tf.keras.Sequential([\n            #tf.keras.Input(shape\u003d(None,64)),\n            tf.keras.layers.InputLayer(input_shape\u003d(48,1)),\n            #Reshape((12,4,1)),\n            Conv1D(32, 7, activation\u003d\u0027relu\u0027,input_shape\u003d(48,1)),\n            Conv1D(16, 7, activation\u003d\u0027relu\u0027),\n            #Conv1D(8, 7, activation\u003d\u0027relu\u0027),\n            #Conv1D(4, 7, activation\u003d\u0027relu\u0027),\n            #Conv2D(1, 2, activation\u003dLeakyReLU(alpha\u003d0.01),input_shape\u003d(10,2,1)),\n            #Conv2D(2, 3, activation\u003dLeakyReLU(alpha\u003d0.01),input_shape\u003d(8,4,1)),\n            Flatten(),\n            #Dense(16,activation\u003dLeakyReLU(alpha\u003d0.01)),\n            #BatchNormalization(),\n            #Dense(8,activation\u003dLeakyReLU(alpha\u003d0.01)),\n            #BatchNormalization(),\n            #Dense(4,activation\u003dLeakyReLU(alpha\u003d0.01)),\n            #BatchNormalization(),\n            #Dropout(0.1),\n            Dense(2),\n            BatchNormalization(),\n        ]\n        )\n\n        self.decoder \u003d tf.keras.Sequential([\n            Dense(2,activation\u003dLeakyReLU(alpha\u003d0.01)),\n            #Dropout(0.2),\n            BatchNormalization(),\n            Dense(4,activation\u003dLeakyReLU(alpha\u003d0.01)),\n            BatchNormalization(),\n            Dense(8,activation\u003dLeakyReLU(alpha\u003d0.01)),\n            #Dropout(0.2),\n            BatchNormalization(),\n            Dense(16,activation\u003dLeakyReLU(alpha\u003d0.01)),\n            BatchNormalization(),\n            Dense(32,activation\u003dLeakyReLU(alpha\u003d0.01)),\n            #Dropout(0.2),\n            BatchNormalization(),\n            Dense(48,activation\u003d\u0027sigmoid\u0027),\n            Reshape((48,1))\n        ]\n        )\n    def encode(self,x):\n        encoded \u003d self.encoder(x)\n        return encoded\n\n    def decode(self, x):\n        decoded \u003d self.decoder(x)\n        return decoded\n \n    def call(self, x):\n        encoded \u003d self.encoder(x)\n        decoded \u003d self.decoder(encoded)\n        return decoded"
      ],
      "outputs": []
    },
    {
      "execution_count": 27,
      "cell_type": "code",
      "metadata": {},
      "source": [
        "class MyCallback(tf.keras.callbacks.Callback):\n\n    def __init__(self, patience\u003d0):\n        super(MyCallback, self).__init__()\n\n    def on_epoch_begin(self, epoch, logs\u003dNone):\n        tf.print(self.model.get_weights())"
      ],
      "outputs": []
    },
    {
      "execution_count": 28,
      "cell_type": "code",
      "metadata": {
        "code_folding": []
      },
      "source": [
        "epochs\u003d30\nlr\u003d0.001\nreduce_lr \u003d ReduceLROnPlateau(monitor\u003d\u0027loss\u0027, factor\u003d0.2,cooldown\u003d1,\n                              patience\u003d3, min_lr\u003d0.000001, verbose\u003d1)\n#def scheduler(epochs,lr):\n#    if epoch\u003c\u003d5 :\n#        return lr\n#    else:\n#        return lr*tf.math.exp(-0.1)\ncallbacks \u003d [reduce_lr\n            ]"
      ],
      "outputs": []
    },
    {
      "execution_count": 29,
      "cell_type": "code",
      "metadata": {},
      "source": [
        "#lr_scheduler\u003dPolynomialDecay()"
      ],
      "outputs": []
    },
    {
      "execution_count": 30,
      "cell_type": "code",
      "metadata": {},
      "source": [
        "autoencoder\u003d AutoEncoder()"
      ],
      "outputs": []
    },
    {
      "execution_count": 31,
      "cell_type": "code",
      "metadata": {},
      "source": [
        "#autoencoder.build()"
      ],
      "outputs": []
    },
    {
      "execution_count": 32,
      "cell_type": "code",
      "metadata": {},
      "source": [
        "autoencoder.compile(optimizer\u003d\u0027adam\u0027,loss\u003dBinaryCrossentropy(from_logits\u003dTrue),metrics\u003d[\u0027accuracy\u0027])"
      ],
      "outputs": []
    },
    {
      "execution_count": 33,
      "cell_type": "code",
      "metadata": {
        "scrolled": false
      },
      "source": [
        "history\u003dautoencoder.fit(totalf,totalf,epochs\u003depochs,validation_data\u003d(valf,valf),callbacks\u003dcallbacks)"
      ],
      "outputs": [
        {
          "output_type": "stream",
          "text": "Epoch 1/30\n28/28 [\u003d\u003d\u003d\u003d\u003d\u003d\u003d\u003d\u003d\u003d\u003d\u003d\u003d\u003d\u003d\u003d\u003d\u003d\u003d\u003d\u003d\u003d\u003d\u003d\u003d\u003d\u003d\u003d\u003d\u003d] - 3s 12ms/step - loss: 0.9558 - accuracy: 0.5507 - val_loss: 0.9506 - val_accuracy: 0.7031\nEpoch 2/30\n28/28 [\u003d\u003d\u003d\u003d\u003d\u003d\u003d\u003d\u003d\u003d\u003d\u003d\u003d\u003d\u003d\u003d\u003d\u003d\u003d\u003d\u003d\u003d\u003d\u003d\u003d\u003d\u003d\u003d\u003d\u003d] - 0s 4ms/step - loss: 0.9429 - accuracy: 0.6406 - val_loss: 0.9428 - val_accuracy: 0.8087\nEpoch 3/30\n28/28 [\u003d\u003d\u003d\u003d\u003d\u003d\u003d\u003d\u003d\u003d\u003d\u003d\u003d\u003d\u003d\u003d\u003d\u003d\u003d\u003d\u003d\u003d\u003d\u003d\u003d\u003d\u003d\u003d\u003d\u003d] - 0s 4ms/step - loss: 0.9263 - accuracy: 0.7107 - val_loss: 0.9248 - val_accuracy: 0.8991\nEpoch 4/30\n28/28 [\u003d\u003d\u003d\u003d\u003d\u003d\u003d\u003d\u003d\u003d\u003d\u003d\u003d\u003d\u003d\u003d\u003d\u003d\u003d\u003d\u003d\u003d\u003d\u003d\u003d\u003d\u003d\u003d\u003d\u003d] - 0s 4ms/step - loss: 0.9034 - accuracy: 0.7616 - val_loss: 0.8885 - val_accuracy: 0.9531\nEpoch 5/30\n28/28 [\u003d\u003d\u003d\u003d\u003d\u003d\u003d\u003d\u003d\u003d\u003d\u003d\u003d\u003d\u003d\u003d\u003d\u003d\u003d\u003d\u003d\u003d\u003d\u003d\u003d\u003d\u003d\u003d\u003d\u003d] - 0s 4ms/step - loss: 0.8721 - accuracy: 0.8096 - val_loss: 0.8415 - val_accuracy: 0.9589\nEpoch 6/30\n28/28 [\u003d\u003d\u003d\u003d\u003d\u003d\u003d\u003d\u003d\u003d\u003d\u003d\u003d\u003d\u003d\u003d\u003d\u003d\u003d\u003d\u003d\u003d\u003d\u003d\u003d\u003d\u003d\u003d\u003d\u003d] - 0s 4ms/step - loss: 0.8420 - accuracy: 0.8435 - val_loss: 0.8037 - val_accuracy: 0.9269\nEpoch 7/30\n28/28 [\u003d\u003d\u003d\u003d\u003d\u003d\u003d\u003d\u003d\u003d\u003d\u003d\u003d\u003d\u003d\u003d\u003d\u003d\u003d\u003d\u003d\u003d\u003d\u003d\u003d\u003d\u003d\u003d\u003d\u003d] - 0s 5ms/step - loss: 0.8100 - accuracy: 0.8851 - val_loss: 0.7735 - val_accuracy: 0.9460\nEpoch 8/30\n28/28 [\u003d\u003d\u003d\u003d\u003d\u003d\u003d\u003d\u003d\u003d\u003d\u003d\u003d\u003d\u003d\u003d\u003d\u003d\u003d\u003d\u003d\u003d\u003d\u003d\u003d\u003d\u003d\u003d\u003d\u003d] - 0s 4ms/step - loss: 0.7854 - accuracy: 0.8993 - val_loss: 0.7552 - val_accuracy: 0.9440\nEpoch 9/30\n28/28 [\u003d\u003d\u003d\u003d\u003d\u003d\u003d\u003d\u003d\u003d\u003d\u003d\u003d\u003d\u003d\u003d\u003d\u003d\u003d\u003d\u003d\u003d\u003d\u003d\u003d\u003d\u003d\u003d\u003d\u003d] - 0s 4ms/step - loss: 0.7686 - accuracy: 0.9072 - val_loss: 0.7339 - val_accuracy: 0.9613\nEpoch 10/30\n28/28 [\u003d\u003d\u003d\u003d\u003d\u003d\u003d\u003d\u003d\u003d\u003d\u003d\u003d\u003d\u003d\u003d\u003d\u003d\u003d\u003d\u003d\u003d\u003d\u003d\u003d\u003d\u003d\u003d\u003d\u003d] - 0s 4ms/step - loss: 0.7518 - accuracy: 0.9254 - val_loss: 0.7195 - val_accuracy: 0.9595\nEpoch 11/30\n28/28 [\u003d\u003d\u003d\u003d\u003d\u003d\u003d\u003d\u003d\u003d\u003d\u003d\u003d\u003d\u003d\u003d\u003d\u003d\u003d\u003d\u003d\u003d\u003d\u003d\u003d\u003d\u003d\u003d\u003d\u003d] - 0s 4ms/step - loss: 0.7375 - accuracy: 0.9374 - val_loss: 0.7121 - val_accuracy: 0.9604\nEpoch 12/30\n28/28 [\u003d\u003d\u003d\u003d\u003d\u003d\u003d\u003d\u003d\u003d\u003d\u003d\u003d\u003d\u003d\u003d\u003d\u003d\u003d\u003d\u003d\u003d\u003d\u003d\u003d\u003d\u003d\u003d\u003d\u003d] - 0s 4ms/step - loss: 0.7273 - accuracy: 0.9437 - val_loss: 0.7063 - val_accuracy: 0.9601\nEpoch 13/30\n28/28 [\u003d\u003d\u003d\u003d\u003d\u003d\u003d\u003d\u003d\u003d\u003d\u003d\u003d\u003d\u003d\u003d\u003d\u003d\u003d\u003d\u003d\u003d\u003d\u003d\u003d\u003d\u003d\u003d\u003d\u003d] - 0s 5ms/step - loss: 0.7197 - accuracy: 0.9479 - val_loss: 0.7040 - val_accuracy: 0.9598\nEpoch 14/30\n28/28 [\u003d\u003d\u003d\u003d\u003d\u003d\u003d\u003d\u003d\u003d\u003d\u003d\u003d\u003d\u003d\u003d\u003d\u003d\u003d\u003d\u003d\u003d\u003d\u003d\u003d\u003d\u003d\u003d\u003d\u003d] - 0s 5ms/step - loss: 0.7160 - accuracy: 0.9496 - val_loss: 0.7030 - val_accuracy: 0.9610\nEpoch 15/30\n28/28 [\u003d\u003d\u003d\u003d\u003d\u003d\u003d\u003d\u003d\u003d\u003d\u003d\u003d\u003d\u003d\u003d\u003d\u003d\u003d\u003d\u003d\u003d\u003d\u003d\u003d\u003d\u003d\u003d\u003d\u003d] - 0s 5ms/step - loss: 0.7114 - accuracy: 0.9532 - val_loss: 0.7012 - val_accuracy: 0.9592\nEpoch 16/30\n28/28 [\u003d\u003d\u003d\u003d\u003d\u003d\u003d\u003d\u003d\u003d\u003d\u003d\u003d\u003d\u003d\u003d\u003d\u003d\u003d\u003d\u003d\u003d\u003d\u003d\u003d\u003d\u003d\u003d\u003d\u003d] - 0s 4ms/step - loss: 0.7080 - accuracy: 0.9572 - val_loss: 0.6989 - val_accuracy: 0.9607\nEpoch 17/30\n28/28 [\u003d\u003d\u003d\u003d\u003d\u003d\u003d\u003d\u003d\u003d\u003d\u003d\u003d\u003d\u003d\u003d\u003d\u003d\u003d\u003d\u003d\u003d\u003d\u003d\u003d\u003d\u003d\u003d\u003d\u003d] - 0s 4ms/step - loss: 0.7052 - accuracy: 0.9592 - val_loss: 0.7003 - val_accuracy: 0.9580\nEpoch 18/30\n28/28 [\u003d\u003d\u003d\u003d\u003d\u003d\u003d\u003d\u003d\u003d\u003d\u003d\u003d\u003d\u003d\u003d\u003d\u003d\u003d\u003d\u003d\u003d\u003d\u003d\u003d\u003d\u003d\u003d\u003d\u003d] - 0s 4ms/step - loss: 0.7028 - accuracy: 0.9614 - val_loss: 0.6988 - val_accuracy: 0.9595\nEpoch 19/30\n28/28 [\u003d\u003d\u003d\u003d\u003d\u003d\u003d\u003d\u003d\u003d\u003d\u003d\u003d\u003d\u003d\u003d\u003d\u003d\u003d\u003d\u003d\u003d\u003d\u003d\u003d\u003d\u003d\u003d\u003d\u003d] - 0s 4ms/step - loss: 0.7002 - accuracy: 0.9646 - val_loss: 0.6962 - val_accuracy: 0.9636\nEpoch 20/30\n28/28 [\u003d\u003d\u003d\u003d\u003d\u003d\u003d\u003d\u003d\u003d\u003d\u003d\u003d\u003d\u003d\u003d\u003d\u003d\u003d\u003d\u003d\u003d\u003d\u003d\u003d\u003d\u003d\u003d\u003d\u003d] - 0s 5ms/step - loss: 0.6980 - accuracy: 0.9674 - val_loss: 0.6961 - val_accuracy: 0.9636\nEpoch 21/30\n28/28 [\u003d\u003d\u003d\u003d\u003d\u003d\u003d\u003d\u003d\u003d\u003d\u003d\u003d\u003d\u003d\u003d\u003d\u003d\u003d\u003d\u003d\u003d\u003d\u003d\u003d\u003d\u003d\u003d\u003d\u003d] - 0s 5ms/step - loss: 0.6969 - accuracy: 0.9678 - val_loss: 0.6957 - val_accuracy: 0.9636\nEpoch 22/30\n28/28 [\u003d\u003d\u003d\u003d\u003d\u003d\u003d\u003d\u003d\u003d\u003d\u003d\u003d\u003d\u003d\u003d\u003d\u003d\u003d\u003d\u003d\u003d\u003d\u003d\u003d\u003d\u003d\u003d\u003d\u003d] - 0s 5ms/step - loss: 0.6963 - accuracy: 0.9678 - val_loss: 0.6954 - val_accuracy: 0.9636\nEpoch 23/30\n28/28 [\u003d\u003d\u003d\u003d\u003d\u003d\u003d\u003d\u003d\u003d\u003d\u003d\u003d\u003d\u003d\u003d\u003d\u003d\u003d\u003d\u003d\u003d\u003d\u003d\u003d\u003d\u003d\u003d\u003d\u003d] - 0s 5ms/step - loss: 0.6960 - accuracy: 0.9677 - val_loss: 0.6952 - val_accuracy: 0.9636\nEpoch 24/30\n28/28 [\u003d\u003d\u003d\u003d\u003d\u003d\u003d\u003d\u003d\u003d\u003d\u003d\u003d\u003d\u003d\u003d\u003d\u003d\u003d\u003d\u003d\u003d\u003d\u003d\u003d\u003d\u003d\u003d\u003d\u003d] - 0s 5ms/step - loss: 0.6955 - accuracy: 0.9678 - val_loss: 0.6951 - val_accuracy: 0.9636\nEpoch 25/30\n28/28 [\u003d\u003d\u003d\u003d\u003d\u003d\u003d\u003d\u003d\u003d\u003d\u003d\u003d\u003d\u003d\u003d\u003d\u003d\u003d\u003d\u003d\u003d\u003d\u003d\u003d\u003d\u003d\u003d\u003d\u003d] - 0s 5ms/step - loss: 0.6953 - accuracy: 0.9678 - val_loss: 0.6949 - val_accuracy: 0.9636\nEpoch 26/30\n28/28 [\u003d\u003d\u003d\u003d\u003d\u003d\u003d\u003d\u003d\u003d\u003d\u003d\u003d\u003d\u003d\u003d\u003d\u003d\u003d\u003d\u003d\u003d\u003d\u003d\u003d\u003d\u003d\u003d\u003d\u003d] - 0s 5ms/step - loss: 0.6950 - accuracy: 0.9678 - val_loss: 0.6948 - val_accuracy: 0.9636\nEpoch 27/30\n28/28 [\u003d\u003d\u003d\u003d\u003d\u003d\u003d\u003d\u003d\u003d\u003d\u003d\u003d\u003d\u003d\u003d\u003d\u003d\u003d\u003d\u003d\u003d\u003d\u003d\u003d\u003d\u003d\u003d\u003d\u003d] - 0s 4ms/step - loss: 0.6949 - accuracy: 0.9678 - val_loss: 0.6946 - val_accuracy: 0.9636\nEpoch 28/30\n28/28 [\u003d\u003d\u003d\u003d\u003d\u003d\u003d\u003d\u003d\u003d\u003d\u003d\u003d\u003d\u003d\u003d\u003d\u003d\u003d\u003d\u003d\u003d\u003d\u003d\u003d\u003d\u003d\u003d\u003d\u003d] - 0s 5ms/step - loss: 0.6947 - accuracy: 0.9678 - val_loss: 0.6946 - val_accuracy: 0.9636\nEpoch 29/30\n28/28 [\u003d\u003d\u003d\u003d\u003d\u003d\u003d\u003d\u003d\u003d\u003d\u003d\u003d\u003d\u003d\u003d\u003d\u003d\u003d\u003d\u003d\u003d\u003d\u003d\u003d\u003d\u003d\u003d\u003d\u003d] - 0s 5ms/step - loss: 0.6946 - accuracy: 0.9678 - val_loss: 0.6945 - val_accuracy: 0.9636\nEpoch 30/30\n28/28 [\u003d\u003d\u003d\u003d\u003d\u003d\u003d\u003d\u003d\u003d\u003d\u003d\u003d\u003d\u003d\u003d\u003d\u003d\u003d\u003d\u003d\u003d\u003d\u003d\u003d\u003d\u003d\u003d\u003d\u003d] - 0s 5ms/step - loss: 0.6945 - accuracy: 0.9678 - val_loss: 0.6944 - val_accuracy: 0.9636\n",
          "name": "stdout"
        }
      ]
    },
    {
      "execution_count": 34,
      "cell_type": "code",
      "metadata": {},
      "source": [
        "autoencoder.summary()"
      ],
      "outputs": [
        {
          "output_type": "stream",
          "text": "Model: \"auto_encoder\"\n_________________________________________________________________\nLayer (type)                 Output Shape              Param #   \n\u003d\u003d\u003d\u003d\u003d\u003d\u003d\u003d\u003d\u003d\u003d\u003d\u003d\u003d\u003d\u003d\u003d\u003d\u003d\u003d\u003d\u003d\u003d\u003d\u003d\u003d\u003d\u003d\u003d\u003d\u003d\u003d\u003d\u003d\u003d\u003d\u003d\u003d\u003d\u003d\u003d\u003d\u003d\u003d\u003d\u003d\u003d\u003d\u003d\u003d\u003d\u003d\u003d\u003d\u003d\u003d\u003d\u003d\u003d\u003d\u003d\u003d\u003d\u003d\u003d\nsequential (Sequential)      (None, 2)                 5018      \n_________________________________________________________________\nsequential_1 (Sequential)    (None, 48, 1)             2578      \n\u003d\u003d\u003d\u003d\u003d\u003d\u003d\u003d\u003d\u003d\u003d\u003d\u003d\u003d\u003d\u003d\u003d\u003d\u003d\u003d\u003d\u003d\u003d\u003d\u003d\u003d\u003d\u003d\u003d\u003d\u003d\u003d\u003d\u003d\u003d\u003d\u003d\u003d\u003d\u003d\u003d\u003d\u003d\u003d\u003d\u003d\u003d\u003d\u003d\u003d\u003d\u003d\u003d\u003d\u003d\u003d\u003d\u003d\u003d\u003d\u003d\u003d\u003d\u003d\u003d\nTotal params: 7,596\nTrainable params: 7,468\nNon-trainable params: 128\n_________________________________________________________________\n",
          "name": "stdout"
        }
      ]
    },
    {
      "execution_count": 35,
      "cell_type": "code",
      "metadata": {},
      "source": [
        "#get layer shape \nlayers \u003d autoencoder.layers\n#first_layer \u003d layers[0] # usually the first layer is the input layer\n#print(first_layer.input_shape)  \n#print(autoencoder.layers[1].input_shape[0])\nfor i, layer in enumerate(autoencoder.encoder.layers):\n    print(f\"Layer {i}:\")\n    #input_tensor \u003d layer.input\n    #output_tensor \u003d layer.output\n    try:\n        weights\u003dlayer.get_weights()[0].shape\n    except:\n        #print(exception)\n        pass\n    print(f\"weights: {weights}\")\n    print(f\"Input shape: {layer.input_shape}\")\n    print(f\"Output shape: {layer.output_shape}\")"
      ],
      "outputs": [
        {
          "output_type": "stream",
          "text": "Layer 0:\nweights: (7, 1, 32)\nInput shape: (None, 48, 1)\nOutput shape: (None, 42, 32)\nLayer 1:\nweights: (7, 32, 16)\nInput shape: (None, 42, 32)\nOutput shape: (None, 36, 16)\nLayer 2:\nweights: (7, 32, 16)\nInput shape: (None, 36, 16)\nOutput shape: (None, 576)\nLayer 3:\nweights: (576, 2)\nInput shape: (None, 576)\nOutput shape: (None, 2)\nLayer 4:\nweights: (2,)\nInput shape: (None, 2)\nOutput shape: (None, 2)\n",
          "name": "stdout"
        }
      ]
    },
    {
      "execution_count": 36,
      "cell_type": "code",
      "metadata": {},
      "source": [
        "loss_values \u003d history.history[\u0027loss\u0027]\nval_loss\u003dhistory.history[\u0027val_loss\u0027]"
      ],
      "outputs": []
    },
    {
      "execution_count": 37,
      "cell_type": "code",
      "metadata": {},
      "source": [
        "accuracy\u003dhistory.history[\u0027accuracy\u0027]\nval_acc\u003dhistory.history[\u0027val_accuracy\u0027]"
      ],
      "outputs": []
    },
    {
      "execution_count": 38,
      "cell_type": "code",
      "metadata": {},
      "source": [
        "#loss_values"
      ],
      "outputs": []
    },
    {
      "execution_count": 39,
      "cell_type": "code",
      "metadata": {
        "scrolled": false
      },
      "source": [
        "plt.plot(loss_values, label\u003d\u0027Training Loss\u0027)\nplt.plot(val_loss,label\u003d\u0027Validation Loss\u0027)\nplt.legend(loc\u003d\u0027center left\u0027, bbox_to_anchor\u003d(1, 0.5))"
      ],
      "outputs": [
        {
          "output_type": "execute_result",
          "execution_count": 39,
          "data": {
            "text/plain": "\u003cmatplotlib.legend.Legend at 0x7fe65c4112b0\u003e"
          },
          "metadata": {}
        },
        {
          "output_type": "display_data",
          "data": {
            "text/plain": "\u003cFigure size 432x288 with 1 Axes\u003e",
            "image/png": "[encoded data removed]"
          },
          "metadata": {}
        }
      ]
    },
    {
      "execution_count": 40,
      "cell_type": "code",
      "metadata": {},
      "source": [
        "plt.plot(accuracy, label\u003d\u0027Training Accuracy\u0027)\nplt.plot(val_acc,label\u003d\u0027Validation Accuracy\u0027)\nplt.legend(loc\u003d\u0027center left\u0027, bbox_to_anchor\u003d(1, 0.5))"
      ],
      "outputs": [
        {
          "output_type": "execute_result",
          "execution_count": 40,
          "data": {
            "text/plain": "\u003cmatplotlib.legend.Legend at 0x7fe65c2a5d68\u003e"
          },
          "metadata": {}
        },
        {
          "output_type": "display_data",
          "data": {
            "text/plain": "\u003cFigure size 432x288 with 1 Axes\u003e",
            "image/png": "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\u003d\n"
          },
          "metadata": {}
        }
      ]
    },
    {
      "execution_count": 41,
      "cell_type": "code",
      "metadata": {},
      "source": [
        "encode_train\u003dautoencoder.encode(trainf)"
      ],
      "outputs": []
    },
    {
      "execution_count": 42,
      "cell_type": "code",
      "metadata": {},
      "source": [
        "decode_train\u003dautoencoder.decode(encode_train)"
      ],
      "outputs": []
    },
    {
      "execution_count": 43,
      "cell_type": "code",
      "metadata": {},
      "source": [
        "encode_train"
      ],
      "outputs": [
        {
          "output_type": "execute_result",
          "execution_count": 43,
          "data": {
            "text/plain": "\u003ctf.Tensor: shape\u003d(633, 2), dtype\u003dfloat32, numpy\u003d\narray([[ 0.3789575 , -1.2664014 ],\n       [-0.64785075, -0.2798856 ],\n       [-0.5143453 ,  0.71015906],\n       ...,\n       [ 1.1922355 ,  1.0309862 ],\n       [-1.9115372 , -1.2402143 ],\n       [ 2.6522841 ,  0.97554505]], dtype\u003dfloat32)\u003e"
          },
          "metadata": {}
        }
      ]
    },
    {
      "execution_count": 44,
      "cell_type": "code",
      "metadata": {},
      "source": [
        "decode_train"
      ],
      "outputs": [
        {
          "output_type": "execute_result",
          "execution_count": 44,
          "data": {
            "text/plain": "\u003ctf.Tensor: shape\u003d(633, 48, 1), dtype\u003dfloat32, numpy\u003d\narray([[[0.00238545],\n        [0.00371129],\n        [0.00225929],\n        ...,\n        [0.00343212],\n        [0.00287213],\n        [0.00305542]],\n\n       [[0.00258826],\n        [0.00387709],\n        [0.00242238],\n        ...,\n        [0.00344064],\n        [0.00293347],\n        [0.00323281]],\n\n       [[0.00291344],\n        [0.00399154],\n        [0.00256863],\n        ...,\n        [0.00329537],\n        [0.00291579],\n        [0.00369062]],\n\n       ...,\n\n       [[0.00252436],\n        [0.00378962],\n        [0.00238707],\n        ...,\n        [0.00281707],\n        [0.00175126],\n        [0.00329219]],\n\n       [[0.00582054],\n        [0.00246272],\n        [0.00429492],\n        ...,\n        [0.00238161],\n        [0.00220023],\n        [0.00384413]],\n\n       [[0.00228628],\n        [0.00200083],\n        [0.00233314],\n        ...,\n        [0.00383248],\n        [0.00296914],\n        [0.00543128]]], dtype\u003dfloat32)\u003e"
          },
          "metadata": {}
        }
      ]
    },
    {
      "execution_count": 45,
      "cell_type": "code",
      "metadata": {},
      "source": [
        "encode_train_df\u003dpd.DataFrame(encode_train.numpy(),columns \u003d [\u0027x\u0027,\u0027y\u0027])"
      ],
      "outputs": []
    },
    {
      "execution_count": 46,
      "cell_type": "code",
      "metadata": {},
      "source": [
        "#decode_train_df\u003dpd.DataFrame(decode_train.numpy())"
      ],
      "outputs": []
    },
    {
      "execution_count": 47,
      "cell_type": "code",
      "metadata": {},
      "source": [
        "encode_train_df"
      ],
      "outputs": [
        {
          "output_type": "execute_result",
          "execution_count": 47,
          "data": {
            "text/plain": "            x         y\n0    0.378958 -1.266401\n1   -0.647851 -0.279886\n2   -0.514345  0.710159\n3   -1.151906 -0.346298\n4    2.129680  0.565726\n..        ...       ...\n628 -0.286116 -0.273933\n629 -0.549200 -0.383638\n630  1.192235  1.030986\n631 -1.911537 -1.240214\n632  2.652284  0.975545\n\n[633 rows x 2 columns]",
            "text/html": "\n            \u003cbutton style\u003d\"display:none\" \n            class\u003d\"btn btn-default ipython-export-btn\" \n            id\u003d\"btn-df-e04547d8-9edf-4f02-a3d6-11a1e45215c5\" \n            onclick\u003d\"_export_df(\u0027e04547d8-9edf-4f02-a3d6-11a1e45215c5\u0027)\"\u003e\n                Export dataframe\n            \u003c/button\u003e\n            \n            \u003cscript\u003e\n                \n                function _check_export_df_possible(dfid,yes_fn,no_fn) {\n                    console.log(\u0027Checking dataframe exportability...\u0027)\n                    if(!IPython || !IPython.notebook || !IPython.notebook.kernel || !IPython.notebook.kernel) {\n                        console.log(\u0027Export is not possible (IPython kernel is not available)\u0027)\n                        if(no_fn) {\n                            no_fn();\n                        }\n                    } else {\n                        var pythonCode \u003d \u0027from dataiku.notebook.export import IPythonExporter;IPythonExporter._check_export_stdout(\"\u0027+dfid+\u0027\")\u0027;\n                        IPython.notebook.kernel.execute(pythonCode,{iopub: {output: function(resp) {\n                            console.info(\"Exportability response\", resp);\n                            var size \u003d /^([0-9]+)x([0-9]+)$/.exec(resp.content.data || resp.content.text)\n                            if(!size) {\n                                console.log(\u0027Export is not possible (dataframe is not in-memory anymore)\u0027)\n                                if(no_fn) {\n                                    no_fn();\n                                }\n                            } else {\n                                console.log(\u0027Export is possible\u0027)\n                                if(yes_fn) {\n                                    yes_fn(1*size[1],1*size[2]);\n                                }\n                            }\n                        }}});\n                    }\n                }\n            \n                function _export_df(dfid) {\n                    \n                    var btn \u003d $(\u0027#btn-df-\u0027+dfid);\n                    var btns \u003d $(\u0027.ipython-export-btn\u0027);\n                    \n                    _check_export_df_possible(dfid,function() {\n                        \n                        window.parent.openExportModalFromIPython(\u0027Pandas dataframe\u0027,function(data) {\n                            btns.prop(\u0027disabled\u0027,true);\n                            btn.text(\u0027Exporting...\u0027);\n                            var command \u003d \u0027from dataiku.notebook.export import IPythonExporter;IPythonExporter._run_export(\"\u0027+dfid+\u0027\",\"\u0027+data.exportId+\u0027\")\u0027;\n                            var callback \u003d {iopub:{output: function(resp) {\n                                console.info(\"CB resp:\", resp);\n                                _check_export_df_possible(dfid,function(rows, cols) {\n                                    $(\u0027#btn-df-\u0027+dfid)\n                                        .css(\u0027display\u0027,\u0027inline-block\u0027)\n                                        .text(\u0027Export this dataframe (\u0027+rows+\u0027 rows, \u0027+cols+\u0027 cols)\u0027)\n                                        .prop(\u0027disabled\u0027,false);\n                                },function() {\n                                    $(\u0027#btn-df-\u0027+dfid).css(\u0027display\u0027,\u0027none\u0027);\n                                });\n                            }}};\n                            IPython.notebook.kernel.execute(command,callback,{silent:false}); // yes, silent now defaults to true. figures.\n                        });\n                    \n                    }, function(){\n                            alert(\u0027Unable to export : the Dataframe object is not loaded in memory\u0027);\n                            btn.css(\u0027display\u0027,\u0027none\u0027);\n                    });\n                    \n                }\n                \n                (function(dfid) {\n                \n                    var retryCount \u003d 10;\n                \n                    function is_valid_websock(s) {\n                        return s \u0026\u0026 s.readyState\u003d\u003d1;\n                    }\n                \n                    function check_conn() {\n                        \n                        if(!IPython || !IPython.notebook) {\n                            // Don\u0027t even try to go further\n                            return;\n                        }\n                        \n                        // Check if IPython is ready\n                        console.info(\"Checking conn ...\")\n                        if(IPython.notebook.kernel\n                        \u0026\u0026 IPython.notebook.kernel\n                        \u0026\u0026 is_valid_websock(IPython.notebook.kernel.ws)\n                        ) {\n                            \n                            _check_export_df_possible(dfid,function(rows, cols) {\n                                $(\u0027#btn-df-\u0027+dfid).css(\u0027display\u0027,\u0027inline-block\u0027);\n                                $(\u0027#btn-df-\u0027+dfid).text(\u0027Export this dataframe (\u0027+rows+\u0027 rows, \u0027+cols+\u0027 cols)\u0027);\n                            });\n                            \n                        } else {\n                            console.info(\"Conditions are not ok\", IPython.notebook.kernel);\n                            \n                            // Retry later\n                            \n                            if(retryCount\u003e0) {\n                                setTimeout(check_conn,500);\n                                retryCount--;\n                            }\n                            \n                        }\n                    };\n                    \n                    setTimeout(check_conn,100);\n                    \n                })(\"e04547d8-9edf-4f02-a3d6-11a1e45215c5\");\n                \n            \u003c/script\u003e\n            \n        \u003cdiv\u003e\n\u003cstyle scoped\u003e\n    .dataframe tbody tr th:only-of-type {\n        vertical-align: middle;\n    }\n\n    .dataframe tbody tr th {\n        vertical-align: top;\n    }\n\n    .dataframe thead th {\n        text-align: right;\n    }\n\u003c/style\u003e\n\u003ctable border\u003d\"1\" class\u003d\"dataframe\"\u003e\n  \u003cthead\u003e\n    \u003ctr style\u003d\"text-align: right;\"\u003e\n      \u003cth\u003e\u003c/th\u003e\n      \u003cth\u003ex\u003c/th\u003e\n      \u003cth\u003ey\u003c/th\u003e\n    \u003c/tr\u003e\n  \u003c/thead\u003e\n  \u003ctbody\u003e\n    \u003ctr\u003e\n      \u003cth\u003e0\u003c/th\u003e\n      \u003ctd\u003e0.378958\u003c/td\u003e\n      \u003ctd\u003e-1.266401\u003c/td\u003e\n    \u003c/tr\u003e\n    \u003ctr\u003e\n      \u003cth\u003e1\u003c/th\u003e\n      \u003ctd\u003e-0.647851\u003c/td\u003e\n      \u003ctd\u003e-0.279886\u003c/td\u003e\n    \u003c/tr\u003e\n    \u003ctr\u003e\n      \u003cth\u003e2\u003c/th\u003e\n      \u003ctd\u003e-0.514345\u003c/td\u003e\n      \u003ctd\u003e0.710159\u003c/td\u003e\n    \u003c/tr\u003e\n    \u003ctr\u003e\n      \u003cth\u003e3\u003c/th\u003e\n      \u003ctd\u003e-1.151906\u003c/td\u003e\n      \u003ctd\u003e-0.346298\u003c/td\u003e\n    \u003c/tr\u003e\n    \u003ctr\u003e\n      \u003cth\u003e4\u003c/th\u003e\n      \u003ctd\u003e2.129680\u003c/td\u003e\n      \u003ctd\u003e0.565726\u003c/td\u003e\n    \u003c/tr\u003e\n    \u003ctr\u003e\n      \u003cth\u003e...\u003c/th\u003e\n      \u003ctd\u003e...\u003c/td\u003e\n      \u003ctd\u003e...\u003c/td\u003e\n    \u003c/tr\u003e\n    \u003ctr\u003e\n      \u003cth\u003e628\u003c/th\u003e\n      \u003ctd\u003e-0.286116\u003c/td\u003e\n      \u003ctd\u003e-0.273933\u003c/td\u003e\n    \u003c/tr\u003e\n    \u003ctr\u003e\n      \u003cth\u003e629\u003c/th\u003e\n      \u003ctd\u003e-0.549200\u003c/td\u003e\n      \u003ctd\u003e-0.383638\u003c/td\u003e\n    \u003c/tr\u003e\n    \u003ctr\u003e\n      \u003cth\u003e630\u003c/th\u003e\n      \u003ctd\u003e1.192235\u003c/td\u003e\n      \u003ctd\u003e1.030986\u003c/td\u003e\n    \u003c/tr\u003e\n    \u003ctr\u003e\n      \u003cth\u003e631\u003c/th\u003e\n      \u003ctd\u003e-1.911537\u003c/td\u003e\n      \u003ctd\u003e-1.240214\u003c/td\u003e\n    \u003c/tr\u003e\n    \u003ctr\u003e\n      \u003cth\u003e632\u003c/th\u003e\n      \u003ctd\u003e2.652284\u003c/td\u003e\n      \u003ctd\u003e0.975545\u003c/td\u003e\n    \u003c/tr\u003e\n  \u003c/tbody\u003e\n\u003c/table\u003e\n\u003cp\u003e633 rows × 2 columns\u003c/p\u003e\n\u003c/div\u003e"
          },
          "metadata": {}
        }
      ]
    },
    {
      "execution_count": 48,
      "cell_type": "code",
      "metadata": {},
      "source": [
        "#decode_train_df"
      ],
      "outputs": []
    },
    {
      "cell_type": "markdown",
      "metadata": {},
      "source": [
        "#not used currently\nimport math\ndef sigmoid(x): \n    return np.clip(1 / (1 + np.exp(-x)), 0.000001, 0.999999)\ndecode_test_df \u003d decode_train_df.applymap(sigmoid)"
      ]
    },
    {
      "execution_count": 49,
      "cell_type": "code",
      "metadata": {},
      "source": [
        "#decode_train_df"
      ],
      "outputs": []
    },
    {
      "execution_count": 50,
      "cell_type": "code",
      "metadata": {},
      "source": [
        "sns.pairplot(encode_train_df)"
      ],
      "outputs": [
        {
          "output_type": "execute_result",
          "execution_count": 50,
          "data": {
            "text/plain": "\u003cseaborn.axisgrid.PairGrid at 0x7fe65c2426a0\u003e"
          },
          "metadata": {}
        },
        {
          "output_type": "display_data",
          "data": {
            "text/plain": "\u003cFigure size 360x360 with 6 Axes\u003e",
            "image/png": "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\u003d\u003d\n"
          },
          "metadata": {}
        }
      ]
    },
    {
      "execution_count": 51,
      "cell_type": "code",
      "metadata": {},
      "source": [
        "encode_test\u003dautoencoder.encode(testf)\nencode_test_df\u003dpd.DataFrame(encode_test.numpy(),columns \u003d [\u0027x\u0027,\u0027y\u0027])"
      ],
      "outputs": []
    },
    {
      "execution_count": 52,
      "cell_type": "code",
      "metadata": {},
      "source": [
        "from sklearn.cluster import KMeans\nfrom sklearn.cluster import DBSCAN"
      ],
      "outputs": []
    },
    {
      "execution_count": 53,
      "cell_type": "code",
      "metadata": {},
      "source": [
        "dbscan\u003dDBSCAN(eps \u003d 0.0001, min_samples \u003d2)\ndbscan.fit(encode_train_df[[\u0027x\u0027]],encode_train_df[[\u0027y\u0027]])\nencode_train_df[\u0027dbs\u0027]\u003ddbscan.labels_"
      ],
      "outputs": []
    },
    {
      "execution_count": 54,
      "cell_type": "code",
      "metadata": {},
      "source": [
        "dbscan.fit_predict(encode_test_df[[\u0027x\u0027]],encode_test_df[[\u0027y\u0027]])\nencode_test_df[\u0027dbs\u0027]\u003ddbscan.labels_"
      ],
      "outputs": []
    },
    {
      "execution_count": 55,
      "cell_type": "code",
      "metadata": {},
      "source": [
        "sc\u003dplt.scatter(x\u003dencode_train_df[[\u0027x\u0027]],y\u003dencode_train_df[\u0027y\u0027],c\u003dencode_train_df[\u0027dbs\u0027])\nplt.legend(*sc.legend_elements(), title\u003d\u0027clusters\u0027,loc\u003d\u0027center left\u0027, bbox_to_anchor\u003d(1, 0.5))"
      ],
      "outputs": [
        {
          "output_type": "execute_result",
          "execution_count": 55,
          "data": {
            "text/plain": "\u003cmatplotlib.legend.Legend at 0x7fe5f4136a90\u003e"
          },
          "metadata": {}
        },
        {
          "output_type": "display_data",
          "data": {
            "text/plain": "\u003cFigure size 432x288 with 1 Axes\u003e",
            "image/png": "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\u003d\n"
          },
          "metadata": {}
        }
      ]
    },
    {
      "execution_count": 56,
      "cell_type": "code",
      "metadata": {},
      "source": [
        "encode_train_df[\u0027dbs\u0027].value_counts()"
      ],
      "outputs": [
        {
          "output_type": "execute_result",
          "execution_count": 56,
          "data": {
            "text/plain": "-1     100\n 16     29\n 6      24\n 3      21\n 4      19\n 0      18\n 21     18\n 20     17\n 18     17\n 37     14\n 9      14\n 28     14\n 23     14\n 43     14\n 31     13\n 19     13\n 12     13\n 45     11\n 44     10\n 34     10\n 49     10\n 14     10\n 48     10\n 41      9\n 22      9\n 5       9\n 30      8\n 53      8\n 40      8\n 33      7\n 55      7\n 29      7\n 8       7\n 26      7\n 25      7\n 11      7\n 51      7\n 35      6\n 2       6\n 58      6\n 10      6\n 17      6\n 1       6\n 27      6\n 32      5\n 57      5\n 38      5\n 15      4\n 36      3\n 47      3\n 13      3\n 54      3\n 24      2\n 39      2\n 50      2\n 7       2\n 60      2\n 56      2\n 52      2\n 42      2\n 46      2\n 59      2\nName: dbs, dtype: int64"
          },
          "metadata": {}
        }
      ]
    },
    {
      "execution_count": 57,
      "cell_type": "code",
      "metadata": {},
      "source": [
        "encode_train_df[encode_train_df[\u0027dbs\u0027]\u003d\u003d20]"
      ],
      "outputs": [
        {
          "output_type": "execute_result",
          "execution_count": 57,
          "data": {
            "text/plain": "            x         y  dbs\n33  -0.677253 -0.414627   20\n69  -0.677253 -0.414627   20\n73  -0.677253 -0.414627   20\n84  -0.677253 -0.414627   20\n98  -0.677253 -0.414627   20\n103 -0.677253 -0.414627   20\n141 -0.677253 -0.414627   20\n178 -0.677253 -0.414627   20\n211 -0.677253 -0.414627   20\n250 -0.677253 -0.414627   20\n256 -0.677253 -0.414627   20\n308 -0.677253 -0.414627   20\n314 -0.677253 -0.414627   20\n317 -0.677253 -0.414627   20\n388 -0.677253 -0.414627   20\n430 -0.677253 -0.414627   20\n482 -0.677253 -0.414627   20",
            "text/html": "\n            \u003cbutton style\u003d\"display:none\" \n            class\u003d\"btn btn-default ipython-export-btn\" \n            id\u003d\"btn-df-765f4957-9614-4a6c-a02d-4d938b43e429\" \n            onclick\u003d\"_export_df(\u0027765f4957-9614-4a6c-a02d-4d938b43e429\u0027)\"\u003e\n                Export dataframe\n            \u003c/button\u003e\n            \n            \u003cscript\u003e\n                \n                function _check_export_df_possible(dfid,yes_fn,no_fn) {\n                    console.log(\u0027Checking dataframe exportability...\u0027)\n                    if(!IPython || !IPython.notebook || !IPython.notebook.kernel || !IPython.notebook.kernel) {\n                        console.log(\u0027Export is not possible (IPython kernel is not available)\u0027)\n                        if(no_fn) {\n                            no_fn();\n                        }\n                    } else {\n                        var pythonCode \u003d \u0027from dataiku.notebook.export import IPythonExporter;IPythonExporter._check_export_stdout(\"\u0027+dfid+\u0027\")\u0027;\n                        IPython.notebook.kernel.execute(pythonCode,{iopub: {output: function(resp) {\n                            console.info(\"Exportability response\", resp);\n                            var size \u003d /^([0-9]+)x([0-9]+)$/.exec(resp.content.data || resp.content.text)\n                            if(!size) {\n                                console.log(\u0027Export is not possible (dataframe is not in-memory anymore)\u0027)\n                                if(no_fn) {\n                                    no_fn();\n                                }\n                            } else {\n                                console.log(\u0027Export is possible\u0027)\n                                if(yes_fn) {\n                                    yes_fn(1*size[1],1*size[2]);\n                                }\n                            }\n                        }}});\n                    }\n                }\n            \n                function _export_df(dfid) {\n                    \n                    var btn \u003d $(\u0027#btn-df-\u0027+dfid);\n                    var btns \u003d $(\u0027.ipython-export-btn\u0027);\n                    \n                    _check_export_df_possible(dfid,function() {\n                        \n                        window.parent.openExportModalFromIPython(\u0027Pandas dataframe\u0027,function(data) {\n                            btns.prop(\u0027disabled\u0027,true);\n                            btn.text(\u0027Exporting...\u0027);\n                            var command \u003d \u0027from dataiku.notebook.export import IPythonExporter;IPythonExporter._run_export(\"\u0027+dfid+\u0027\",\"\u0027+data.exportId+\u0027\")\u0027;\n                            var callback \u003d {iopub:{output: function(resp) {\n                                console.info(\"CB resp:\", resp);\n                                _check_export_df_possible(dfid,function(rows, cols) {\n                                    $(\u0027#btn-df-\u0027+dfid)\n                                        .css(\u0027display\u0027,\u0027inline-block\u0027)\n                                        .text(\u0027Export this dataframe (\u0027+rows+\u0027 rows, \u0027+cols+\u0027 cols)\u0027)\n                                        .prop(\u0027disabled\u0027,false);\n                                },function() {\n                                    $(\u0027#btn-df-\u0027+dfid).css(\u0027display\u0027,\u0027none\u0027);\n                                });\n                            }}};\n                            IPython.notebook.kernel.execute(command,callback,{silent:false}); // yes, silent now defaults to true. figures.\n                        });\n                    \n                    }, function(){\n                            alert(\u0027Unable to export : the Dataframe object is not loaded in memory\u0027);\n                            btn.css(\u0027display\u0027,\u0027none\u0027);\n                    });\n                    \n                }\n                \n                (function(dfid) {\n                \n                    var retryCount \u003d 10;\n                \n                    function is_valid_websock(s) {\n                        return s \u0026\u0026 s.readyState\u003d\u003d1;\n                    }\n                \n                    function check_conn() {\n                        \n                        if(!IPython || !IPython.notebook) {\n                            // Don\u0027t even try to go further\n                            return;\n                        }\n                        \n                        // Check if IPython is ready\n                        console.info(\"Checking conn ...\")\n                        if(IPython.notebook.kernel\n                        \u0026\u0026 IPython.notebook.kernel\n                        \u0026\u0026 is_valid_websock(IPython.notebook.kernel.ws)\n                        ) {\n                            \n                            _check_export_df_possible(dfid,function(rows, cols) {\n                                $(\u0027#btn-df-\u0027+dfid).css(\u0027display\u0027,\u0027inline-block\u0027);\n                                $(\u0027#btn-df-\u0027+dfid).text(\u0027Export this dataframe (\u0027+rows+\u0027 rows, \u0027+cols+\u0027 cols)\u0027);\n                            });\n                            \n                        } else {\n                            console.info(\"Conditions are not ok\", IPython.notebook.kernel);\n                            \n                            // Retry later\n                            \n                            if(retryCount\u003e0) {\n                                setTimeout(check_conn,500);\n                                retryCount--;\n                            }\n                            \n                        }\n                    };\n                    \n                    setTimeout(check_conn,100);\n                    \n                })(\"765f4957-9614-4a6c-a02d-4d938b43e429\");\n                \n            \u003c/script\u003e\n            \n        \u003cdiv\u003e\n\u003cstyle scoped\u003e\n    .dataframe tbody tr th:only-of-type {\n        vertical-align: middle;\n    }\n\n    .dataframe tbody tr th {\n        vertical-align: top;\n    }\n\n    .dataframe thead th {\n        text-align: right;\n    }\n\u003c/style\u003e\n\u003ctable border\u003d\"1\" class\u003d\"dataframe\"\u003e\n  \u003cthead\u003e\n    \u003ctr style\u003d\"text-align: right;\"\u003e\n      \u003cth\u003e\u003c/th\u003e\n      \u003cth\u003ex\u003c/th\u003e\n      \u003cth\u003ey\u003c/th\u003e\n      \u003cth\u003edbs\u003c/th\u003e\n    \u003c/tr\u003e\n  \u003c/thead\u003e\n  \u003ctbody\u003e\n    \u003ctr\u003e\n      \u003cth\u003e33\u003c/th\u003e\n      \u003ctd\u003e-0.677253\u003c/td\u003e\n      \u003ctd\u003e-0.414627\u003c/td\u003e\n      \u003ctd\u003e20\u003c/td\u003e\n    \u003c/tr\u003e\n    \u003ctr\u003e\n      \u003cth\u003e69\u003c/th\u003e\n      \u003ctd\u003e-0.677253\u003c/td\u003e\n      \u003ctd\u003e-0.414627\u003c/td\u003e\n      \u003ctd\u003e20\u003c/td\u003e\n    \u003c/tr\u003e\n    \u003ctr\u003e\n      \u003cth\u003e73\u003c/th\u003e\n      \u003ctd\u003e-0.677253\u003c/td\u003e\n      \u003ctd\u003e-0.414627\u003c/td\u003e\n      \u003ctd\u003e20\u003c/td\u003e\n    \u003c/tr\u003e\n    \u003ctr\u003e\n      \u003cth\u003e84\u003c/th\u003e\n      \u003ctd\u003e-0.677253\u003c/td\u003e\n      \u003ctd\u003e-0.414627\u003c/td\u003e\n      \u003ctd\u003e20\u003c/td\u003e\n    \u003c/tr\u003e\n    \u003ctr\u003e\n      \u003cth\u003e98\u003c/th\u003e\n      \u003ctd\u003e-0.677253\u003c/td\u003e\n      \u003ctd\u003e-0.414627\u003c/td\u003e\n      \u003ctd\u003e20\u003c/td\u003e\n    \u003c/tr\u003e\n    \u003ctr\u003e\n      \u003cth\u003e103\u003c/th\u003e\n      \u003ctd\u003e-0.677253\u003c/td\u003e\n      \u003ctd\u003e-0.414627\u003c/td\u003e\n      \u003ctd\u003e20\u003c/td\u003e\n    \u003c/tr\u003e\n    \u003ctr\u003e\n      \u003cth\u003e141\u003c/th\u003e\n      \u003ctd\u003e-0.677253\u003c/td\u003e\n      \u003ctd\u003e-0.414627\u003c/td\u003e\n      \u003ctd\u003e20\u003c/td\u003e\n    \u003c/tr\u003e\n    \u003ctr\u003e\n      \u003cth\u003e178\u003c/th\u003e\n      \u003ctd\u003e-0.677253\u003c/td\u003e\n      \u003ctd\u003e-0.414627\u003c/td\u003e\n      \u003ctd\u003e20\u003c/td\u003e\n    \u003c/tr\u003e\n    \u003ctr\u003e\n      \u003cth\u003e211\u003c/th\u003e\n      \u003ctd\u003e-0.677253\u003c/td\u003e\n      \u003ctd\u003e-0.414627\u003c/td\u003e\n      \u003ctd\u003e20\u003c/td\u003e\n    \u003c/tr\u003e\n    \u003ctr\u003e\n      \u003cth\u003e250\u003c/th\u003e\n      \u003ctd\u003e-0.677253\u003c/td\u003e\n      \u003ctd\u003e-0.414627\u003c/td\u003e\n      \u003ctd\u003e20\u003c/td\u003e\n    \u003c/tr\u003e\n    \u003ctr\u003e\n      \u003cth\u003e256\u003c/th\u003e\n      \u003ctd\u003e-0.677253\u003c/td\u003e\n      \u003ctd\u003e-0.414627\u003c/td\u003e\n      \u003ctd\u003e20\u003c/td\u003e\n    \u003c/tr\u003e\n    \u003ctr\u003e\n      \u003cth\u003e308\u003c/th\u003e\n      \u003ctd\u003e-0.677253\u003c/td\u003e\n      \u003ctd\u003e-0.414627\u003c/td\u003e\n      \u003ctd\u003e20\u003c/td\u003e\n    \u003c/tr\u003e\n    \u003ctr\u003e\n      \u003cth\u003e314\u003c/th\u003e\n      \u003ctd\u003e-0.677253\u003c/td\u003e\n      \u003ctd\u003e-0.414627\u003c/td\u003e\n      \u003ctd\u003e20\u003c/td\u003e\n    \u003c/tr\u003e\n    \u003ctr\u003e\n      \u003cth\u003e317\u003c/th\u003e\n      \u003ctd\u003e-0.677253\u003c/td\u003e\n      \u003ctd\u003e-0.414627\u003c/td\u003e\n      \u003ctd\u003e20\u003c/td\u003e\n    \u003c/tr\u003e\n    \u003ctr\u003e\n      \u003cth\u003e388\u003c/th\u003e\n      \u003ctd\u003e-0.677253\u003c/td\u003e\n      \u003ctd\u003e-0.414627\u003c/td\u003e\n      \u003ctd\u003e20\u003c/td\u003e\n    \u003c/tr\u003e\n    \u003ctr\u003e\n      \u003cth\u003e430\u003c/th\u003e\n      \u003ctd\u003e-0.677253\u003c/td\u003e\n      \u003ctd\u003e-0.414627\u003c/td\u003e\n      \u003ctd\u003e20\u003c/td\u003e\n    \u003c/tr\u003e\n    \u003ctr\u003e\n      \u003cth\u003e482\u003c/th\u003e\n      \u003ctd\u003e-0.677253\u003c/td\u003e\n      \u003ctd\u003e-0.414627\u003c/td\u003e\n      \u003ctd\u003e20\u003c/td\u003e\n    \u003c/tr\u003e\n  \u003c/tbody\u003e\n\u003c/table\u003e\n\u003c/div\u003e"
          },
          "metadata": {}
        }
      ]
    },
    {
      "execution_count": 58,
      "cell_type": "code",
      "metadata": {},
      "source": [
        "plt.imshow(trainf[37])"
      ],
      "outputs": [
        {
          "output_type": "execute_result",
          "execution_count": 58,
          "data": {
            "text/plain": "\u003cmatplotlib.image.AxesImage at 0x7fe5ac04a160\u003e"
          },
          "metadata": {}
        },
        {
          "output_type": "display_data",
          "data": {
            "text/plain": "\u003cFigure size 432x288 with 1 Axes\u003e",
            "image/png": "[encoded data removed]"
          },
          "metadata": {}
        }
      ]
    },
    {
      "execution_count": 59,
      "cell_type": "code",
      "metadata": {},
      "source": [
        "plt.imshow(trainf[150])"
      ],
      "outputs": [
        {
          "output_type": "execute_result",
          "execution_count": 59,
          "data": {
            "text/plain": "\u003cmatplotlib.image.AxesImage at 0x7fe58c157dd8\u003e"
          },
          "metadata": {}
        },
        {
          "output_type": "display_data",
          "data": {
            "text/plain": "\u003cFigure size 432x288 with 1 Axes\u003e",
            "image/png": "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\u003d\n"
          },
          "metadata": {}
        }
      ]
    },
    {
      "execution_count": 60,
      "cell_type": "code",
      "metadata": {},
      "source": [
        "plt.imshow(trainf[189])"
      ],
      "outputs": [
        {
          "output_type": "execute_result",
          "execution_count": 60,
          "data": {
            "text/plain": "\u003cmatplotlib.image.AxesImage at 0x7fe58c123a58\u003e"
          },
          "metadata": {}
        },
        {
          "output_type": "display_data",
          "data": {
            "text/plain": "\u003cFigure size 432x288 with 1 Axes\u003e",
            "image/png": "[encoded data removed]"
          },
          "metadata": {}
        }
      ]
    },
    {
      "execution_count": 61,
      "cell_type": "code",
      "metadata": {},
      "source": [
        "plt.imshow(trainf[234])"
      ],
      "outputs": [
        {
          "output_type": "execute_result",
          "execution_count": 61,
          "data": {
            "text/plain": "\u003cmatplotlib.image.AxesImage at 0x7fe58c0f26d8\u003e"
          },
          "metadata": {}
        },
        {
          "output_type": "display_data",
          "data": {
            "text/plain": "\u003cFigure size 432x288 with 1 Axes\u003e",
            "image/png": "[encoded data removed]"
          },
          "metadata": {}
        }
      ]
    },
    {
      "execution_count": 62,
      "cell_type": "code",
      "metadata": {},
      "source": [
        "sc\u003dplt.scatter(x\u003dencode_test_df[[\u0027x\u0027]],y\u003dencode_test_df[\u0027y\u0027],c\u003dencode_test_df[\u0027dbs\u0027])\nplt.legend(*sc.legend_elements(), title\u003d\u0027clusters\u0027,loc\u003d\u0027center left\u0027, bbox_to_anchor\u003d(1, 0.5))"
      ],
      "outputs": [
        {
          "output_type": "execute_result",
          "execution_count": 62,
          "data": {
            "text/plain": "\u003cmatplotlib.legend.Legend at 0x7fe58c0f2a58\u003e"
          },
          "metadata": {}
        },
        {
          "output_type": "display_data",
          "data": {
            "text/plain": "\u003cFigure size 432x288 with 1 Axes\u003e",
            "image/png": "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\u003d\u003d\n"
          },
          "metadata": {}
        }
      ]
    },
    {
      "execution_count": 63,
      "cell_type": "code",
      "metadata": {
        "scrolled": false
      },
      "source": [
        "c\u003dencode_test_df.dbs.value_counts()\nclusters\u003dpd.DataFrame(c)"
      ],
      "outputs": []
    },
    {
      "execution_count": 64,
      "cell_type": "code",
      "metadata": {},
      "source": [
        "clusters.drop(index\u003d-1,inplace\u003dTrue)"
      ],
      "outputs": []
    },
    {
      "execution_count": 65,
      "cell_type": "code",
      "metadata": {},
      "source": [
        "clusters\u003dclusters.reset_index()\nclusters\u003dclusters.rename(columns\u003d{\u0027dbs\u0027:\u0027size\u0027,\u0027index\u0027:\u0027cluster_index\u0027})"
      ],
      "outputs": []
    },
    {
      "execution_count": 66,
      "cell_type": "code",
      "metadata": {},
      "source": [
        "clusters"
      ],
      "outputs": [
        {
          "output_type": "execute_result",
          "execution_count": 66,
          "data": {
            "text/plain": "    cluster_index  size\n0               3     9\n1              18     8\n2               4     7\n3               9     7\n4               7     5\n5              14     5\n6              13     5\n7               0     5\n8              27     4\n9              25     4\n10              8     4\n11             22     4\n12             21     4\n13             11     4\n14             24     4\n15              6     3\n16              5     3\n17              1     3\n18             12     3\n19             17     3\n20             15     3\n21             16     3\n22             33     3\n23             19     3\n24             23     3\n25             28     3\n26             29     3\n27             20     2\n28             26     2\n29             30     2\n30             31     2\n31              2     2\n32             32     2\n33             10     2",
            "text/html": "\n            \u003cbutton style\u003d\"display:none\" \n            class\u003d\"btn btn-default ipython-export-btn\" \n            id\u003d\"btn-df-d55b8254-1dbc-43fe-b4b1-ac2f3c6d01c1\" \n            onclick\u003d\"_export_df(\u0027d55b8254-1dbc-43fe-b4b1-ac2f3c6d01c1\u0027)\"\u003e\n                Export dataframe\n            \u003c/button\u003e\n            \n            \u003cscript\u003e\n                \n                function _check_export_df_possible(dfid,yes_fn,no_fn) {\n                    console.log(\u0027Checking dataframe exportability...\u0027)\n                    if(!IPython || !IPython.notebook || !IPython.notebook.kernel || !IPython.notebook.kernel) {\n                        console.log(\u0027Export is not possible (IPython kernel is not available)\u0027)\n                        if(no_fn) {\n                            no_fn();\n                        }\n                    } else {\n                        var pythonCode \u003d \u0027from dataiku.notebook.export import IPythonExporter;IPythonExporter._check_export_stdout(\"\u0027+dfid+\u0027\")\u0027;\n                        IPython.notebook.kernel.execute(pythonCode,{iopub: {output: function(resp) {\n                            console.info(\"Exportability response\", resp);\n                            var size \u003d /^([0-9]+)x([0-9]+)$/.exec(resp.content.data || resp.content.text)\n                            if(!size) {\n                                console.log(\u0027Export is not possible (dataframe is not in-memory anymore)\u0027)\n                                if(no_fn) {\n                                    no_fn();\n                                }\n                            } else {\n                                console.log(\u0027Export is possible\u0027)\n                                if(yes_fn) {\n                                    yes_fn(1*size[1],1*size[2]);\n                                }\n                            }\n                        }}});\n                    }\n                }\n            \n                function _export_df(dfid) {\n                    \n                    var btn \u003d $(\u0027#btn-df-\u0027+dfid);\n                    var btns \u003d $(\u0027.ipython-export-btn\u0027);\n                    \n                    _check_export_df_possible(dfid,function() {\n                        \n                        window.parent.openExportModalFromIPython(\u0027Pandas dataframe\u0027,function(data) {\n                            btns.prop(\u0027disabled\u0027,true);\n                            btn.text(\u0027Exporting...\u0027);\n                            var command \u003d \u0027from dataiku.notebook.export import IPythonExporter;IPythonExporter._run_export(\"\u0027+dfid+\u0027\",\"\u0027+data.exportId+\u0027\")\u0027;\n                            var callback \u003d {iopub:{output: function(resp) {\n                                console.info(\"CB resp:\", resp);\n                                _check_export_df_possible(dfid,function(rows, cols) {\n                                    $(\u0027#btn-df-\u0027+dfid)\n                                        .css(\u0027display\u0027,\u0027inline-block\u0027)\n                                        .text(\u0027Export this dataframe (\u0027+rows+\u0027 rows, \u0027+cols+\u0027 cols)\u0027)\n                                        .prop(\u0027disabled\u0027,false);\n                                },function() {\n                                    $(\u0027#btn-df-\u0027+dfid).css(\u0027display\u0027,\u0027none\u0027);\n                                });\n                            }}};\n                            IPython.notebook.kernel.execute(command,callback,{silent:false}); // yes, silent now defaults to true. figures.\n                        });\n                    \n                    }, function(){\n                            alert(\u0027Unable to export : the Dataframe object is not loaded in memory\u0027);\n                            btn.css(\u0027display\u0027,\u0027none\u0027);\n                    });\n                    \n                }\n                \n                (function(dfid) {\n                \n                    var retryCount \u003d 10;\n                \n                    function is_valid_websock(s) {\n                        return s \u0026\u0026 s.readyState\u003d\u003d1;\n                    }\n                \n                    function check_conn() {\n                        \n                        if(!IPython || !IPython.notebook) {\n                            // Don\u0027t even try to go further\n                            return;\n                        }\n                        \n                        // Check if IPython is ready\n                        console.info(\"Checking conn ...\")\n                        if(IPython.notebook.kernel\n                        \u0026\u0026 IPython.notebook.kernel\n                        \u0026\u0026 is_valid_websock(IPython.notebook.kernel.ws)\n                        ) {\n                            \n                            _check_export_df_possible(dfid,function(rows, cols) {\n                                $(\u0027#btn-df-\u0027+dfid).css(\u0027display\u0027,\u0027inline-block\u0027);\n                                $(\u0027#btn-df-\u0027+dfid).text(\u0027Export this dataframe (\u0027+rows+\u0027 rows, \u0027+cols+\u0027 cols)\u0027);\n                            });\n                            \n                        } else {\n                            console.info(\"Conditions are not ok\", IPython.notebook.kernel);\n                            \n                            // Retry later\n                            \n                            if(retryCount\u003e0) {\n                                setTimeout(check_conn,500);\n                                retryCount--;\n                            }\n                            \n                        }\n                    };\n                    \n                    setTimeout(check_conn,100);\n                    \n                })(\"d55b8254-1dbc-43fe-b4b1-ac2f3c6d01c1\");\n                \n            \u003c/script\u003e\n            \n        \u003cdiv\u003e\n\u003cstyle scoped\u003e\n    .dataframe tbody tr th:only-of-type {\n        vertical-align: middle;\n    }\n\n    .dataframe tbody tr th {\n        vertical-align: top;\n    }\n\n    .dataframe thead th {\n        text-align: right;\n    }\n\u003c/style\u003e\n\u003ctable border\u003d\"1\" class\u003d\"dataframe\"\u003e\n  \u003cthead\u003e\n    \u003ctr style\u003d\"text-align: right;\"\u003e\n      \u003cth\u003e\u003c/th\u003e\n      \u003cth\u003ecluster_index\u003c/th\u003e\n      \u003cth\u003esize\u003c/th\u003e\n    \u003c/tr\u003e\n  \u003c/thead\u003e\n  \u003ctbody\u003e\n    \u003ctr\u003e\n      \u003cth\u003e0\u003c/th\u003e\n      \u003ctd\u003e3\u003c/td\u003e\n      \u003ctd\u003e9\u003c/td\u003e\n    \u003c/tr\u003e\n    \u003ctr\u003e\n      \u003cth\u003e1\u003c/th\u003e\n      \u003ctd\u003e18\u003c/td\u003e\n      \u003ctd\u003e8\u003c/td\u003e\n    \u003c/tr\u003e\n    \u003ctr\u003e\n      \u003cth\u003e2\u003c/th\u003e\n      \u003ctd\u003e4\u003c/td\u003e\n      \u003ctd\u003e7\u003c/td\u003e\n    \u003c/tr\u003e\n    \u003ctr\u003e\n      \u003cth\u003e3\u003c/th\u003e\n      \u003ctd\u003e9\u003c/td\u003e\n      \u003ctd\u003e7\u003c/td\u003e\n    \u003c/tr\u003e\n    \u003ctr\u003e\n      \u003cth\u003e4\u003c/th\u003e\n      \u003ctd\u003e7\u003c/td\u003e\n      \u003ctd\u003e5\u003c/td\u003e\n    \u003c/tr\u003e\n    \u003ctr\u003e\n      \u003cth\u003e5\u003c/th\u003e\n      \u003ctd\u003e14\u003c/td\u003e\n      \u003ctd\u003e5\u003c/td\u003e\n    \u003c/tr\u003e\n    \u003ctr\u003e\n      \u003cth\u003e6\u003c/th\u003e\n      \u003ctd\u003e13\u003c/td\u003e\n      \u003ctd\u003e5\u003c/td\u003e\n    \u003c/tr\u003e\n    \u003ctr\u003e\n      \u003cth\u003e7\u003c/th\u003e\n      \u003ctd\u003e0\u003c/td\u003e\n      \u003ctd\u003e5\u003c/td\u003e\n    \u003c/tr\u003e\n    \u003ctr\u003e\n      \u003cth\u003e8\u003c/th\u003e\n      \u003ctd\u003e27\u003c/td\u003e\n      \u003ctd\u003e4\u003c/td\u003e\n    \u003c/tr\u003e\n    \u003ctr\u003e\n      \u003cth\u003e9\u003c/th\u003e\n      \u003ctd\u003e25\u003c/td\u003e\n      \u003ctd\u003e4\u003c/td\u003e\n    \u003c/tr\u003e\n    \u003ctr\u003e\n      \u003cth\u003e10\u003c/th\u003e\n      \u003ctd\u003e8\u003c/td\u003e\n      \u003ctd\u003e4\u003c/td\u003e\n    \u003c/tr\u003e\n    \u003ctr\u003e\n      \u003cth\u003e11\u003c/th\u003e\n      \u003ctd\u003e22\u003c/td\u003e\n      \u003ctd\u003e4\u003c/td\u003e\n    \u003c/tr\u003e\n    \u003ctr\u003e\n      \u003cth\u003e12\u003c/th\u003e\n      \u003ctd\u003e21\u003c/td\u003e\n      \u003ctd\u003e4\u003c/td\u003e\n    \u003c/tr\u003e\n    \u003ctr\u003e\n      \u003cth\u003e13\u003c/th\u003e\n      \u003ctd\u003e11\u003c/td\u003e\n      \u003ctd\u003e4\u003c/td\u003e\n    \u003c/tr\u003e\n    \u003ctr\u003e\n      \u003cth\u003e14\u003c/th\u003e\n      \u003ctd\u003e24\u003c/td\u003e\n      \u003ctd\u003e4\u003c/td\u003e\n    \u003c/tr\u003e\n    \u003ctr\u003e\n      \u003cth\u003e15\u003c/th\u003e\n      \u003ctd\u003e6\u003c/td\u003e\n      \u003ctd\u003e3\u003c/td\u003e\n    \u003c/tr\u003e\n    \u003ctr\u003e\n      \u003cth\u003e16\u003c/th\u003e\n      \u003ctd\u003e5\u003c/td\u003e\n      \u003ctd\u003e3\u003c/td\u003e\n    \u003c/tr\u003e\n    \u003ctr\u003e\n      \u003cth\u003e17\u003c/th\u003e\n      \u003ctd\u003e1\u003c/td\u003e\n      \u003ctd\u003e3\u003c/td\u003e\n    \u003c/tr\u003e\n    \u003ctr\u003e\n      \u003cth\u003e18\u003c/th\u003e\n      \u003ctd\u003e12\u003c/td\u003e\n      \u003ctd\u003e3\u003c/td\u003e\n    \u003c/tr\u003e\n    \u003ctr\u003e\n      \u003cth\u003e19\u003c/th\u003e\n      \u003ctd\u003e17\u003c/td\u003e\n      \u003ctd\u003e3\u003c/td\u003e\n    \u003c/tr\u003e\n    \u003ctr\u003e\n      \u003cth\u003e20\u003c/th\u003e\n      \u003ctd\u003e15\u003c/td\u003e\n      \u003ctd\u003e3\u003c/td\u003e\n    \u003c/tr\u003e\n    \u003ctr\u003e\n      \u003cth\u003e21\u003c/th\u003e\n      \u003ctd\u003e16\u003c/td\u003e\n      \u003ctd\u003e3\u003c/td\u003e\n    \u003c/tr\u003e\n    \u003ctr\u003e\n      \u003cth\u003e22\u003c/th\u003e\n      \u003ctd\u003e33\u003c/td\u003e\n      \u003ctd\u003e3\u003c/td\u003e\n    \u003c/tr\u003e\n    \u003ctr\u003e\n      \u003cth\u003e23\u003c/th\u003e\n      \u003ctd\u003e19\u003c/td\u003e\n      \u003ctd\u003e3\u003c/td\u003e\n    \u003c/tr\u003e\n    \u003ctr\u003e\n      \u003cth\u003e24\u003c/th\u003e\n      \u003ctd\u003e23\u003c/td\u003e\n      \u003ctd\u003e3\u003c/td\u003e\n    \u003c/tr\u003e\n    \u003ctr\u003e\n      \u003cth\u003e25\u003c/th\u003e\n      \u003ctd\u003e28\u003c/td\u003e\n      \u003ctd\u003e3\u003c/td\u003e\n    \u003c/tr\u003e\n    \u003ctr\u003e\n      \u003cth\u003e26\u003c/th\u003e\n      \u003ctd\u003e29\u003c/td\u003e\n      \u003ctd\u003e3\u003c/td\u003e\n    \u003c/tr\u003e\n    \u003ctr\u003e\n      \u003cth\u003e27\u003c/th\u003e\n      \u003ctd\u003e20\u003c/td\u003e\n      \u003ctd\u003e2\u003c/td\u003e\n    \u003c/tr\u003e\n    \u003ctr\u003e\n      \u003cth\u003e28\u003c/th\u003e\n      \u003ctd\u003e26\u003c/td\u003e\n      \u003ctd\u003e2\u003c/td\u003e\n    \u003c/tr\u003e\n    \u003ctr\u003e\n      \u003cth\u003e29\u003c/th\u003e\n      \u003ctd\u003e30\u003c/td\u003e\n      \u003ctd\u003e2\u003c/td\u003e\n    \u003c/tr\u003e\n    \u003ctr\u003e\n      \u003cth\u003e30\u003c/th\u003e\n      \u003ctd\u003e31\u003c/td\u003e\n      \u003ctd\u003e2\u003c/td\u003e\n    \u003c/tr\u003e\n    \u003ctr\u003e\n      \u003cth\u003e31\u003c/th\u003e\n      \u003ctd\u003e2\u003c/td\u003e\n      \u003ctd\u003e2\u003c/td\u003e\n    \u003c/tr\u003e\n    \u003ctr\u003e\n      \u003cth\u003e32\u003c/th\u003e\n      \u003ctd\u003e32\u003c/td\u003e\n      \u003ctd\u003e2\u003c/td\u003e\n    \u003c/tr\u003e\n    \u003ctr\u003e\n      \u003cth\u003e33\u003c/th\u003e\n      \u003ctd\u003e10\u003c/td\u003e\n      \u003ctd\u003e2\u003c/td\u003e\n    \u003c/tr\u003e\n  \u003c/tbody\u003e\n\u003c/table\u003e\n\u003c/div\u003e"
          },
          "metadata": {}
        }
      ]
    },
    {
      "execution_count": 67,
      "cell_type": "code",
      "metadata": {},
      "source": [
        "encode_test_df[encode_test_df[\u0027dbs\u0027]\u003d\u003d19]"
      ],
      "outputs": [
        {
          "output_type": "execute_result",
          "execution_count": 67,
          "data": {
            "text/plain": "           x         y  dbs\n41  -0.12094  1.115824   19\n119 -0.12094  1.115824   19\n143 -0.12094  1.115824   19",
            "text/html": "\n            \u003cbutton style\u003d\"display:none\" \n            class\u003d\"btn btn-default ipython-export-btn\" \n            id\u003d\"btn-df-bb4b7ef2-9aec-48fd-9a06-07ad22d02ba8\" \n            onclick\u003d\"_export_df(\u0027bb4b7ef2-9aec-48fd-9a06-07ad22d02ba8\u0027)\"\u003e\n                Export dataframe\n            \u003c/button\u003e\n            \n            \u003cscript\u003e\n                \n                function _check_export_df_possible(dfid,yes_fn,no_fn) {\n                    console.log(\u0027Checking dataframe exportability...\u0027)\n                    if(!IPython || !IPython.notebook || !IPython.notebook.kernel || !IPython.notebook.kernel) {\n                        console.log(\u0027Export is not possible (IPython kernel is not available)\u0027)\n                        if(no_fn) {\n                            no_fn();\n                        }\n                    } else {\n                        var pythonCode \u003d \u0027from dataiku.notebook.export import IPythonExporter;IPythonExporter._check_export_stdout(\"\u0027+dfid+\u0027\")\u0027;\n                        IPython.notebook.kernel.execute(pythonCode,{iopub: {output: function(resp) {\n                            console.info(\"Exportability response\", resp);\n                            var size \u003d /^([0-9]+)x([0-9]+)$/.exec(resp.content.data || resp.content.text)\n                            if(!size) {\n                                console.log(\u0027Export is not possible (dataframe is not in-memory anymore)\u0027)\n                                if(no_fn) {\n                                    no_fn();\n                                }\n                            } else {\n                                console.log(\u0027Export is possible\u0027)\n                                if(yes_fn) {\n                                    yes_fn(1*size[1],1*size[2]);\n                                }\n                            }\n                        }}});\n                    }\n                }\n            \n                function _export_df(dfid) {\n                    \n                    var btn \u003d $(\u0027#btn-df-\u0027+dfid);\n                    var btns \u003d $(\u0027.ipython-export-btn\u0027);\n                    \n                    _check_export_df_possible(dfid,function() {\n                        \n                        window.parent.openExportModalFromIPython(\u0027Pandas dataframe\u0027,function(data) {\n                            btns.prop(\u0027disabled\u0027,true);\n                            btn.text(\u0027Exporting...\u0027);\n                            var command \u003d \u0027from dataiku.notebook.export import IPythonExporter;IPythonExporter._run_export(\"\u0027+dfid+\u0027\",\"\u0027+data.exportId+\u0027\")\u0027;\n                            var callback \u003d {iopub:{output: function(resp) {\n                                console.info(\"CB resp:\", resp);\n                                _check_export_df_possible(dfid,function(rows, cols) {\n                                    $(\u0027#btn-df-\u0027+dfid)\n                                        .css(\u0027display\u0027,\u0027inline-block\u0027)\n                                        .text(\u0027Export this dataframe (\u0027+rows+\u0027 rows, \u0027+cols+\u0027 cols)\u0027)\n                                        .prop(\u0027disabled\u0027,false);\n                                },function() {\n                                    $(\u0027#btn-df-\u0027+dfid).css(\u0027display\u0027,\u0027none\u0027);\n                                });\n                            }}};\n                            IPython.notebook.kernel.execute(command,callback,{silent:false}); // yes, silent now defaults to true. figures.\n                        });\n                    \n                    }, function(){\n                            alert(\u0027Unable to export : the Dataframe object is not loaded in memory\u0027);\n                            btn.css(\u0027display\u0027,\u0027none\u0027);\n                    });\n                    \n                }\n                \n                (function(dfid) {\n                \n                    var retryCount \u003d 10;\n                \n                    function is_valid_websock(s) {\n                        return s \u0026\u0026 s.readyState\u003d\u003d1;\n                    }\n                \n                    function check_conn() {\n                        \n                        if(!IPython || !IPython.notebook) {\n                            // Don\u0027t even try to go further\n                            return;\n                        }\n                        \n                        // Check if IPython is ready\n                        console.info(\"Checking conn ...\")\n                        if(IPython.notebook.kernel\n                        \u0026\u0026 IPython.notebook.kernel\n                        \u0026\u0026 is_valid_websock(IPython.notebook.kernel.ws)\n                        ) {\n                            \n                            _check_export_df_possible(dfid,function(rows, cols) {\n                                $(\u0027#btn-df-\u0027+dfid).css(\u0027display\u0027,\u0027inline-block\u0027);\n                                $(\u0027#btn-df-\u0027+dfid).text(\u0027Export this dataframe (\u0027+rows+\u0027 rows, \u0027+cols+\u0027 cols)\u0027);\n                            });\n                            \n                        } else {\n                            console.info(\"Conditions are not ok\", IPython.notebook.kernel);\n                            \n                            // Retry later\n                            \n                            if(retryCount\u003e0) {\n                                setTimeout(check_conn,500);\n                                retryCount--;\n                            }\n                            \n                        }\n                    };\n                    \n                    setTimeout(check_conn,100);\n                    \n                })(\"bb4b7ef2-9aec-48fd-9a06-07ad22d02ba8\");\n                \n            \u003c/script\u003e\n            \n        \u003cdiv\u003e\n\u003cstyle scoped\u003e\n    .dataframe tbody tr th:only-of-type {\n        vertical-align: middle;\n    }\n\n    .dataframe tbody tr th {\n        vertical-align: top;\n    }\n\n    .dataframe thead th {\n        text-align: right;\n    }\n\u003c/style\u003e\n\u003ctable border\u003d\"1\" class\u003d\"dataframe\"\u003e\n  \u003cthead\u003e\n    \u003ctr style\u003d\"text-align: right;\"\u003e\n      \u003cth\u003e\u003c/th\u003e\n      \u003cth\u003ex\u003c/th\u003e\n      \u003cth\u003ey\u003c/th\u003e\n      \u003cth\u003edbs\u003c/th\u003e\n    \u003c/tr\u003e\n  \u003c/thead\u003e\n  \u003ctbody\u003e\n    \u003ctr\u003e\n      \u003cth\u003e41\u003c/th\u003e\n      \u003ctd\u003e-0.12094\u003c/td\u003e\n      \u003ctd\u003e1.115824\u003c/td\u003e\n      \u003ctd\u003e19\u003c/td\u003e\n    \u003c/tr\u003e\n    \u003ctr\u003e\n      \u003cth\u003e119\u003c/th\u003e\n      \u003ctd\u003e-0.12094\u003c/td\u003e\n      \u003ctd\u003e1.115824\u003c/td\u003e\n      \u003ctd\u003e19\u003c/td\u003e\n    \u003c/tr\u003e\n    \u003ctr\u003e\n      \u003cth\u003e143\u003c/th\u003e\n      \u003ctd\u003e-0.12094\u003c/td\u003e\n      \u003ctd\u003e1.115824\u003c/td\u003e\n      \u003ctd\u003e19\u003c/td\u003e\n    \u003c/tr\u003e\n  \u003c/tbody\u003e\n\u003c/table\u003e\n\u003c/div\u003e"
          },
          "metadata": {}
        }
      ]
    },
    {
      "execution_count": 68,
      "cell_type": "code",
      "metadata": {},
      "source": [
        "encode_test_df[encode_test_df[\u0027dbs\u0027]\u003d\u003d13]"
      ],
      "outputs": [
        {
          "output_type": "execute_result",
          "execution_count": 68,
          "data": {
            "text/plain": "           x         y  dbs\n28   0.24541  0.117114   13\n58   0.24541  0.117114   13\n101  0.24541  0.117114   13\n139  0.24541  0.117114   13\n171  0.24541  0.117114   13",
            "text/html": "\n            \u003cbutton style\u003d\"display:none\" \n            class\u003d\"btn btn-default ipython-export-btn\" \n            id\u003d\"btn-df-f5db1e52-9ba7-4c6f-8bfc-b22eaf73f17b\" \n            onclick\u003d\"_export_df(\u0027f5db1e52-9ba7-4c6f-8bfc-b22eaf73f17b\u0027)\"\u003e\n                Export dataframe\n            \u003c/button\u003e\n            \n            \u003cscript\u003e\n                \n                function _check_export_df_possible(dfid,yes_fn,no_fn) {\n                    console.log(\u0027Checking dataframe exportability...\u0027)\n                    if(!IPython || !IPython.notebook || !IPython.notebook.kernel || !IPython.notebook.kernel) {\n                        console.log(\u0027Export is not possible (IPython kernel is not available)\u0027)\n                        if(no_fn) {\n                            no_fn();\n                        }\n                    } else {\n                        var pythonCode \u003d \u0027from dataiku.notebook.export import IPythonExporter;IPythonExporter._check_export_stdout(\"\u0027+dfid+\u0027\")\u0027;\n                        IPython.notebook.kernel.execute(pythonCode,{iopub: {output: function(resp) {\n                            console.info(\"Exportability response\", resp);\n                            var size \u003d /^([0-9]+)x([0-9]+)$/.exec(resp.content.data || resp.content.text)\n                            if(!size) {\n                                console.log(\u0027Export is not possible (dataframe is not in-memory anymore)\u0027)\n                                if(no_fn) {\n                                    no_fn();\n                                }\n                            } else {\n                                console.log(\u0027Export is possible\u0027)\n                                if(yes_fn) {\n                                    yes_fn(1*size[1],1*size[2]);\n                                }\n                            }\n                        }}});\n                    }\n                }\n            \n                function _export_df(dfid) {\n                    \n                    var btn \u003d $(\u0027#btn-df-\u0027+dfid);\n                    var btns \u003d $(\u0027.ipython-export-btn\u0027);\n                    \n                    _check_export_df_possible(dfid,function() {\n                        \n                        window.parent.openExportModalFromIPython(\u0027Pandas dataframe\u0027,function(data) {\n                            btns.prop(\u0027disabled\u0027,true);\n                            btn.text(\u0027Exporting...\u0027);\n                            var command \u003d \u0027from dataiku.notebook.export import IPythonExporter;IPythonExporter._run_export(\"\u0027+dfid+\u0027\",\"\u0027+data.exportId+\u0027\")\u0027;\n                            var callback \u003d {iopub:{output: function(resp) {\n                                console.info(\"CB resp:\", resp);\n                                _check_export_df_possible(dfid,function(rows, cols) {\n                                    $(\u0027#btn-df-\u0027+dfid)\n                                        .css(\u0027display\u0027,\u0027inline-block\u0027)\n                                        .text(\u0027Export this dataframe (\u0027+rows+\u0027 rows, \u0027+cols+\u0027 cols)\u0027)\n                                        .prop(\u0027disabled\u0027,false);\n                                },function() {\n                                    $(\u0027#btn-df-\u0027+dfid).css(\u0027display\u0027,\u0027none\u0027);\n                                });\n                            }}};\n                            IPython.notebook.kernel.execute(command,callback,{silent:false}); // yes, silent now defaults to true. figures.\n                        });\n                    \n                    }, function(){\n                            alert(\u0027Unable to export : the Dataframe object is not loaded in memory\u0027);\n                            btn.css(\u0027display\u0027,\u0027none\u0027);\n                    });\n                    \n                }\n                \n                (function(dfid) {\n                \n                    var retryCount \u003d 10;\n                \n                    function is_valid_websock(s) {\n                        return s \u0026\u0026 s.readyState\u003d\u003d1;\n                    }\n                \n                    function check_conn() {\n                        \n                        if(!IPython || !IPython.notebook) {\n                            // Don\u0027t even try to go further\n                            return;\n                        }\n                        \n                        // Check if IPython is ready\n                        console.info(\"Checking conn ...\")\n                        if(IPython.notebook.kernel\n                        \u0026\u0026 IPython.notebook.kernel\n                        \u0026\u0026 is_valid_websock(IPython.notebook.kernel.ws)\n                        ) {\n                            \n                            _check_export_df_possible(dfid,function(rows, cols) {\n                                $(\u0027#btn-df-\u0027+dfid).css(\u0027display\u0027,\u0027inline-block\u0027);\n                                $(\u0027#btn-df-\u0027+dfid).text(\u0027Export this dataframe (\u0027+rows+\u0027 rows, \u0027+cols+\u0027 cols)\u0027);\n                            });\n                            \n                        } else {\n                            console.info(\"Conditions are not ok\", IPython.notebook.kernel);\n                            \n                            // Retry later\n                            \n                            if(retryCount\u003e0) {\n                                setTimeout(check_conn,500);\n                                retryCount--;\n                            }\n                            \n                        }\n                    };\n                    \n                    setTimeout(check_conn,100);\n                    \n                })(\"f5db1e52-9ba7-4c6f-8bfc-b22eaf73f17b\");\n                \n            \u003c/script\u003e\n            \n        \u003cdiv\u003e\n\u003cstyle scoped\u003e\n    .dataframe tbody tr th:only-of-type {\n        vertical-align: middle;\n    }\n\n    .dataframe tbody tr th {\n        vertical-align: top;\n    }\n\n    .dataframe thead th {\n        text-align: right;\n    }\n\u003c/style\u003e\n\u003ctable border\u003d\"1\" class\u003d\"dataframe\"\u003e\n  \u003cthead\u003e\n    \u003ctr style\u003d\"text-align: right;\"\u003e\n      \u003cth\u003e\u003c/th\u003e\n      \u003cth\u003ex\u003c/th\u003e\n      \u003cth\u003ey\u003c/th\u003e\n      \u003cth\u003edbs\u003c/th\u003e\n    \u003c/tr\u003e\n  \u003c/thead\u003e\n  \u003ctbody\u003e\n    \u003ctr\u003e\n      \u003cth\u003e28\u003c/th\u003e\n      \u003ctd\u003e0.24541\u003c/td\u003e\n      \u003ctd\u003e0.117114\u003c/td\u003e\n      \u003ctd\u003e13\u003c/td\u003e\n    \u003c/tr\u003e\n    \u003ctr\u003e\n      \u003cth\u003e58\u003c/th\u003e\n      \u003ctd\u003e0.24541\u003c/td\u003e\n      \u003ctd\u003e0.117114\u003c/td\u003e\n      \u003ctd\u003e13\u003c/td\u003e\n    \u003c/tr\u003e\n    \u003ctr\u003e\n      \u003cth\u003e101\u003c/th\u003e\n      \u003ctd\u003e0.24541\u003c/td\u003e\n      \u003ctd\u003e0.117114\u003c/td\u003e\n      \u003ctd\u003e13\u003c/td\u003e\n    \u003c/tr\u003e\n    \u003ctr\u003e\n      \u003cth\u003e139\u003c/th\u003e\n      \u003ctd\u003e0.24541\u003c/td\u003e\n      \u003ctd\u003e0.117114\u003c/td\u003e\n      \u003ctd\u003e13\u003c/td\u003e\n    \u003c/tr\u003e\n    \u003ctr\u003e\n      \u003cth\u003e171\u003c/th\u003e\n      \u003ctd\u003e0.24541\u003c/td\u003e\n      \u003ctd\u003e0.117114\u003c/td\u003e\n      \u003ctd\u003e13\u003c/td\u003e\n    \u003c/tr\u003e\n  \u003c/tbody\u003e\n\u003c/table\u003e\n\u003c/div\u003e"
          },
          "metadata": {}
        }
      ]
    },
    {
      "execution_count": 69,
      "cell_type": "code",
      "metadata": {},
      "source": [
        "strip_list\u003d[]\nclusters[\u0027no_of_defect\u0027]\u003d0\nfor index,row in clusters.iterrows():\n    string\u003d\"\"\n    bincode\u003d\"\"\n    equip\u003d\"\"\n    time\u003d\"\"\n    sin_cluster\u003dencode_test_df[encode_test_df[\u0027dbs\u0027]\u003d\u003drow[\u0027cluster_index\u0027]]\n    sin_cluster\u003dsin_cluster.reset_index()\n    strip_list\u003dstrip_list\u003dsin_cluster[\u0027index\u0027].tolist()\n    clusters.loc[index,\u0027no_of_defect\u0027]\u003dnp.count_nonzero(test[strip_list[0]]\u003d\u003d1)*clusters.loc[index,\u0027size\u0027]\n    for strip in strip_list:\n        print(strip)\n        string\u003dstr(strip)+\",\"+string\n        print(itest.iloc[strip,0])\n        bincode\u003dstr(itest.iloc[strip,0])+bincode\n        print(itest.iloc[strip,1])\n        equip\u003dstr(itest.iloc[strip,1])+equip\n        print(itest.iloc[strip,2])\n        time\u003dstr(itest.iloc[strip,2])+time\n        clusters.loc[index,\u0027strip_id\u0027]\u003dstring\n        clusters.loc[index,\u0027bincode\u0027]\u003dbincode\n        clusters.loc[index,\u0027equipment\u0027]\u003dequip\n        clusters.loc[index,\u0027time\u0027]\u003dtime\n"
      ],
      "outputs": [
        {
          "output_type": "stream",
          "text": "8\n517,\nINSP-ACA-AWB2D2-009\n2023-09-04 00:06:25\n10\n518,\nINSP-ACA-AWB2D2-007\n2023-09-04 00:05:36\n34\n516,\nINSP-ACA-AWB2D2-009\n2023-09-04 23:52:52\n46\n2,\nINSP-ACA-AWB2D2-013\n2023-08-31 23:56:13\n102\n517,\nINSP-ACA-AWB2D2-018\n2023-08-27 23:43:27\n128\n261,\nINSP-ACA-AWB2D2-006\n2023-09-04 00:07:17\n136\n517,\nINSP-ACA-AWB2D2-009\n2023-09-03 00:15:34\n145\n261,\nINSP-ACA-AWB2D2-006\n2023-08-25 23:45:37\n150\n644,\nINSP-ACA-AWB2D2-010\n2023-09-03 00:12:50\n37\n516,\nINSP-ACA-AWB2D2-018\n2023-08-28 23:53:00\n43\n261,\nINSP-ACA-AWB2D2-010\n2023-09-04 00:04:47\n56\n518,\nINSP-ACA-AWB2D2-005\n2023-09-03 00:11:35\n65\n644,\nINSP-ACA-AWB2D2-007\n2023-08-28 23:52:14\n68\n530,\nINSP-ACA-AWB2D2-002\n2023-09-04 23:50:42\n106\n272,\nINSP-ACA-AWB2D2-006\n2023-09-04 23:50:28\n121\n518,518,518,518,\nINSP-ACA-AWB2D2-018\n2023-08-28 23:52:05\n175\n518,\nINSP-ACA-AWB2D2-006\n2023-08-29 23:58:38\n9\n2,\nINSP-ACA-AWB2D2-013\n2023-08-25 23:42:52\n27\n0,\nnan\n2023-08-30 23:42:38\n71\n644,\nINSP-ACA-AWB2D2-018\n2023-09-04 00:06:27\n104\n272,\nINSP-ACA-AWB2D2-006\n2023-08-25 23:44:46\n109\n518,\nINSP-ACA-AWB2D2-018\n2023-09-01 23:45:50\n114\n520,\nINSP-ACA-AWB2D2-006\n2023-09-04 00:07:00\n124\n518,\nINSP-ACA-AWB2D2-009\n2023-08-29 23:53:39\n18\n516,\nINSP-ACA-AWB2D2-009\n2023-08-26 23:56:42\n21\n530,\nINSP-ACA-AWB2D2-006\n2023-08-29 23:55:35\n25\n296,\nINSP-ACA-AWB2D2-002\n2023-08-31 23:54:36\n40\n516,\nINSP-ACA-AWB2D2-007\n2023-08-26 23:55:08\n61\n518,\nINSP-ACA-AWB2D2-007\n2023-08-29 23:59:50\n127\n518,\nINSP-ACA-AWB2D2-018\n2023-08-25 23:44:58\n166\n530,\nINSP-ACA-AWB2D2-006\n2023-08-30 23:47:09\n16\n516,\nINSP-ACA-AWB2D2-007\n2023-08-30 23:41:25\n55\n516,\nINSP-ACA-AWB2D2-006\n2023-09-03 00:15:48\n59\n516,\nINSP-ACA-AWB2D2-018\n2023-08-24 23:49:52\n160\n517,\nINSP-ACA-AWB2D2-010\n2023-08-30 23:44:55\n161\n516,\nINSP-ACA-AWB2D2-007\n2023-09-04 23:52:35\n29\n2,\nINSP-ACA-AWB2D2-013\n2023-08-29 23:59:47\n36\n518,\nINSP-ACA-AWB2D2-018\n2023-08-28 23:52:06\n79\n644,\nINSP-ACA-AWB2D2-007\n2023-09-01 23:46:10\n81\n518,\nINSP-ACA-AWB2D2-007\n2023-09-04 00:06:57\n82\n517,\nINSP-ACA-AWB2D2-006\n2023-08-30 23:46:43\n28\n530,\nINSP-ACA-AWB2D2-007\n2023-09-04 23:51:22\n58\n263,\nINSP-ACA-AWB2D2-007\n2023-09-04 00:06:57\n101\n517,\nINSP-ACA-AWB2D2-006\n2023-08-29 23:57:50\n139\n516,\nINSP-ACA-AWB2D2-010\n2023-09-04 00:04:47\n171\n2,\nINSP-ACA-AWB2D2-013\n2023-08-29 23:55:34\n3\n530,\nINSP-ACA-AWB2D2-007\n2023-09-01 23:45:51\n15\n644,\nINSP-ACA-AWB2D2-009\n2023-09-04 00:07:15\n122\n513,\nINSP-ACA-AWB2D2-018\n2023-08-26 23:53:23\n148\n517,\nINSP-ACA-AWB2D2-007\n2023-08-29 23:59:55\n159\n516,\nINSP-ACA-AWB2D2-010\n2023-09-01 23:44:36\n74\n517,\nINSP-ACA-AWB2D2-009\n2023-08-26 23:56:51\n80\n2,\nINSP-ACA-AWB2D2-013\n2023-09-03 00:15:12\n90\n2,\nINSP-ACA-AWB2D2-013\n2023-09-03 00:15:14\n125\n2,\nINSP-ACA-AWB2D2-013\n2023-08-26 23:56:47\n64\n516,\nINSP-ACA-AWB2D2-009\n2023-08-27 23:44:43\n86\n516,\nINSP-ACA-AWB2D2-018\n2023-08-27 23:43:21\n138\n516,\nINSP-ACA-AWB2D2-010\n2023-08-31 23:54:33\n157\n2,\nINSP-ACA-AWB2D2-013\n2023-08-29 23:55:34\n17\n530,\nINSP-ACA-AWB2D2-009\n2023-09-03 00:15:34\n38\n516,\nINSP-ACA-AWB2D2-010\n2023-08-30 23:43:45\n51\n518,\nINSP-ACA-AWB2D2-007\n2023-08-28 23:52:57\n134\n518,\nINSP-ACA-AWB2D2-018\n2023-08-29 23:59:55\n52\n517,\nINSP-ACA-AWB2D2-007\n2023-08-25 23:45:36\n62\n260,\nINSP-ACA-AWB2D2-005\n2023-09-03 00:11:35\n66\n520,\nINSP-ACA-AWB2D2-006\n2023-08-29 23:58:27\n67\n530,\nINSP-ACA-AWB2D2-010\n2023-09-04 00:04:18\n45\n530,\nINSP-ACA-AWB2D2-010\n2023-09-04 23:51:20\n99\n530,\nINSP-ACA-AWB2D2-009\n2023-09-04 00:06:24\n142\n517,\nINSP-ACA-AWB2D2-018\n2023-08-27 23:43:21\n149\n2,\nINSP-ACA-AWB2D2-013\n2023-08-26 23:56:07\n24\n517,\nINSP-ACA-AWB2D2-007\n2023-09-04 23:50:33\n50\n516,\nINSP-ACA-AWB2D2-009\n2023-09-04 23:50:25\n131\n2,\nINSP-ACA-AWB2D2-013\n2023-09-03 00:15:10\n173\n517,\nINSP-ACA-AWB2D2-009\n2023-08-26 23:50:09\n63\n517,\nINSP-ACA-AWB2D2-018\n2023-08-26 23:55:47\n105\n520,\nINSP-ACA-AWB2D2-018\n2023-09-01 23:46:08\n144\n530,\nINSP-ACA-AWB2D2-018\n2023-08-26 23:56:51\n165\n518,\nINSP-ACA-AWB2D2-007\n2023-09-04 23:51:47\n14\n517,\nINSP-ACA-AWB2D2-007\n2023-08-28 23:52:08\n42\n530,\nINSP-ACA-AWB2D2-006\n2023-09-03 00:15:48\n100\n517,\nINSP-ACA-AWB2D2-007\n2023-08-27 23:42:46\n11\n530,\nINSP-ACA-AWB2D2-010\n2023-08-29 23:57:49\n32\n2,\nINSP-ACA-AWB2D2-013\n2023-09-03 00:15:12\n54\n640,\nINSP-ACA-AWB2D2-009\n2023-08-30 23:38:53\n5\n530,\nINSP-ACA-AWB2D2-006\n2023-09-01 23:42:35\n70\n516,\nINSP-ACA-AWB2D2-006\n2023-08-28 23:52:22\n140\n517,\nINSP-ACA-AWB2D2-007\n2023-08-28 23:52:58\n26\n516,\nINSP-ACA-AWB2D2-009\n2023-08-27 23:43:25\n118\n517,\nINSP-ACA-AWB2D2-009\n2023-08-27 23:40:56\n158\n518,\nINSP-ACA-AWB2D2-009\n2023-09-03 00:13:36\n35\n516,\nINSP-ACA-AWB2D2-007\n2023-09-01 23:43:01\n84\n516,\nINSP-ACA-AWB2D2-009\n2023-09-03 00:13:38\n156\n517,\nINSP-ACA-AWB2D2-009\n2023-08-29 23:59:11\n30\n516,\nINSP-ACA-AWB2D2-010\n2023-09-04 00:05:49\n103\n530,\nINSP-ACA-AWB2D2-010\n2023-09-01 23:44:36\n113\n644,\nINSP-ACA-AWB2D2-018\n2023-09-03 00:15:38\n31\n517,\nINSP-ACA-AWB2D2-007\n2023-09-01 23:45:54\n39\n530,\nINSP-ACA-AWB2D2-006\n2023-08-25 23:44:46\n93\n662,\nINSP-ACA-AWB2D2-009\n2023-09-04 00:06:43\n126\n516,\nINSP-ACA-AWB2D2-006\n2023-08-27 23:44:36\n137\n2,\nINSP-ACA-AWB2D2-013\n2023-08-30 23:46:50\n168\n517,\nINSP-ACA-AWB2D2-010\n2023-09-03 00:11:37\n41\n2,\nINSP-ACA-AWB2D2-013\n2023-09-03 00:15:12\n119\n516,\nINSP-ACA-AWB2D2-007\n2023-08-24 23:49:51\n143\n520,\nINSP-ACA-AWB2D2-006\n2023-07-24 23:19:34\n57\n517,\nINSP-ACA-AWB2D2-009\n2023-08-30 23:46:49\n146\n2,\nINSP-ACA-AWB2D2-013\n2023-09-04 23:52:20\n167\n517,\nINSP-ACA-AWB2D2-002\n2023-08-29 23:58:22\n77\n344,\nINSP-ACA-AWB2D2-018\n2023-09-04 00:01:38\n117\n644,\nINSP-ACA-AWB2D2-010\n2023-09-03 00:12:50\n135\n514,\nINSP-ACA-AWB2D2-006\n2023-09-03 00:15:01\n87\n520,\nINSP-ACA-AWB2D2-009\n2023-08-30 23:46:21\n111\n644,\nINSP-ACA-AWB2D2-006\n2023-08-31 23:56:53\n112\n518,\nINSP-ACA-AWB2D2-002\n2023-09-03 00:12:54\n44\n516,516,516,516,261,\nINSP-ACA-AWB2D2-006\n2023-09-04 00:07:17\n174\n516,516,516,516,261,\nINSP-ACA-AWB2D2-006\n2023-08-25 23:45:37\n69\n644,\nINSP-ACA-AWB2D2-018\n2023-09-04 00:06:27\n154\n644,\nINSP-ACA-AWB2D2-007\n2023-09-03 00:16:08\n88\n516,516,\nINSP-ACA-AWB2D2-007\n2023-09-04 23:52:51\n110\n2,2,\nINSP-ACA-AWB2D2-013\n2023-08-29 23:59:47\n108\n520,\nINSP-ACA-AWB2D2-018\n2023-09-04 00:01:38\n132\n261,\nINSP-ACA-AWB2D2-006\n2023-08-31 23:56:16\n6\n530,\nINSP-ACA-AWB2D2-007\n2023-08-27 23:43:28\n147\n513,\nINSP-ACA-AWB2D2-007\n2023-08-25 23:45:21\n115\n516,\nINSP-ACA-AWB2D2-018\n2023-08-29 23:59:55\n141\n516,\nINSP-ACA-AWB2D2-009\n2023-09-04 23:52:37\n20\n516,\nINSP-ACA-AWB2D2-006\n2023-09-01 23:46:56\n169\n517,\nINSP-ACA-AWB2D2-018\n2023-08-31 23:56:08\n",
          "name": "stdout"
        }
      ]
    },
    {
      "execution_count": 70,
      "cell_type": "code",
      "metadata": {
        "scrolled": false
      },
      "source": [
        "clusters"
      ],
      "outputs": [
        {
          "output_type": "execute_result",
          "execution_count": 70,
          "data": {
            "text/plain": "    cluster_index  size  no_of_defect                         strip_id                                       bincode                                          equipment                                               time\n0               3     9             9  150,145,136,128,102,46,34,10,8,            644,261,517,261,517,2,516,518,517,  INSP-ACA-AWB2D2-010INSP-ACA-AWB2D2-006INSP-ACA...  2023-09-03 00:12:502023-08-25 23:45:372023-09-...\n1              18     8             8      175,121,106,68,65,56,43,37,  518,518,518,518,518,272,530,644,518,261,516,  INSP-ACA-AWB2D2-006INSP-ACA-AWB2D2-018INSP-ACA...  2023-08-29 23:58:382023-08-28 23:52:052023-09-...\n2               4     7             7         124,114,109,104,71,27,9,                      518,520,518,272,644,0,2,  INSP-ACA-AWB2D2-009INSP-ACA-AWB2D2-006INSP-ACA...  2023-08-29 23:53:392023-09-04 00:07:002023-09-...\n3               9     7             7          166,127,61,40,25,21,18,                  530,518,518,516,296,530,516,  INSP-ACA-AWB2D2-006INSP-ACA-AWB2D2-018INSP-ACA...  2023-08-30 23:47:092023-08-25 23:44:582023-08-...\n4               7     5             5                161,160,59,55,16,                          516,517,516,516,516,  INSP-ACA-AWB2D2-007INSP-ACA-AWB2D2-010INSP-ACA...  2023-09-04 23:52:352023-08-30 23:44:552023-08-...\n5              14     5             5                  82,81,79,36,29,                            517,518,644,518,2,  INSP-ACA-AWB2D2-006INSP-ACA-AWB2D2-007INSP-ACA...  2023-08-30 23:46:432023-09-04 00:06:572023-09-...\n6              13     5             5               171,139,101,58,28,                            2,516,517,263,530,  INSP-ACA-AWB2D2-013INSP-ACA-AWB2D2-010INSP-ACA...  2023-08-29 23:55:342023-09-04 00:04:472023-08-...\n7               0     5             5                159,148,122,15,3,                          516,517,513,644,530,  INSP-ACA-AWB2D2-010INSP-ACA-AWB2D2-007INSP-ACA...  2023-09-01 23:44:362023-08-29 23:59:552023-08-...\n8              27     4             4                    125,90,80,74,                                    2,2,2,517,  INSP-ACA-AWB2D2-013INSP-ACA-AWB2D2-013INSP-ACA...  2023-08-26 23:56:472023-09-03 00:15:142023-09-...\n9              25     4             4                   157,138,86,64,                                2,516,516,516,  INSP-ACA-AWB2D2-013INSP-ACA-AWB2D2-010INSP-ACA...  2023-08-29 23:55:342023-08-31 23:54:332023-08-...\n10              8     4             4                    134,51,38,17,                              518,518,516,530,  INSP-ACA-AWB2D2-018INSP-ACA-AWB2D2-007INSP-ACA...  2023-08-29 23:59:552023-08-28 23:52:572023-08-...\n11             22     4             4                     67,66,62,52,                              530,520,260,517,  INSP-ACA-AWB2D2-010INSP-ACA-AWB2D2-006INSP-ACA...  2023-09-04 00:04:182023-08-29 23:58:272023-09-...\n12             21     4             4                   149,142,99,45,                                2,517,530,530,  INSP-ACA-AWB2D2-013INSP-ACA-AWB2D2-018INSP-ACA...  2023-08-26 23:56:072023-08-27 23:43:212023-09-...\n13             11     4             4                   173,131,50,24,                                517,2,516,517,  INSP-ACA-AWB2D2-009INSP-ACA-AWB2D2-013INSP-ACA...  2023-08-26 23:50:092023-09-03 00:15:102023-09-...\n14             24     4             4                  165,144,105,63,                              518,530,520,517,  INSP-ACA-AWB2D2-007INSP-ACA-AWB2D2-018INSP-ACA...  2023-09-04 23:51:472023-08-26 23:56:512023-09-...\n15              6     3             3                       100,42,14,                                  517,530,517,  INSP-ACA-AWB2D2-007INSP-ACA-AWB2D2-006INSP-ACA...  2023-08-27 23:42:462023-09-03 00:15:482023-08-...\n16              5     3             3                        54,32,11,                                    640,2,530,  INSP-ACA-AWB2D2-009INSP-ACA-AWB2D2-013INSP-ACA...  2023-08-30 23:38:532023-09-03 00:15:122023-08-...\n17              1     3             3                        140,70,5,                                  517,516,530,  INSP-ACA-AWB2D2-007INSP-ACA-AWB2D2-006INSP-ACA...  2023-08-28 23:52:582023-08-28 23:52:222023-09-...\n18             12     3             3                      158,118,26,                                  518,517,516,  INSP-ACA-AWB2D2-009INSP-ACA-AWB2D2-009INSP-ACA...  2023-09-03 00:13:362023-08-27 23:40:562023-08-...\n19             17     3             3                       156,84,35,                                  517,516,516,  INSP-ACA-AWB2D2-009INSP-ACA-AWB2D2-009INSP-ACA...  2023-08-29 23:59:112023-09-03 00:13:382023-09-...\n20             15     3             3                      113,103,30,                                  644,530,516,  INSP-ACA-AWB2D2-018INSP-ACA-AWB2D2-010INSP-ACA...  2023-09-03 00:15:382023-09-01 23:44:362023-09-...\n21             16     3             3                        93,39,31,                                  662,530,517,  INSP-ACA-AWB2D2-009INSP-ACA-AWB2D2-006INSP-ACA...  2023-09-04 00:06:432023-08-25 23:44:462023-09-...\n22             33     3             3                     168,137,126,                                    517,2,516,  INSP-ACA-AWB2D2-010INSP-ACA-AWB2D2-013INSP-ACA...  2023-09-03 00:11:372023-08-30 23:46:502023-08-...\n23             19     3             3                      143,119,41,                                    520,516,2,  INSP-ACA-AWB2D2-006INSP-ACA-AWB2D2-007INSP-ACA...  2023-07-24 23:19:342023-08-24 23:49:512023-09-...\n24             23     3             3                      167,146,57,                                    517,2,517,  INSP-ACA-AWB2D2-002INSP-ACA-AWB2D2-013INSP-ACA...  2023-08-29 23:58:222023-09-04 23:52:202023-08-...\n25             28     3             3                      135,117,77,                                  514,644,344,  INSP-ACA-AWB2D2-006INSP-ACA-AWB2D2-010INSP-ACA...  2023-09-03 00:15:012023-09-03 00:12:502023-09-...\n26             29     3             3                      112,111,87,                                  518,644,520,  INSP-ACA-AWB2D2-002INSP-ACA-AWB2D2-006INSP-ACA...  2023-09-03 00:12:542023-08-31 23:56:532023-08-...\n27             20     2            10                          174,44,      516,516,516,516,261,516,516,516,516,261,             INSP-ACA-AWB2D2-006INSP-ACA-AWB2D2-006             2023-08-25 23:45:372023-09-04 00:07:17\n28             26     2             2                          154,69,                                      644,644,             INSP-ACA-AWB2D2-007INSP-ACA-AWB2D2-018             2023-09-03 00:16:082023-09-04 00:06:27\n29             30     2             4                          110,88,                                  2,2,516,516,             INSP-ACA-AWB2D2-013INSP-ACA-AWB2D2-007             2023-08-29 23:59:472023-09-04 23:52:51\n30             31     2             2                         132,108,                                      261,520,             INSP-ACA-AWB2D2-006INSP-ACA-AWB2D2-018             2023-08-31 23:56:162023-09-04 00:01:38\n31              2     2             2                           147,6,                                      513,530,             INSP-ACA-AWB2D2-007INSP-ACA-AWB2D2-007             2023-08-25 23:45:212023-08-27 23:43:28\n32             32     2             2                         141,115,                                      516,516,             INSP-ACA-AWB2D2-009INSP-ACA-AWB2D2-018             2023-09-04 23:52:372023-08-29 23:59:55\n33             10     2             2                          169,20,                                      517,516,             INSP-ACA-AWB2D2-018INSP-ACA-AWB2D2-006             2023-08-31 23:56:082023-09-01 23:46:56",
            "text/html": "\n            \u003cbutton style\u003d\"display:none\" \n            class\u003d\"btn btn-default ipython-export-btn\" \n            id\u003d\"btn-df-d55b8254-1dbc-43fe-b4b1-ac2f3c6d01c1\" \n            onclick\u003d\"_export_df(\u0027d55b8254-1dbc-43fe-b4b1-ac2f3c6d01c1\u0027)\"\u003e\n                Export dataframe\n            \u003c/button\u003e\n            \n            \u003cscript\u003e\n                \n                function _check_export_df_possible(dfid,yes_fn,no_fn) {\n                    console.log(\u0027Checking dataframe exportability...\u0027)\n                    if(!IPython || !IPython.notebook || !IPython.notebook.kernel || !IPython.notebook.kernel) {\n                        console.log(\u0027Export is not possible (IPython kernel is not available)\u0027)\n                        if(no_fn) {\n                            no_fn();\n                        }\n                    } else {\n                        var pythonCode \u003d \u0027from dataiku.notebook.export import IPythonExporter;IPythonExporter._check_export_stdout(\"\u0027+dfid+\u0027\")\u0027;\n                        IPython.notebook.kernel.execute(pythonCode,{iopub: {output: function(resp) {\n                            console.info(\"Exportability response\", resp);\n                            var size \u003d /^([0-9]+)x([0-9]+)$/.exec(resp.content.data || resp.content.text)\n                            if(!size) {\n                                console.log(\u0027Export is not possible (dataframe is not in-memory anymore)\u0027)\n                                if(no_fn) {\n                                    no_fn();\n                                }\n                            } else {\n                                console.log(\u0027Export is possible\u0027)\n                                if(yes_fn) {\n                                    yes_fn(1*size[1],1*size[2]);\n                                }\n                            }\n                        }}});\n                    }\n                }\n            \n                function _export_df(dfid) {\n                    \n                    var btn \u003d $(\u0027#btn-df-\u0027+dfid);\n                    var btns \u003d $(\u0027.ipython-export-btn\u0027);\n                    \n                    _check_export_df_possible(dfid,function() {\n                        \n                        window.parent.openExportModalFromIPython(\u0027Pandas dataframe\u0027,function(data) {\n                            btns.prop(\u0027disabled\u0027,true);\n                            btn.text(\u0027Exporting...\u0027);\n                            var command \u003d \u0027from dataiku.notebook.export import IPythonExporter;IPythonExporter._run_export(\"\u0027+dfid+\u0027\",\"\u0027+data.exportId+\u0027\")\u0027;\n                            var callback \u003d {iopub:{output: function(resp) {\n                                console.info(\"CB resp:\", resp);\n                                _check_export_df_possible(dfid,function(rows, cols) {\n                                    $(\u0027#btn-df-\u0027+dfid)\n                                        .css(\u0027display\u0027,\u0027inline-block\u0027)\n                                        .text(\u0027Export this dataframe (\u0027+rows+\u0027 rows, \u0027+cols+\u0027 cols)\u0027)\n                                        .prop(\u0027disabled\u0027,false);\n                                },function() {\n                                    $(\u0027#btn-df-\u0027+dfid).css(\u0027display\u0027,\u0027none\u0027);\n                                });\n                            }}};\n                            IPython.notebook.kernel.execute(command,callback,{silent:false}); // yes, silent now defaults to true. figures.\n                        });\n                    \n                    }, function(){\n                            alert(\u0027Unable to export : the Dataframe object is not loaded in memory\u0027);\n                            btn.css(\u0027display\u0027,\u0027none\u0027);\n                    });\n                    \n                }\n                \n                (function(dfid) {\n                \n                    var retryCount \u003d 10;\n                \n                    function is_valid_websock(s) {\n                        return s \u0026\u0026 s.readyState\u003d\u003d1;\n                    }\n                \n                    function check_conn() {\n                        \n                        if(!IPython || !IPython.notebook) {\n                            // Don\u0027t even try to go further\n                            return;\n                        }\n                        \n                        // Check if IPython is ready\n                        console.info(\"Checking conn ...\")\n                        if(IPython.notebook.kernel\n                        \u0026\u0026 IPython.notebook.kernel\n                        \u0026\u0026 is_valid_websock(IPython.notebook.kernel.ws)\n                        ) {\n                            \n                            _check_export_df_possible(dfid,function(rows, cols) {\n                                $(\u0027#btn-df-\u0027+dfid).css(\u0027display\u0027,\u0027inline-block\u0027);\n                                $(\u0027#btn-df-\u0027+dfid).text(\u0027Export this dataframe (\u0027+rows+\u0027 rows, \u0027+cols+\u0027 cols)\u0027);\n                            });\n                            \n                        } else {\n                            console.info(\"Conditions are not ok\", IPython.notebook.kernel);\n                            \n                            // Retry later\n                            \n                            if(retryCount\u003e0) {\n                                setTimeout(check_conn,500);\n                                retryCount--;\n                            }\n                            \n                        }\n                    };\n                    \n                    setTimeout(check_conn,100);\n                    \n                })(\"d55b8254-1dbc-43fe-b4b1-ac2f3c6d01c1\");\n                \n            \u003c/script\u003e\n            \n        \u003cdiv\u003e\n\u003cstyle scoped\u003e\n    .dataframe tbody tr th:only-of-type {\n        vertical-align: middle;\n    }\n\n    .dataframe tbody tr th {\n        vertical-align: top;\n    }\n\n    .dataframe thead th {\n        text-align: right;\n    }\n\u003c/style\u003e\n\u003ctable border\u003d\"1\" class\u003d\"dataframe\"\u003e\n  \u003cthead\u003e\n    \u003ctr style\u003d\"text-align: right;\"\u003e\n      \u003cth\u003e\u003c/th\u003e\n      \u003cth\u003ecluster_index\u003c/th\u003e\n      \u003cth\u003esize\u003c/th\u003e\n      \u003cth\u003eno_of_defect\u003c/th\u003e\n      \u003cth\u003estrip_id\u003c/th\u003e\n      \u003cth\u003ebincode\u003c/th\u003e\n      \u003cth\u003eequipment\u003c/th\u003e\n      \u003cth\u003etime\u003c/th\u003e\n    \u003c/tr\u003e\n  \u003c/thead\u003e\n  \u003ctbody\u003e\n    \u003ctr\u003e\n      \u003cth\u003e0\u003c/th\u003e\n      \u003ctd\u003e3\u003c/td\u003e\n      \u003ctd\u003e9\u003c/td\u003e\n      \u003ctd\u003e9\u003c/td\u003e\n      \u003ctd\u003e150,145,136,128,102,46,34,10,8,\u003c/td\u003e\n      \u003ctd\u003e644,261,517,261,517,2,516,518,517,\u003c/td\u003e\n      \u003ctd\u003eINSP-ACA-AWB2D2-010INSP-ACA-AWB2D2-006INSP-ACA...\u003c/td\u003e\n      \u003ctd\u003e2023-09-03 00:12:502023-08-25 23:45:372023-09-...\u003c/td\u003e\n    \u003c/tr\u003e\n    \u003ctr\u003e\n      \u003cth\u003e1\u003c/th\u003e\n      \u003ctd\u003e18\u003c/td\u003e\n      \u003ctd\u003e8\u003c/td\u003e\n      \u003ctd\u003e8\u003c/td\u003e\n      \u003ctd\u003e175,121,106,68,65,56,43,37,\u003c/td\u003e\n      \u003ctd\u003e518,518,518,518,518,272,530,644,518,261,516,\u003c/td\u003e\n      \u003ctd\u003eINSP-ACA-AWB2D2-006INSP-ACA-AWB2D2-018INSP-ACA...\u003c/td\u003e\n      \u003ctd\u003e2023-08-29 23:58:382023-08-28 23:52:052023-09-...\u003c/td\u003e\n    \u003c/tr\u003e\n    \u003ctr\u003e\n      \u003cth\u003e2\u003c/th\u003e\n      \u003ctd\u003e4\u003c/td\u003e\n      \u003ctd\u003e7\u003c/td\u003e\n      \u003ctd\u003e7\u003c/td\u003e\n      \u003ctd\u003e124,114,109,104,71,27,9,\u003c/td\u003e\n      \u003ctd\u003e518,520,518,272,644,0,2,\u003c/td\u003e\n      \u003ctd\u003eINSP-ACA-AWB2D2-009INSP-ACA-AWB2D2-006INSP-ACA...\u003c/td\u003e\n      \u003ctd\u003e2023-08-29 23:53:392023-09-04 00:07:002023-09-...\u003c/td\u003e\n    \u003c/tr\u003e\n    \u003ctr\u003e\n      \u003cth\u003e3\u003c/th\u003e\n      \u003ctd\u003e9\u003c/td\u003e\n      \u003ctd\u003e7\u003c/td\u003e\n      \u003ctd\u003e7\u003c/td\u003e\n      \u003ctd\u003e166,127,61,40,25,21,18,\u003c/td\u003e\n      \u003ctd\u003e530,518,518,516,296,530,516,\u003c/td\u003e\n      \u003ctd\u003eINSP-ACA-AWB2D2-006INSP-ACA-AWB2D2-018INSP-ACA...\u003c/td\u003e\n      \u003ctd\u003e2023-08-30 23:47:092023-08-25 23:44:582023-08-...\u003c/td\u003e\n    \u003c/tr\u003e\n    \u003ctr\u003e\n      \u003cth\u003e4\u003c/th\u003e\n      \u003ctd\u003e7\u003c/td\u003e\n      \u003ctd\u003e5\u003c/td\u003e\n      \u003ctd\u003e5\u003c/td\u003e\n      \u003ctd\u003e161,160,59,55,16,\u003c/td\u003e\n      \u003ctd\u003e516,517,516,516,516,\u003c/td\u003e\n      \u003ctd\u003eINSP-ACA-AWB2D2-007INSP-ACA-AWB2D2-010INSP-ACA...\u003c/td\u003e\n      \u003ctd\u003e2023-09-04 23:52:352023-08-30 23:44:552023-08-...\u003c/td\u003e\n    \u003c/tr\u003e\n    \u003ctr\u003e\n      \u003cth\u003e5\u003c/th\u003e\n      \u003ctd\u003e14\u003c/td\u003e\n      \u003ctd\u003e5\u003c/td\u003e\n      \u003ctd\u003e5\u003c/td\u003e\n      \u003ctd\u003e82,81,79,36,29,\u003c/td\u003e\n      \u003ctd\u003e517,518,644,518,2,\u003c/td\u003e\n      \u003ctd\u003eINSP-ACA-AWB2D2-006INSP-ACA-AWB2D2-007INSP-ACA...\u003c/td\u003e\n      \u003ctd\u003e2023-08-30 23:46:432023-09-04 00:06:572023-09-...\u003c/td\u003e\n    \u003c/tr\u003e\n    \u003ctr\u003e\n      \u003cth\u003e6\u003c/th\u003e\n      \u003ctd\u003e13\u003c/td\u003e\n      \u003ctd\u003e5\u003c/td\u003e\n      \u003ctd\u003e5\u003c/td\u003e\n      \u003ctd\u003e171,139,101,58,28,\u003c/td\u003e\n      \u003ctd\u003e2,516,517,263,530,\u003c/td\u003e\n      \u003ctd\u003eINSP-ACA-AWB2D2-013INSP-ACA-AWB2D2-010INSP-ACA...\u003c/td\u003e\n      \u003ctd\u003e2023-08-29 23:55:342023-09-04 00:04:472023-08-...\u003c/td\u003e\n    \u003c/tr\u003e\n    \u003ctr\u003e\n      \u003cth\u003e7\u003c/th\u003e\n      \u003ctd\u003e0\u003c/td\u003e\n      \u003ctd\u003e5\u003c/td\u003e\n      \u003ctd\u003e5\u003c/td\u003e\n      \u003ctd\u003e159,148,122,15,3,\u003c/td\u003e\n      \u003ctd\u003e516,517,513,644,530,\u003c/td\u003e\n      \u003ctd\u003eINSP-ACA-AWB2D2-010INSP-ACA-AWB2D2-007INSP-ACA...\u003c/td\u003e\n      \u003ctd\u003e2023-09-01 23:44:362023-08-29 23:59:552023-08-...\u003c/td\u003e\n    \u003c/tr\u003e\n    \u003ctr\u003e\n      \u003cth\u003e8\u003c/th\u003e\n      \u003ctd\u003e27\u003c/td\u003e\n      \u003ctd\u003e4\u003c/td\u003e\n      \u003ctd\u003e4\u003c/td\u003e\n      \u003ctd\u003e125,90,80,74,\u003c/td\u003e\n      \u003ctd\u003e2,2,2,517,\u003c/td\u003e\n      \u003ctd\u003eINSP-ACA-AWB2D2-013INSP-ACA-AWB2D2-013INSP-ACA...\u003c/td\u003e\n      \u003ctd\u003e2023-08-26 23:56:472023-09-03 00:15:142023-09-...\u003c/td\u003e\n    \u003c/tr\u003e\n    \u003ctr\u003e\n      \u003cth\u003e9\u003c/th\u003e\n      \u003ctd\u003e25\u003c/td\u003e\n      \u003ctd\u003e4\u003c/td\u003e\n      \u003ctd\u003e4\u003c/td\u003e\n      \u003ctd\u003e157,138,86,64,\u003c/td\u003e\n      \u003ctd\u003e2,516,516,516,\u003c/td\u003e\n      \u003ctd\u003eINSP-ACA-AWB2D2-013INSP-ACA-AWB2D2-010INSP-ACA...\u003c/td\u003e\n      \u003ctd\u003e2023-08-29 23:55:342023-08-31 23:54:332023-08-...\u003c/td\u003e\n    \u003c/tr\u003e\n    \u003ctr\u003e\n      \u003cth\u003e10\u003c/th\u003e\n      \u003ctd\u003e8\u003c/td\u003e\n      \u003ctd\u003e4\u003c/td\u003e\n      \u003ctd\u003e4\u003c/td\u003e\n      \u003ctd\u003e134,51,38,17,\u003c/td\u003e\n      \u003ctd\u003e518,518,516,530,\u003c/td\u003e\n      \u003ctd\u003eINSP-ACA-AWB2D2-018INSP-ACA-AWB2D2-007INSP-ACA...\u003c/td\u003e\n      \u003ctd\u003e2023-08-29 23:59:552023-08-28 23:52:572023-08-...\u003c/td\u003e\n    \u003c/tr\u003e\n    \u003ctr\u003e\n      \u003cth\u003e11\u003c/th\u003e\n      \u003ctd\u003e22\u003c/td\u003e\n      \u003ctd\u003e4\u003c/td\u003e\n      \u003ctd\u003e4\u003c/td\u003e\n      \u003ctd\u003e67,66,62,52,\u003c/td\u003e\n      \u003ctd\u003e530,520,260,517,\u003c/td\u003e\n      \u003ctd\u003eINSP-ACA-AWB2D2-010INSP-ACA-AWB2D2-006INSP-ACA...\u003c/td\u003e\n      \u003ctd\u003e2023-09-04 00:04:182023-08-29 23:58:272023-09-...\u003c/td\u003e\n    \u003c/tr\u003e\n    \u003ctr\u003e\n      \u003cth\u003e12\u003c/th\u003e\n      \u003ctd\u003e21\u003c/td\u003e\n      \u003ctd\u003e4\u003c/td\u003e\n      \u003ctd\u003e4\u003c/td\u003e\n      \u003ctd\u003e149,142,99,45,\u003c/td\u003e\n      \u003ctd\u003e2,517,530,530,\u003c/td\u003e\n      \u003ctd\u003eINSP-ACA-AWB2D2-013INSP-ACA-AWB2D2-018INSP-ACA...\u003c/td\u003e\n      \u003ctd\u003e2023-08-26 23:56:072023-08-27 23:43:212023-09-...\u003c/td\u003e\n    \u003c/tr\u003e\n    \u003ctr\u003e\n      \u003cth\u003e13\u003c/th\u003e\n      \u003ctd\u003e11\u003c/td\u003e\n      \u003ctd\u003e4\u003c/td\u003e\n      \u003ctd\u003e4\u003c/td\u003e\n      \u003ctd\u003e173,131,50,24,\u003c/td\u003e\n      \u003ctd\u003e517,2,516,517,\u003c/td\u003e\n      \u003ctd\u003eINSP-ACA-AWB2D2-009INSP-ACA-AWB2D2-013INSP-ACA...\u003c/td\u003e\n      \u003ctd\u003e2023-08-26 23:50:092023-09-03 00:15:102023-09-...\u003c/td\u003e\n    \u003c/tr\u003e\n    \u003ctr\u003e\n      \u003cth\u003e14\u003c/th\u003e\n      \u003ctd\u003e24\u003c/td\u003e\n      \u003ctd\u003e4\u003c/td\u003e\n      \u003ctd\u003e4\u003c/td\u003e\n      \u003ctd\u003e165,144,105,63,\u003c/td\u003e\n      \u003ctd\u003e518,530,520,517,\u003c/td\u003e\n      \u003ctd\u003eINSP-ACA-AWB2D2-007INSP-ACA-AWB2D2-018INSP-ACA...\u003c/td\u003e\n      \u003ctd\u003e2023-09-04 23:51:472023-08-26 23:56:512023-09-...\u003c/td\u003e\n    \u003c/tr\u003e\n    \u003ctr\u003e\n      \u003cth\u003e15\u003c/th\u003e\n      \u003ctd\u003e6\u003c/td\u003e\n      \u003ctd\u003e3\u003c/td\u003e\n      \u003ctd\u003e3\u003c/td\u003e\n      \u003ctd\u003e100,42,14,\u003c/td\u003e\n      \u003ctd\u003e517,530,517,\u003c/td\u003e\n      \u003ctd\u003eINSP-ACA-AWB2D2-007INSP-ACA-AWB2D2-006INSP-ACA...\u003c/td\u003e\n      \u003ctd\u003e2023-08-27 23:42:462023-09-03 00:15:482023-08-...\u003c/td\u003e\n    \u003c/tr\u003e\n    \u003ctr\u003e\n      \u003cth\u003e16\u003c/th\u003e\n      \u003ctd\u003e5\u003c/td\u003e\n      \u003ctd\u003e3\u003c/td\u003e\n      \u003ctd\u003e3\u003c/td\u003e\n      \u003ctd\u003e54,32,11,\u003c/td\u003e\n      \u003ctd\u003e640,2,530,\u003c/td\u003e\n      \u003ctd\u003eINSP-ACA-AWB2D2-009INSP-ACA-AWB2D2-013INSP-ACA...\u003c/td\u003e\n      \u003ctd\u003e2023-08-30 23:38:532023-09-03 00:15:122023-08-...\u003c/td\u003e\n    \u003c/tr\u003e\n    \u003ctr\u003e\n      \u003cth\u003e17\u003c/th\u003e\n      \u003ctd\u003e1\u003c/td\u003e\n      \u003ctd\u003e3\u003c/td\u003e\n      \u003ctd\u003e3\u003c/td\u003e\n      \u003ctd\u003e140,70,5,\u003c/td\u003e\n      \u003ctd\u003e517,516,530,\u003c/td\u003e\n      \u003ctd\u003eINSP-ACA-AWB2D2-007INSP-ACA-AWB2D2-006INSP-ACA...\u003c/td\u003e\n      \u003ctd\u003e2023-08-28 23:52:582023-08-28 23:52:222023-09-...\u003c/td\u003e\n    \u003c/tr\u003e\n    \u003ctr\u003e\n      \u003cth\u003e18\u003c/th\u003e\n      \u003ctd\u003e12\u003c/td\u003e\n      \u003ctd\u003e3\u003c/td\u003e\n      \u003ctd\u003e3\u003c/td\u003e\n      \u003ctd\u003e158,118,26,\u003c/td\u003e\n      \u003ctd\u003e518,517,516,\u003c/td\u003e\n      \u003ctd\u003eINSP-ACA-AWB2D2-009INSP-ACA-AWB2D2-009INSP-ACA...\u003c/td\u003e\n      \u003ctd\u003e2023-09-03 00:13:362023-08-27 23:40:562023-08-...\u003c/td\u003e\n    \u003c/tr\u003e\n    \u003ctr\u003e\n      \u003cth\u003e19\u003c/th\u003e\n      \u003ctd\u003e17\u003c/td\u003e\n      \u003ctd\u003e3\u003c/td\u003e\n      \u003ctd\u003e3\u003c/td\u003e\n      \u003ctd\u003e156,84,35,\u003c/td\u003e\n      \u003ctd\u003e517,516,516,\u003c/td\u003e\n      \u003ctd\u003eINSP-ACA-AWB2D2-009INSP-ACA-AWB2D2-009INSP-ACA...\u003c/td\u003e\n      \u003ctd\u003e2023-08-29 23:59:112023-09-03 00:13:382023-09-...\u003c/td\u003e\n    \u003c/tr\u003e\n    \u003ctr\u003e\n      \u003cth\u003e20\u003c/th\u003e\n      \u003ctd\u003e15\u003c/td\u003e\n      \u003ctd\u003e3\u003c/td\u003e\n      \u003ctd\u003e3\u003c/td\u003e\n      \u003ctd\u003e113,103,30,\u003c/td\u003e\n      \u003ctd\u003e644,530,516,\u003c/td\u003e\n      \u003ctd\u003eINSP-ACA-AWB2D2-018INSP-ACA-AWB2D2-010INSP-ACA...\u003c/td\u003e\n      \u003ctd\u003e2023-09-03 00:15:382023-09-01 23:44:362023-09-...\u003c/td\u003e\n    \u003c/tr\u003e\n    \u003ctr\u003e\n      \u003cth\u003e21\u003c/th\u003e\n      \u003ctd\u003e16\u003c/td\u003e\n      \u003ctd\u003e3\u003c/td\u003e\n      \u003ctd\u003e3\u003c/td\u003e\n      \u003ctd\u003e93,39,31,\u003c/td\u003e\n      \u003ctd\u003e662,530,517,\u003c/td\u003e\n      \u003ctd\u003eINSP-ACA-AWB2D2-009INSP-ACA-AWB2D2-006INSP-ACA...\u003c/td\u003e\n      \u003ctd\u003e2023-09-04 00:06:432023-08-25 23:44:462023-09-...\u003c/td\u003e\n    \u003c/tr\u003e\n    \u003ctr\u003e\n      \u003cth\u003e22\u003c/th\u003e\n      \u003ctd\u003e33\u003c/td\u003e\n      \u003ctd\u003e3\u003c/td\u003e\n      \u003ctd\u003e3\u003c/td\u003e\n      \u003ctd\u003e168,137,126,\u003c/td\u003e\n      \u003ctd\u003e517,2,516,\u003c/td\u003e\n      \u003ctd\u003eINSP-ACA-AWB2D2-010INSP-ACA-AWB2D2-013INSP-ACA...\u003c/td\u003e\n      \u003ctd\u003e2023-09-03 00:11:372023-08-30 23:46:502023-08-...\u003c/td\u003e\n    \u003c/tr\u003e\n    \u003ctr\u003e\n      \u003cth\u003e23\u003c/th\u003e\n      \u003ctd\u003e19\u003c/td\u003e\n      \u003ctd\u003e3\u003c/td\u003e\n      \u003ctd\u003e3\u003c/td\u003e\n      \u003ctd\u003e143,119,41,\u003c/td\u003e\n      \u003ctd\u003e520,516,2,\u003c/td\u003e\n      \u003ctd\u003eINSP-ACA-AWB2D2-006INSP-ACA-AWB2D2-007INSP-ACA...\u003c/td\u003e\n      \u003ctd\u003e2023-07-24 23:19:342023-08-24 23:49:512023-09-...\u003c/td\u003e\n    \u003c/tr\u003e\n    \u003ctr\u003e\n      \u003cth\u003e24\u003c/th\u003e\n      \u003ctd\u003e23\u003c/td\u003e\n      \u003ctd\u003e3\u003c/td\u003e\n      \u003ctd\u003e3\u003c/td\u003e\n      \u003ctd\u003e167,146,57,\u003c/td\u003e\n      \u003ctd\u003e517,2,517,\u003c/td\u003e\n      \u003ctd\u003eINSP-ACA-AWB2D2-002INSP-ACA-AWB2D2-013INSP-ACA...\u003c/td\u003e\n      \u003ctd\u003e2023-08-29 23:58:222023-09-04 23:52:202023-08-...\u003c/td\u003e\n    \u003c/tr\u003e\n    \u003ctr\u003e\n      \u003cth\u003e25\u003c/th\u003e\n      \u003ctd\u003e28\u003c/td\u003e\n      \u003ctd\u003e3\u003c/td\u003e\n      \u003ctd\u003e3\u003c/td\u003e\n      \u003ctd\u003e135,117,77,\u003c/td\u003e\n      \u003ctd\u003e514,644,344,\u003c/td\u003e\n      \u003ctd\u003eINSP-ACA-AWB2D2-006INSP-ACA-AWB2D2-010INSP-ACA...\u003c/td\u003e\n      \u003ctd\u003e2023-09-03 00:15:012023-09-03 00:12:502023-09-...\u003c/td\u003e\n    \u003c/tr\u003e\n    \u003ctr\u003e\n      \u003cth\u003e26\u003c/th\u003e\n      \u003ctd\u003e29\u003c/td\u003e\n      \u003ctd\u003e3\u003c/td\u003e\n      \u003ctd\u003e3\u003c/td\u003e\n      \u003ctd\u003e112,111,87,\u003c/td\u003e\n      \u003ctd\u003e518,644,520,\u003c/td\u003e\n      \u003ctd\u003eINSP-ACA-AWB2D2-002INSP-ACA-AWB2D2-006INSP-ACA...\u003c/td\u003e\n      \u003ctd\u003e2023-09-03 00:12:542023-08-31 23:56:532023-08-...\u003c/td\u003e\n    \u003c/tr\u003e\n    \u003ctr\u003e\n      \u003cth\u003e27\u003c/th\u003e\n      \u003ctd\u003e20\u003c/td\u003e\n      \u003ctd\u003e2\u003c/td\u003e\n      \u003ctd\u003e10\u003c/td\u003e\n      \u003ctd\u003e174,44,\u003c/td\u003e\n      \u003ctd\u003e516,516,516,516,261,516,516,516,516,261,\u003c/td\u003e\n      \u003ctd\u003eINSP-ACA-AWB2D2-006INSP-ACA-AWB2D2-006\u003c/td\u003e\n      \u003ctd\u003e2023-08-25 23:45:372023-09-04 00:07:17\u003c/td\u003e\n    \u003c/tr\u003e\n    \u003ctr\u003e\n      \u003cth\u003e28\u003c/th\u003e\n      \u003ctd\u003e26\u003c/td\u003e\n      \u003ctd\u003e2\u003c/td\u003e\n      \u003ctd\u003e2\u003c/td\u003e\n      \u003ctd\u003e154,69,\u003c/td\u003e\n      \u003ctd\u003e644,644,\u003c/td\u003e\n      \u003ctd\u003eINSP-ACA-AWB2D2-007INSP-ACA-AWB2D2-018\u003c/td\u003e\n      \u003ctd\u003e2023-09-03 00:16:082023-09-04 00:06:27\u003c/td\u003e\n    \u003c/tr\u003e\n    \u003ctr\u003e\n      \u003cth\u003e29\u003c/th\u003e\n      \u003ctd\u003e30\u003c/td\u003e\n      \u003ctd\u003e2\u003c/td\u003e\n      \u003ctd\u003e4\u003c/td\u003e\n      \u003ctd\u003e110,88,\u003c/td\u003e\n      \u003ctd\u003e2,2,516,516,\u003c/td\u003e\n      \u003ctd\u003eINSP-ACA-AWB2D2-013INSP-ACA-AWB2D2-007\u003c/td\u003e\n      \u003ctd\u003e2023-08-29 23:59:472023-09-04 23:52:51\u003c/td\u003e\n    \u003c/tr\u003e\n    \u003ctr\u003e\n      \u003cth\u003e30\u003c/th\u003e\n      \u003ctd\u003e31\u003c/td\u003e\n      \u003ctd\u003e2\u003c/td\u003e\n      \u003ctd\u003e2\u003c/td\u003e\n      \u003ctd\u003e132,108,\u003c/td\u003e\n      \u003ctd\u003e261,520,\u003c/td\u003e\n      \u003ctd\u003eINSP-ACA-AWB2D2-006INSP-ACA-AWB2D2-018\u003c/td\u003e\n      \u003ctd\u003e2023-08-31 23:56:162023-09-04 00:01:38\u003c/td\u003e\n    \u003c/tr\u003e\n    \u003ctr\u003e\n      \u003cth\u003e31\u003c/th\u003e\n      \u003ctd\u003e2\u003c/td\u003e\n      \u003ctd\u003e2\u003c/td\u003e\n      \u003ctd\u003e2\u003c/td\u003e\n      \u003ctd\u003e147,6,\u003c/td\u003e\n      \u003ctd\u003e513,530,\u003c/td\u003e\n      \u003ctd\u003eINSP-ACA-AWB2D2-007INSP-ACA-AWB2D2-007\u003c/td\u003e\n      \u003ctd\u003e2023-08-25 23:45:212023-08-27 23:43:28\u003c/td\u003e\n    \u003c/tr\u003e\n    \u003ctr\u003e\n      \u003cth\u003e32\u003c/th\u003e\n      \u003ctd\u003e32\u003c/td\u003e\n      \u003ctd\u003e2\u003c/td\u003e\n      \u003ctd\u003e2\u003c/td\u003e\n      \u003ctd\u003e141,115,\u003c/td\u003e\n      \u003ctd\u003e516,516,\u003c/td\u003e\n      \u003ctd\u003eINSP-ACA-AWB2D2-009INSP-ACA-AWB2D2-018\u003c/td\u003e\n      \u003ctd\u003e2023-09-04 23:52:372023-08-29 23:59:55\u003c/td\u003e\n    \u003c/tr\u003e\n    \u003ctr\u003e\n      \u003cth\u003e33\u003c/th\u003e\n      \u003ctd\u003e10\u003c/td\u003e\n      \u003ctd\u003e2\u003c/td\u003e\n      \u003ctd\u003e2\u003c/td\u003e\n      \u003ctd\u003e169,20,\u003c/td\u003e\n      \u003ctd\u003e517,516,\u003c/td\u003e\n      \u003ctd\u003eINSP-ACA-AWB2D2-018INSP-ACA-AWB2D2-006\u003c/td\u003e\n      \u003ctd\u003e2023-08-31 23:56:082023-09-01 23:46:56\u003c/td\u003e\n    \u003c/tr\u003e\n  \u003c/tbody\u003e\n\u003c/table\u003e\n\u003c/div\u003e"
          },
          "metadata": {}
        }
      ]
    },
    {
      "execution_count": 71,
      "cell_type": "code",
      "metadata": {},
      "source": [
        "sin_cluster\u003dsin_cluster.reset_index()"
      ],
      "outputs": []
    },
    {
      "execution_count": 72,
      "cell_type": "code",
      "metadata": {},
      "source": [
        "strip_list\u003dsin_cluster[\u0027index\u0027].tolist()"
      ],
      "outputs": []
    },
    {
      "execution_count": 73,
      "cell_type": "code",
      "metadata": {},
      "source": [
        "#strip_list"
      ],
      "outputs": []
    },
    {
      "execution_count": 74,
      "cell_type": "code",
      "metadata": {},
      "source": [
        "testf[150]"
      ],
      "outputs": [
        {
          "output_type": "execute_result",
          "execution_count": 74,
          "data": {
            "text/plain": "\u003ctf.Tensor: shape\u003d(48, 1), dtype\u003dfloat64, numpy\u003d\narray([[0.],\n       [1.],\n       [0.],\n       [0.],\n       [0.],\n       [0.],\n       [0.],\n       [0.],\n       [0.],\n       [0.],\n       [0.],\n       [0.],\n       [0.],\n       [0.],\n       [0.],\n       [0.],\n       [0.],\n       [0.],\n       [0.],\n       [0.],\n       [0.],\n       [0.],\n       [0.],\n       [0.],\n       [0.],\n       [0.],\n       [0.],\n       [0.],\n       [0.],\n       [0.],\n       [0.],\n       [0.],\n       [0.],\n       [0.],\n       [0.],\n       [0.],\n       [0.],\n       [0.],\n       [0.],\n       [0.],\n       [0.],\n       [0.],\n       [0.],\n       [0.],\n       [0.],\n       [0.],\n       [0.],\n       [0.]])\u003e"
          },
          "metadata": {}
        }
      ]
    },
    {
      "execution_count": 75,
      "cell_type": "code",
      "metadata": {},
      "source": [
        "testf[145]"
      ],
      "outputs": [
        {
          "output_type": "execute_result",
          "execution_count": 75,
          "data": {
            "text/plain": "\u003ctf.Tensor: shape\u003d(48, 1), dtype\u003dfloat64, numpy\u003d\narray([[0.],\n       [1.],\n       [0.],\n       [0.],\n       [0.],\n       [0.],\n       [0.],\n       [0.],\n       [0.],\n       [0.],\n       [0.],\n       [0.],\n       [0.],\n       [0.],\n       [0.],\n       [0.],\n       [0.],\n       [0.],\n       [0.],\n       [0.],\n       [0.],\n       [0.],\n       [0.],\n       [0.],\n       [0.],\n       [0.],\n       [0.],\n       [0.],\n       [0.],\n       [0.],\n       [0.],\n       [0.],\n       [0.],\n       [0.],\n       [0.],\n       [0.],\n       [0.],\n       [0.],\n       [0.],\n       [0.],\n       [0.],\n       [0.],\n       [0.],\n       [0.],\n       [0.],\n       [0.],\n       [0.],\n       [0.]])\u003e"
          },
          "metadata": {}
        }
      ]
    },
    {
      "execution_count": 76,
      "cell_type": "code",
      "metadata": {},
      "source": [
        "plt.imshow(testf[37])"
      ],
      "outputs": [
        {
          "output_type": "execute_result",
          "execution_count": 76,
          "data": {
            "text/plain": "\u003cmatplotlib.image.AxesImage at 0x7fe55a1dc390\u003e"
          },
          "metadata": {}
        },
        {
          "output_type": "display_data",
          "data": {
            "text/plain": "\u003cFigure size 432x288 with 1 Axes\u003e",
            "image/png": "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\u003d\u003d\n"
          },
          "metadata": {}
        }
      ]
    },
    {
      "execution_count": 77,
      "cell_type": "code",
      "metadata": {},
      "source": [
        "plt.imshow(testf[0])"
      ],
      "outputs": [
        {
          "output_type": "execute_result",
          "execution_count": 77,
          "data": {
            "text/plain": "\u003cmatplotlib.image.AxesImage at 0x7fe6701880f0\u003e"
          },
          "metadata": {}
        },
        {
          "output_type": "display_data",
          "data": {
            "text/plain": "\u003cFigure size 432x288 with 1 Axes\u003e",
            "image/png": "[encoded data removed]"
          },
          "metadata": {}
        }
      ]
    },
    {
      "execution_count": 78,
      "cell_type": "code",
      "metadata": {},
      "source": [
        "itest.iloc[44,0]"
      ],
      "outputs": [
        {
          "output_type": "execute_result",
          "execution_count": 78,
          "data": {
            "text/plain": "\u0027516,516,516,516,261,\u0027"
          },
          "metadata": {}
        }
      ]
    },
    {
      "execution_count": 79,
      "cell_type": "code",
      "metadata": {},
      "source": [
        "t\u003ditest.iloc[44,0].split(\u0027,\u0027)"
      ],
      "outputs": []
    },
    {
      "execution_count": 80,
      "cell_type": "code",
      "metadata": {},
      "source": [
        "t"
      ],
      "outputs": [
        {
          "output_type": "execute_result",
          "execution_count": 80,
          "data": {
            "text/plain": "[\u0027516\u0027, \u0027516\u0027, \u0027516\u0027, \u0027516\u0027, \u0027261\u0027, \u0027\u0027]"
          },
          "metadata": {}
        }
      ]
    },
    {
      "execution_count": 81,
      "cell_type": "code",
      "metadata": {},
      "source": [
        "set(t)"
      ],
      "outputs": [
        {
          "output_type": "execute_result",
          "execution_count": 81,
          "data": {
            "text/plain": "{\u0027\u0027, \u0027261\u0027, \u0027516\u0027}"
          },
          "metadata": {}
        }
      ]
    },
    {
      "execution_count": 82,
      "cell_type": "code",
      "metadata": {},
      "source": [
        "t.count(\u0027516\u0027)"
      ],
      "outputs": [
        {
          "output_type": "execute_result",
          "execution_count": 82,
          "data": {
            "text/plain": "4"
          },
          "metadata": {}
        }
      ]
    },
    {
      "execution_count": 83,
      "cell_type": "code",
      "metadata": {},
      "source": [
        "max(set(t), key\u003dt.count)"
      ],
      "outputs": [
        {
          "output_type": "execute_result",
          "execution_count": 83,
          "data": {
            "text/plain": "\u0027516\u0027"
          },
          "metadata": {}
        }
      ]
    },
    {
      "execution_count": 84,
      "cell_type": "code",
      "metadata": {},
      "source": [
        "tnp\u003dnp.array(t)"
      ],
      "outputs": []
    },
    {
      "execution_count": 85,
      "cell_type": "code",
      "metadata": {},
      "source": [
        "unique, counts \u003d np.unique(tnp, return_counts\u003dTrue)"
      ],
      "outputs": []
    },
    {
      "execution_count": 86,
      "cell_type": "code",
      "metadata": {},
      "source": [
        "unique"
      ],
      "outputs": [
        {
          "output_type": "execute_result",
          "execution_count": 86,
          "data": {
            "text/plain": "array([\u0027\u0027, \u0027261\u0027, \u0027516\u0027], dtype\u003d\u0027\u003cU3\u0027)"
          },
          "metadata": {}
        }
      ]
    },
    {
      "execution_count": 87,
      "cell_type": "code",
      "metadata": {},
      "source": [
        "counts"
      ],
      "outputs": [
        {
          "output_type": "execute_result",
          "execution_count": 87,
          "data": {
            "text/plain": "array([1, 1, 4])"
          },
          "metadata": {}
        }
      ]
    },
    {
      "execution_count": 88,
      "cell_type": "code",
      "metadata": {},
      "source": [
        "index \u003d np.argmax(counts)"
      ],
      "outputs": []
    },
    {
      "execution_count": 89,
      "cell_type": "code",
      "metadata": {},
      "source": [
        "tnp[index]"
      ],
      "outputs": [
        {
          "output_type": "execute_result",
          "execution_count": 89,
          "data": {
            "text/plain": "\u0027516\u0027"
          },
          "metadata": {}
        }
      ]
    },
    {
      "execution_count": 90,
      "cell_type": "code",
      "metadata": {},
      "source": [
        "np.count_nonzero(test[10]\u003d\u003d1)"
      ],
      "outputs": [
        {
          "output_type": "execute_result",
          "execution_count": 90,
          "data": {
            "text/plain": "1"
          },
          "metadata": {}
        }
      ]
    },
    {
      "execution_count": 91,
      "cell_type": "code",
      "metadata": {},
      "source": [
        "encode_train_df[\u0027x\u0027].shape"
      ],
      "outputs": [
        {
          "output_type": "execute_result",
          "execution_count": 91,
          "data": {
            "text/plain": "(633,)"
          },
          "metadata": {}
        }
      ]
    },
    {
      "execution_count": 92,
      "cell_type": "code",
      "metadata": {},
      "source": [
        "mean_x\u003dencode_train_df[\u0027x\u0027].mean()"
      ],
      "outputs": []
    },
    {
      "execution_count": 93,
      "cell_type": "code",
      "metadata": {},
      "source": [
        "mean_y\u003dencode_train_df[\u0027y\u0027].mean()"
      ],
      "outputs": []
    },
    {
      "execution_count": 94,
      "cell_type": "code",
      "metadata": {},
      "source": [
        "var_x\u003dnp.power((encode_train_df[\u0027x\u0027]-mean_x),2).sum()/(948-1)"
      ],
      "outputs": []
    },
    {
      "execution_count": 95,
      "cell_type": "code",
      "metadata": {},
      "source": [
        "var_x"
      ],
      "outputs": [
        {
          "output_type": "execute_result",
          "execution_count": 95,
          "data": {
            "text/plain": "0.6483714376608698"
          },
          "metadata": {}
        }
      ]
    },
    {
      "execution_count": 96,
      "cell_type": "code",
      "metadata": {},
      "source": [
        "var_y\u003dnp.power((encode_train_df[\u0027y\u0027]-mean_y),2).sum()/(948-1)"
      ],
      "outputs": []
    },
    {
      "execution_count": 97,
      "cell_type": "code",
      "metadata": {},
      "source": [
        "var_y"
      ],
      "outputs": [
        {
          "output_type": "execute_result",
          "execution_count": 97,
          "data": {
            "text/plain": "0.5814044634165457"
          },
          "metadata": {}
        }
      ]
    },
    {
      "execution_count": 98,
      "cell_type": "code",
      "metadata": {},
      "source": [
        "cov\u003dnp.multiply((encode_train_df[\u0027x\u0027]-mean_x),(encode_train_df[\u0027y\u0027]-mean_y)).sum()/(948-1)"
      ],
      "outputs": []
    },
    {
      "execution_count": 99,
      "cell_type": "code",
      "metadata": {},
      "source": [
        "cov_mat\u003d[[var_x,cov],[cov,var_y]]"
      ],
      "outputs": []
    },
    {
      "execution_count": 100,
      "cell_type": "code",
      "metadata": {},
      "source": [
        "cov_mat"
      ],
      "outputs": [
        {
          "output_type": "execute_result",
          "execution_count": 100,
          "data": {
            "text/plain": "[[0.6483714376608698, 0.41833808681403445],\n [0.41833808681403445, 0.5814044634165457]]"
          },
          "metadata": {}
        }
      ]
    },
    {
      "execution_count": 101,
      "cell_type": "code",
      "metadata": {},
      "source": [
        "U, S, Vh \u003d np.linalg.svd(cov_mat, full_matrices\u003dTrue)"
      ],
      "outputs": []
    },
    {
      "execution_count": 102,
      "cell_type": "code",
      "metadata": {},
      "source": [
        "U"
      ],
      "outputs": [
        {
          "output_type": "execute_result",
          "execution_count": 102,
          "data": {
            "text/plain": "array([[-0.73477348, -0.67831256],\n       [-0.67831256,  0.73477348]])"
          },
          "metadata": {}
        }
      ]
    },
    {
      "execution_count": 103,
      "cell_type": "code",
      "metadata": {},
      "source": [
        "S"
      ],
      "outputs": [
        {
          "output_type": "execute_result",
          "execution_count": 103,
          "data": {
            "text/plain": "array([1.0345639 , 0.19521201])"
          },
          "metadata": {}
        }
      ]
    },
    {
      "execution_count": 104,
      "cell_type": "code",
      "metadata": {},
      "source": [
        "Vh"
      ],
      "outputs": [
        {
          "output_type": "execute_result",
          "execution_count": 104,
          "data": {
            "text/plain": "array([[-0.73477348, -0.67831256],\n       [-0.67831256,  0.73477348]])"
          },
          "metadata": {}
        }
      ]
    },
    {
      "execution_count": 105,
      "cell_type": "code",
      "metadata": {},
      "source": [
        "#!pwd"
      ],
      "outputs": []
    },
    {
      "execution_count": 106,
      "cell_type": "code",
      "metadata": {},
      "source": [
        "#autoencoder.save_weights(\"model_weights2.h5\")"
      ],
      "outputs": []
    },
    {
      "execution_count": 107,
      "cell_type": "code",
      "metadata": {},
      "source": [
        "#ls"
      ],
      "outputs": []
    },
    {
      "execution_count": 0,
      "cell_type": "code",
      "metadata": {},
      "source": [
        ""
      ],
      "outputs": []
    },
    {
      "execution_count": 0,
      "cell_type": "code",
      "metadata": {},
      "source": [
        ""
      ],
      "outputs": []
    }
  ]
}