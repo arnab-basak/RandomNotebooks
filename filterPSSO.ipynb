{
 "cells": [
  {
   "cell_type": "code",
   "execution_count": 1,
   "metadata": {},
   "outputs": [
    {
     "name": "stdout",
     "output_type": "stream",
     "text": [
      "Populating the interactive namespace from numpy and matplotlib\n"
     ]
    }
   ],
   "source": [
    "%pylab inline"
   ]
  },
  {
   "cell_type": "code",
   "execution_count": 1,
   "metadata": {},
   "outputs": [],
   "source": [
    "import dataiku\n",
    "from dataiku import pandasutils as pdu\n",
    "import pandas as pd"
   ]
  },
  {
   "cell_type": "code",
   "execution_count": 8,
   "metadata": {},
   "outputs": [
    {
     "name": "stdout",
     "output_type": "stream",
     "text": [
      "/apps/dataiku/dss_data/managed_folders/DUMMY/fNS2is4T\n"
     ]
    }
   ],
   "source": [
    "img = dataiku.Folder(\"PSSOcropClass\")\n",
    "img_info=img.get_info()\n",
    "img_path=img_info['path']\n",
    "data_path=img_path\n",
    "print(img_path)\n",
    "#print(data_path)\n",
    "out = dataiku.Folder(\"PSSOfilter\")\n",
    "out_info=out.get_info()\n",
    "out_path=out_info['path']\n",
    "\n",
    "img1 = dataiku.Folder(\"type1\")\n",
    "img1_info=img1.get_info()\n",
    "type1_path=img1_info['path']\n",
    "\n",
    "crop = dataiku.Folder(\"PSSOcropClass\")\n",
    "crop_info=crop.get_info()\n",
    "crop_path=crop_info['path']\n",
    "\n",
    "\n",
    "import matplotlib.pyplot as plt\n",
    "import numpy as np\n",
    "import random\n",
    "import tensorflow \n",
    "import splitfolders\n",
    "import os\n",
    "from PIL import Image,ImageOps,ImageFilter \n",
    "from skimage import data, color\n",
    "from skimage.transform import rescale, resize, downscale_local_mean\n",
    "from skimage import io\n",
    "from skimage.util import crop\n",
    "\n",
    "import os\n",
    "import scipy.fftpack\n",
    "from collections import OrderedDict\n",
    "from tensorflow.keras.models import Model\n",
    "import tensorflow as tf\n",
    "from tensorflow.keras.layers import LeakyReLU,BatchNormalization,Dropout,Dense,Conv2D,Conv2DTranspose,ReLU,UpSampling2D,\\\n",
    "                                    Reshape,Flatten,ZeroPadding2D,Reshape,Input\n",
    "from tensorflow.keras.losses import MeanSquaredError\n",
    "from keras.callbacks import ReduceLROnPlateau, EarlyStopping\n",
    "from easydict import EasyDict as edict\n",
    "from scipy.io import loadmat\n",
    "from tensorflow.keras import Sequential\n",
    "from tensorflow.keras.activations import tanh\n",
    "from tensorflow.keras.optimizers import schedules, Adam\n",
    "from tensorflow.keras.losses import SparseCategoricalCrossentropy,KLDivergence,BinaryCrossentropy,MeanSquaredError,\\\n",
    "                                    CategoricalCrossentropy\n",
    "import os\n",
    "from tensorflow.keras.preprocessing.image import array_to_img\n",
    "from tensorflow.keras.callbacks import Callback\n",
    "from tensorflow.keras.regularizers import l2\n",
    "import tensorflow_hub as hub\n",
    "\n",
    "from sklearn.cluster import KMeans,DBSCAN\n",
    "from sklearn import metrics\n",
    "from scipy.spatial.distance import cdist\n",
    "import numpy as np\n",
    "import matplotlib.pyplot as plt"
   ]
  },
  {
   "cell_type": "code",
   "execution_count": 9,
   "metadata": {},
   "outputs": [
    {
     "data": {
      "text/plain": [
       "'/apps/dataiku/dss_data/managed_folders/DUMMY/fNS2is4T/missing'"
      ]
     },
     "execution_count": 9,
     "metadata": {},
     "output_type": "execute_result"
    }
   ],
   "source": [
    "data_path+\"/missing\""
   ]
  },
  {
   "cell_type": "code",
   "execution_count": 10,
   "metadata": {},
   "outputs": [
    {
     "data": {
      "text/plain": [
       "'/apps/dataiku/dss_data/managed_folders/DUMMY/gQYnJ00K'"
      ]
     },
     "execution_count": 10,
     "metadata": {},
     "output_type": "execute_result"
    }
   ],
   "source": [
    "out_path"
   ]
  },
  {
   "cell_type": "code",
   "execution_count": 12,
   "metadata": {},
   "outputs": [
    {
     "name": "stdout",
     "output_type": "stream",
     "text": [
      "1_1_2-fail.png\n",
      "1_2_1-fail.png\n",
      "1_3_2-fail.png\n",
      "1_3_1-fail.png\n",
      "1_4_2-fail.png\n",
      "1_4_3-fail.png\n",
      "3_2_22-fail.png\n",
      "6_1_24-fail.png\n",
      "7_4_7-fail.png\n",
      "1_2_2-fail.png\n",
      "14_4_17-fail.png\n",
      "38_4_19-fail.png\n",
      "43_3_1-fail.png\n",
      "1_4_1-fail.png\n",
      "51_4_15-fail.png\n",
      "56_1_1-fail.png\n",
      "56_1_2-fail.png\n",
      "8_4_12-fail.png\n",
      "56_3_1-fail.png\n",
      "56_2_2-fail.png\n",
      "56_2_1-fail.png\n",
      "56_3_2-fail.png\n",
      "47_4_3-fail.png\n",
      "56_4_2-fail.png\n",
      "57_1_24-fail.png\n",
      "56_4_1-fail.png\n",
      "16_1_12-fail.png\n",
      "1_1_1-fail.png\n"
     ]
    }
   ],
   "source": [
    "#imgs=[]\n",
    "#names=[]\n",
    "for filename in os.listdir(data_path+\"/missing\"):\n",
    "    print(filename)\n",
    "    #names.append(filename)\n",
    "    im=Image.open(data_path+\"/missing/\"+filename)\n",
    "    #im =im.crop((500,700,800,900))\n",
    "    #im=im.resize((256,256))\n",
    "    im=im.filter(ImageFilter.FIND_EDGES)\n",
    "    im = ImageOps.grayscale(im) \n",
    "    #imgs.append(np.asarray(im))\n",
    "    im.save(out_path+\"/missing/\"+filename)"
   ]
  },
  {
   "cell_type": "code",
   "execution_count": 13,
   "metadata": {},
   "outputs": [
    {
     "name": "stdout",
     "output_type": "stream",
     "text": [
      "1_2_24-fail.png\n",
      "3_2_7-fail.png\n",
      "6_2_3-fail.png\n",
      "6_2_4-fail.png\n",
      "6_3_23-fail.png\n",
      "6_2_24-fail.png\n",
      "6_2_23-fail.png\n",
      "6_3_24-fail.png\n",
      "2_2_2-fail.png\n",
      "2_3_1-fail.png\n",
      "7_1_15-fail.png\n",
      "6_4_15-fail.png\n",
      "7_3_10-fail.png\n",
      "8_4_3-fail.png\n",
      "3_4_20-fail.png\n",
      "7_4_16-fail.png\n",
      "9_2_24-fail.png\n",
      "7_1_17-fail.png\n",
      "7_2_10-fail.png\n",
      "10_2_1-fail.png\n",
      "10_1_23-fail.png\n",
      "10_4_14-fail.png\n",
      "10_4_15-fail.png\n",
      "11_1_1-fail.png\n",
      "10_2_2-fail.png\n",
      "11_4_24-fail.png\n",
      "11_4_7-fail.png\n",
      "12_4_3-fail.png\n",
      "13_1_24-fail.png\n",
      "9_4_14-fail.png\n",
      "10_2_15-fail.png\n",
      "13_2_2-fail.png\n",
      "12_1_14-fail.png\n",
      "13_4_9-fail.png\n",
      "13_4_15-fail.png\n",
      "14_1_5-fail.png\n",
      "15_1_12-fail.png\n",
      "13_4_12-fail.png\n",
      "13_4_5-fail.png\n",
      "16_1_3-fail.png\n",
      "21_2_18-fail.png\n",
      "23_2_12-fail.png\n",
      "13_4_4-fail.png\n",
      "18_1_8-fail.png\n",
      "23_2_24-fail.png\n",
      "19_4_22-fail.png\n",
      "23_4_2-fail.png\n",
      "25_2_2-fail.png\n",
      "23_3_24-fail.png\n",
      "25_2_9-fail.png\n",
      "27_4_3-fail.png\n",
      "24_3_9-fail.png\n",
      "6_4_21-fail.png\n",
      "27_4_5-fail.png\n",
      "12_4_23-fail.png\n",
      "27_2_22-fail.png\n",
      "28_3_8-fail.png\n",
      "23_3_3-fail.png\n",
      "31_3_6-fail.png\n",
      "31_4_24-fail.png\n",
      "27_4_10-fail.png\n",
      "32_4_7-fail.png\n",
      "32_4_11-fail.png\n",
      "33_2_1-fail.png\n",
      "34_4_9-fail.png\n",
      "35_1_11-fail.png\n",
      "34_2_24-fail.png\n",
      "36_3_14-fail.png\n",
      "35_2_4-fail.png\n",
      "35_3_4-fail.png\n",
      "38_4_4-fail.png\n",
      "38_2_12-fail.png\n",
      "38_2_24-fail.png\n",
      "40_2_15-fail.png\n",
      "38_2_5-fail.png\n",
      "40_3_20-fail.png\n",
      "41_3_11-fail.png\n",
      "42_1_1-fail.png\n",
      "44_2_11-fail.png\n",
      "44_1_8-fail.png\n",
      "46_2_12-fail.png\n",
      "43_4_15-fail.png\n",
      "46_3_1-fail.png\n",
      "46_4_19-fail.png\n",
      "46_4_3-fail.png\n",
      "50_4_22-fail.png\n",
      "48_1_12-fail.png\n",
      "49_4_22-fail.png\n",
      "51_3_20-fail.png\n",
      "47_2_24-fail.png\n",
      "51_4_3-fail.png\n",
      "52_4_13-fail.png\n",
      "52_4_9-fail.png\n",
      "53_3_15-fail.png\n",
      "53_4_5-fail.png\n",
      "53_2_1-fail.png\n",
      "55_2_1-fail.png\n",
      "55_1_1-fail.png\n",
      "53_4_9-fail.png\n",
      "28_1_20-fail.png\n",
      "55_2_19-fail.png\n",
      "56_3_24-fail.png\n",
      "59_4_4-fail.png\n",
      "32_4_3-fail.png\n",
      "57_2_24-fail.png\n",
      "55_2_13-fail.png\n",
      "61_2_6-fail.png\n",
      "62_1_3-fail.png\n",
      "61_4_9-fail.png\n",
      "62_1_4-fail.png\n",
      "61_2_19-fail.png\n",
      "66_4_10-fail.png\n",
      "65_1_7-fail.png\n",
      "67_4_18-fail.png\n",
      "68_2_2-fail.png\n",
      "66_4_11-fail.png\n",
      "68_3_10-fail.png\n",
      "59_2_14-fail.png\n",
      "61_3_21-fail.png\n",
      "61_2_15-fail.png\n"
     ]
    }
   ],
   "source": [
    "for filename in os.listdir(data_path+\"/present\"):\n",
    "    print(filename)\n",
    "    #names.append(filename)\n",
    "    im=Image.open(type1_path+\"/\"+filename)\n",
    "    im =im.crop((500,700,800,900))\n",
    "    im=im.resize((256,256))\n",
    "    #im=im.filter(ImageFilter.FIND_EDGES)\n",
    "    #im = ImageOps.grayscale(im) \n",
    "    #imgs.append(np.asarray(im))\n",
    "    im.save(crop_path+\"/present/\"+filename)"
   ]
  },
  {
   "cell_type": "code",
   "execution_count": 0,
   "metadata": {},
   "outputs": [],
   "source": []
  }
 ],
 "metadata": {
  "createdOn": 1708404406116,
  "creator": "arnab.basak",
  "customFields": {},
  "hide_input": false,
  "kernelspec": {
   "display_name": "Python (env ENV1)",
   "language": "python",
   "name": "py-dku-venv-env1"
  },
  "language_info": {
   "codemirror_mode": {
    "name": "ipython",
    "version": 3
   },
   "file_extension": ".py",
   "mimetype": "text/x-python",
   "name": "python",
   "nbconvert_exporter": "python",
   "pygments_lexer": "ipython3",
   "version": "3.9.7"
  },
  "modifiedBy": "arnab.basak",
  "tags": [],
  "versionNumber": 1
 },
 "nbformat": 4,
 "nbformat_minor": 1
}
