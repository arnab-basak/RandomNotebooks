{
 "cells": [
  {
   "cell_type": "code",
   "execution_count": 1,
   "id": "385deedf",
   "metadata": {},
   "outputs": [],
   "source": [
    "import pandas as pd\n",
    "import numpy as np\n",
    "train=pd.read_csv(\"train1.csv\")\n",
    "test=pd.read_csv(\"test1.csv\")"
   ]
  },
  {
   "cell_type": "code",
   "execution_count": 2,
   "id": "7a00da6c",
   "metadata": {},
   "outputs": [],
   "source": [
    "train= train.drop(train[(train['DeviceCategoryAOI'] == 'AOI_GOOD')&(train['DeviceCategoryDA']=='POPULATED_GOOD')&\n",
    "                       (train['DeviceCategoryWB'] == 'BONDED_GOOD')].index)\n",
    "test= test.drop(test[(test['DeviceCategoryAOI'] == 'AOI_GOOD')&(test['DeviceCategoryDA'] == 'POPULATED_GOOD')&\n",
    "                       (test['DeviceCategoryWB'] == 'BONDED_GOOD')].index)"
   ]
  },
  {
   "cell_type": "code",
   "execution_count": 3,
   "id": "fe1b5e8d",
   "metadata": {},
   "outputs": [],
   "source": [
    "from sklearn.preprocessing import OrdinalEncoder\n",
    "enc=OrdinalEncoder()"
   ]
  },
  {
   "cell_type": "code",
   "execution_count": 4,
   "id": "6ea8c6bc",
   "metadata": {},
   "outputs": [],
   "source": [
    "train['StripID']=enc.fit_transform(train[['StripID']])"
   ]
  },
  {
   "cell_type": "code",
   "execution_count": 5,
   "id": "d6974a0e",
   "metadata": {},
   "outputs": [],
   "source": [
    "test['StripID']=enc.fit_transform(test[['StripID']])"
   ]
  },
  {
   "cell_type": "code",
   "execution_count": 6,
   "id": "9627910f",
   "metadata": {},
   "outputs": [],
   "source": [
    "strip_train=train['StripID'].unique()\n",
    "strip_test=test['StripID'].unique()"
   ]
  },
  {
   "cell_type": "code",
   "execution_count": 7,
   "id": "4efdadde",
   "metadata": {},
   "outputs": [],
   "source": [
    "dcube_train=np.zeros((strip_train.size,16,4))"
   ]
  },
  {
   "cell_type": "code",
   "execution_count": 8,
   "id": "c576524c",
   "metadata": {},
   "outputs": [],
   "source": [
    "dcube_test=np.zeros((strip_test.size,16,4))"
   ]
  },
  {
   "cell_type": "code",
   "execution_count": 9,
   "id": "e9278464",
   "metadata": {},
   "outputs": [],
   "source": [
    "train['StripID']=train['StripID'].apply(int)\n",
    "test['StripID']=test['StripID'].apply(int)"
   ]
  },
  {
   "cell_type": "code",
   "execution_count": 10,
   "id": "af067355",
   "metadata": {},
   "outputs": [],
   "source": [
    "for index,row in train.iterrows():\n",
    "        if (row['DeviceCategoryDA']!='POPULATED_GOOD'):\n",
    "            dcube_train[row['StripID']][row['StripX']][row['StripY']]+=1\n",
    "        #if (row['DeviceCategoryWB']!='BONDED_GOOD'):\n",
    "            #dcube_train[row['StripID']][row['StripX']][row['StripY']]+=1\n",
    "        #if (row['DeviceCategoryAOI']!='AOI_GOOD'):\n",
    "            #dcube_train[row['StripID']][row['StripX']][row['StripY']]+=1"
   ]
  },
  {
   "cell_type": "code",
   "execution_count": 11,
   "id": "eb6d8407",
   "metadata": {},
   "outputs": [],
   "source": [
    "for index,row in train.iterrows():\n",
    "        if (row['DeviceCategoryWB']!='BONDED_GOOD'):\n",
    "            dcube_train[row['StripID']][row['StripX']][row['StripY']]+=1\n"
   ]
  },
  {
   "cell_type": "code",
   "execution_count": 12,
   "id": "56c6f2f3",
   "metadata": {},
   "outputs": [],
   "source": [
    "for index,row in train.iterrows():\n",
    "        if (row['DeviceCategoryAOI']!='AOI_GOOD'):\n",
    "            dcube_train[row['StripID']][row['StripX']][row['StripY']]+=1\n"
   ]
  },
  {
   "cell_type": "code",
   "execution_count": 13,
   "id": "611d8274",
   "metadata": {},
   "outputs": [],
   "source": [
    "for index,row in test.iterrows():\n",
    "        if (row['DeviceCategoryDA']!='POPULATED_GOOD'):\n",
    "            dcube_test[row['StripID']][row['StripX']][row['StripY']]+=1\n",
    "        #if (row['DeviceCategoryWB']!='BONDED_GOOD'):\n",
    "        #    dcube_test[row['StripID']][row['StripX']][row['StripY']]+=1\n",
    "        #if (row['DeviceCategoryAOI']!='AOI_GOOD'):\n",
    "        #    dcube_test[row['StripID']][row['StripX']][row['StripY']]+=1"
   ]
  },
  {
   "cell_type": "code",
   "execution_count": 14,
   "id": "a07b84e6",
   "metadata": {},
   "outputs": [],
   "source": [
    "for index,row in test.iterrows():\n",
    "        if (row['DeviceCategoryWB']!='BONDED_GOOD'):\n",
    "            dcube_test[row['StripID']][row['StripX']][row['StripY']]+=1\n",
    "        #else:\n",
    "        #    dcube_train[row['StripID']][row['StripX']][row['StripY']]+=0"
   ]
  },
  {
   "cell_type": "code",
   "execution_count": 15,
   "id": "b1baad06",
   "metadata": {},
   "outputs": [],
   "source": [
    "for index,row in test.iterrows():\n",
    "        if (row['DeviceCategoryAOI']!='AOI_GOOD'):\n",
    "            dcube_test[row['StripID']][row['StripX']][row['StripY']]+=1\n",
    "        #else:\n",
    "        #    dcube_train[row['StripID']][row['StripX']][row['StripY']]+=0"
   ]
  },
  {
   "cell_type": "code",
   "execution_count": 16,
   "id": "000bb061",
   "metadata": {},
   "outputs": [
    {
     "data": {
      "text/plain": [
       "array([[[0., 0., 0., 0.],\n",
       "        [0., 0., 0., 0.],\n",
       "        [0., 0., 0., 0.],\n",
       "        ...,\n",
       "        [0., 0., 0., 0.],\n",
       "        [0., 0., 0., 0.],\n",
       "        [0., 0., 0., 0.]],\n",
       "\n",
       "       [[0., 0., 0., 0.],\n",
       "        [0., 0., 0., 0.],\n",
       "        [0., 0., 0., 0.],\n",
       "        ...,\n",
       "        [0., 0., 0., 0.],\n",
       "        [0., 0., 0., 0.],\n",
       "        [0., 0., 0., 0.]],\n",
       "\n",
       "       [[0., 0., 0., 0.],\n",
       "        [0., 0., 0., 0.],\n",
       "        [0., 0., 0., 0.],\n",
       "        ...,\n",
       "        [0., 0., 0., 0.],\n",
       "        [0., 0., 0., 0.],\n",
       "        [0., 0., 0., 0.]],\n",
       "\n",
       "       ...,\n",
       "\n",
       "       [[0., 0., 0., 0.],\n",
       "        [0., 0., 0., 0.],\n",
       "        [0., 0., 0., 0.],\n",
       "        ...,\n",
       "        [0., 0., 0., 0.],\n",
       "        [0., 1., 0., 0.],\n",
       "        [0., 0., 0., 0.]],\n",
       "\n",
       "       [[0., 0., 0., 0.],\n",
       "        [0., 0., 0., 0.],\n",
       "        [0., 0., 0., 0.],\n",
       "        ...,\n",
       "        [0., 0., 0., 0.],\n",
       "        [0., 0., 0., 0.],\n",
       "        [0., 2., 0., 0.]],\n",
       "\n",
       "       [[0., 0., 0., 0.],\n",
       "        [0., 0., 0., 0.],\n",
       "        [0., 0., 0., 0.],\n",
       "        ...,\n",
       "        [0., 0., 0., 0.],\n",
       "        [0., 0., 0., 0.],\n",
       "        [0., 0., 2., 0.]]])"
      ]
     },
     "execution_count": 16,
     "metadata": {},
     "output_type": "execute_result"
    }
   ],
   "source": [
    "dcube_train"
   ]
  },
  {
   "cell_type": "code",
   "execution_count": 17,
   "id": "adb4b57c",
   "metadata": {},
   "outputs": [
    {
     "data": {
      "text/plain": [
       "array([[[3., 3., 3., 3.],\n",
       "        [3., 3., 3., 3.],\n",
       "        [3., 3., 3., 3.],\n",
       "        ...,\n",
       "        [3., 3., 3., 3.],\n",
       "        [3., 3., 3., 3.],\n",
       "        [3., 3., 3., 3.]],\n",
       "\n",
       "       [[3., 3., 3., 3.],\n",
       "        [3., 3., 3., 3.],\n",
       "        [3., 3., 3., 3.],\n",
       "        ...,\n",
       "        [3., 3., 3., 3.],\n",
       "        [3., 3., 3., 3.],\n",
       "        [3., 3., 3., 3.]],\n",
       "\n",
       "       [[3., 3., 3., 3.],\n",
       "        [3., 3., 3., 3.],\n",
       "        [3., 3., 3., 3.],\n",
       "        ...,\n",
       "        [0., 0., 0., 0.],\n",
       "        [0., 0., 0., 0.],\n",
       "        [0., 0., 2., 2.]],\n",
       "\n",
       "       ...,\n",
       "\n",
       "       [[0., 1., 0., 0.],\n",
       "        [0., 0., 0., 0.],\n",
       "        [0., 0., 0., 0.],\n",
       "        ...,\n",
       "        [0., 0., 0., 0.],\n",
       "        [0., 0., 0., 0.],\n",
       "        [0., 0., 0., 0.]],\n",
       "\n",
       "       [[1., 0., 0., 0.],\n",
       "        [0., 0., 0., 0.],\n",
       "        [0., 0., 0., 0.],\n",
       "        ...,\n",
       "        [0., 0., 0., 0.],\n",
       "        [0., 0., 0., 0.],\n",
       "        [0., 0., 0., 0.]],\n",
       "\n",
       "       [[0., 0., 0., 0.],\n",
       "        [0., 0., 0., 0.],\n",
       "        [0., 0., 0., 0.],\n",
       "        ...,\n",
       "        [0., 0., 0., 0.],\n",
       "        [0., 0., 0., 0.],\n",
       "        [0., 0., 0., 0.]]])"
      ]
     },
     "execution_count": 17,
     "metadata": {},
     "output_type": "execute_result"
    }
   ],
   "source": [
    "dcube_test"
   ]
  },
  {
   "cell_type": "code",
   "execution_count": 18,
   "id": "703ad4b7",
   "metadata": {},
   "outputs": [],
   "source": [
    "arr_train=dcube_train.reshape(948,64)\n",
    "arr_test=dcube_test.reshape(241,64)"
   ]
  },
  {
   "cell_type": "code",
   "execution_count": 19,
   "id": "39ae618b",
   "metadata": {},
   "outputs": [
    {
     "data": {
      "text/plain": [
       "array([0., 0., 0., 0., 0., 0., 0., 0., 0., 0., 0., 0., 0., 1., 0., 0., 0.,\n",
       "       0., 0., 0., 0., 0., 0., 0., 0., 0., 0., 0., 0., 0., 0., 0., 0., 0.,\n",
       "       0., 0., 0., 0., 0., 0., 0., 0., 0., 0., 0., 0., 0., 0., 0., 0., 0.,\n",
       "       0., 0., 0., 0., 0., 0., 0., 0., 0., 0., 0., 0., 0.])"
      ]
     },
     "execution_count": 19,
     "metadata": {},
     "output_type": "execute_result"
    }
   ],
   "source": [
    "arr_train[0]"
   ]
  },
  {
   "cell_type": "code",
   "execution_count": 20,
   "id": "cb5cf722",
   "metadata": {},
   "outputs": [],
   "source": [
    "#arr_train_df=pd.DataFrame(arr_train)\n",
    "#arr_test_df=pd.DataFrame(arr_test)"
   ]
  },
  {
   "cell_type": "code",
   "execution_count": 21,
   "id": "ab5ffa18",
   "metadata": {},
   "outputs": [],
   "source": [
    "#arr_train_df"
   ]
  },
  {
   "cell_type": "code",
   "execution_count": 22,
   "id": "599a68c7",
   "metadata": {},
   "outputs": [],
   "source": [
    "#from sklearn.preprocessing import OrdinalEncoder\n",
    "#enc=OrdinalEncoder()"
   ]
  },
  {
   "cell_type": "code",
   "execution_count": 23,
   "id": "778aaeed",
   "metadata": {},
   "outputs": [],
   "source": [
    "#for c in arr_train_df.columns:\n",
    "#    arr_train_df[c]=enc.fit_transform(arr_train_df[[c]])\n",
    "#for c in arr_test_df.columns:\n",
    "#    arr_test_df[c]=enc.fit_transform(arr_test_df[[c]])"
   ]
  },
  {
   "cell_type": "code",
   "execution_count": 24,
   "id": "b0a7889a",
   "metadata": {},
   "outputs": [],
   "source": [
    "#arr_train=arr_train_df.to_numpy()\n",
    "#arr_test=arr_test_df.to_numpy()"
   ]
  },
  {
   "cell_type": "code",
   "execution_count": 25,
   "id": "1ba606aa",
   "metadata": {},
   "outputs": [],
   "source": [
    "import torch\n",
    "from torch import nn\n",
    "from torch.optim import Adam\n",
    "import torch.optim as optim\n",
    "from torch.utils.data import DataLoader"
   ]
  },
  {
   "cell_type": "code",
   "execution_count": 26,
   "id": "12d1dd34",
   "metadata": {},
   "outputs": [],
   "source": [
    "data_loader=torch.utils.data.DataLoader(dataset=arr_train,batch_size=32,shuffle=True)"
   ]
  },
  {
   "cell_type": "code",
   "execution_count": 27,
   "id": "aa8243ee",
   "metadata": {},
   "outputs": [],
   "source": [
    "class AutoEncoder(torch.nn.Module):\n",
    "    def __init__(self):\n",
    "        super().__init__()\n",
    "        self.encoder = torch.nn.Sequential(\n",
    "            torch.nn.Linear(64, 32),\n",
    "            torch.nn.LeakyReLU(),\n",
    "            torch.nn.Linear(32, 16),\n",
    "            torch.nn.LeakyReLU(),\n",
    "            torch.nn.Linear(16, 8),\n",
    "            torch.nn.ReLU(),\n",
    "            torch.nn.Linear(8, 4),\n",
    "            torch.nn.ReLU(),\n",
    "            torch.nn.Linear(4, 2),\n",
    "            #torch.nn.ReLU(),\n",
    "            #torch.nn.Linear(6, 5),\n",
    "            #torch.nn.ReLU(),\n",
    "            #torch.nn.Linear(5, 4),\n",
    "            #torch.nn.ReLU(),\n",
    "            #torch.nn.Linear(4, 3),\n",
    "        )\n",
    "\n",
    "        self.decoder = torch.nn.Sequential(\n",
    "            torch.nn.Linear(2, 4),\n",
    "            torch.nn.ReLU(),\n",
    "            torch.nn.Linear(4, 8),\n",
    "            torch.nn.ReLU(),\n",
    "            torch.nn.Linear(8, 16),\n",
    "            torch.nn.LeakyReLU(),\n",
    "            torch.nn.Linear(16, 32),\n",
    "            torch.nn.LeakyReLU(),\n",
    "            torch.nn.Linear(32, 64),\n",
    "            #torch.nn.ReLU(),\n",
    "            #torch.nn.Linear(8, 9),\n",
    "            #torch.nn.ReLU(),\n",
    "            #torch.nn.Linear(9, 10),\n",
    "            #torch.nn.ReLU(),\n",
    "            #torch.nn.Linear(10, 11),\n",
    "            #torch.nn.Sigmoid()\n",
    "        )\n",
    "    def encode(self, x):\n",
    "        encoded = self.encoder(x)\n",
    "        return encoded\n",
    "\n",
    "    def decode(self, x):\n",
    "        decoded = self.decoder(x)\n",
    "        return decoded\n",
    " \n",
    "    def forward(self, x):\n",
    "        encoded = self.encoder(x)\n",
    "        decoded = self.decoder(encoded)\n",
    "        return decoded"
   ]
  },
  {
   "cell_type": "code",
   "execution_count": 28,
   "id": "d6532b6e",
   "metadata": {},
   "outputs": [],
   "source": [
    "learning_rate=0.001\n",
    "model=AutoEncoder()\n",
    "mse=nn.MSELoss()\n",
    "optimizer=torch.optim.Adam(model.parameters(),lr=learning_rate)\n",
    "scheduler=optim.lr_scheduler.ReduceLROnPlateau(optimizer,patience=5,verbose=True)"
   ]
  },
  {
   "cell_type": "code",
   "execution_count": 29,
   "id": "8489e849",
   "metadata": {},
   "outputs": [
    {
     "name": "stdout",
     "output_type": "stream",
     "text": [
      "total 948 n_iterations 30\n"
     ]
    }
   ],
   "source": [
    "import math\n",
    "num_epochs=40\n",
    "total_samples= len(arr_train)\n",
    "n_iterations=math.ceil(total_samples/32)\n",
    "print(f'total {total_samples} n_iterations {n_iterations}')"
   ]
  },
  {
   "cell_type": "code",
   "execution_count": 30,
   "id": "1da2aaf6",
   "metadata": {},
   "outputs": [
    {
     "name": "stdout",
     "output_type": "stream",
     "text": [
      "Epoch:1, Loss:0.232162\n",
      "Epoch:2, Loss:0.834895\n",
      "Epoch:3, Loss:0.087932\n",
      "Epoch:4, Loss:0.307581\n",
      "Epoch:5, Loss:0.057033\n",
      "Epoch:6, Loss:0.064951\n",
      "Epoch:7, Loss:0.028186\n",
      "Epoch:8, Loss:0.066397\n",
      "Epoch:9, Loss:0.043351\n",
      "Epoch:10, Loss:0.049771\n",
      "Epoch:11, Loss:0.124460\n",
      "Epoch:12, Loss:0.034969\n",
      "Epoch:13, Loss:0.036376\n",
      "Epoch:14, Loss:0.036190\n",
      "Epoch:15, Loss:0.054412\n",
      "Epoch:16, Loss:0.049220\n",
      "Epoch:17, Loss:0.041665\n",
      "Epoch:18, Loss:0.051681\n",
      "Epoch:19, Loss:0.132293\n",
      "Epoch:20, Loss:0.038496\n",
      "Epoch:21, Loss:0.041215\n",
      "Epoch:22, Loss:0.101606\n",
      "Epoch:23, Loss:0.125794\n",
      "Epoch:24, Loss:0.048846\n",
      "Epoch:25, Loss:0.120122\n",
      "Epoch:26, Loss:0.043332\n",
      "Epoch:27, Loss:0.203140\n",
      "Epoch:28, Loss:0.043592\n",
      "Epoch:29, Loss:0.036662\n",
      "Epoch:30, Loss:0.107470\n",
      "Epoch:31, Loss:0.109602\n",
      "Epoch:32, Loss:0.035841\n",
      "Epoch:33, Loss:0.028723\n",
      "Epoch:34, Loss:0.038559\n",
      "Epoch:35, Loss:0.099681\n",
      "Epoch:36, Loss:0.032246\n",
      "Epoch:37, Loss:0.064683\n",
      "Epoch:38, Loss:0.030237\n",
      "Epoch:39, Loss:0.049197\n",
      "Epoch:40, Loss:0.038656\n"
     ]
    }
   ],
   "source": [
    "outputs=[]\n",
    "L=[]\n",
    "for epoch in range(num_epochs):\n",
    "    for step, x in enumerate(data_loader):\n",
    "        recon=model(x.float())\n",
    "        loss=mse(recon,x.float())\n",
    "        \n",
    "        optimizer.zero_grad()\n",
    "        loss.backward()\n",
    "        optimizer.step()\n",
    "    L.append(loss.item())\n",
    "    mean_loss=sum(L)/len(L)\n",
    "    scheduler.step(mean_loss)\n",
    "    print(f'Epoch:{epoch+1}, Loss:{loss.item():.6f}')\n",
    "    outputs.append((epoch,x,recon))"
   ]
  },
  {
   "cell_type": "code",
   "execution_count": 31,
   "id": "3c2217bc",
   "metadata": {},
   "outputs": [
    {
     "data": {
      "text/plain": [
       "[<matplotlib.lines.Line2D at 0x17cc735de70>]"
      ]
     },
     "execution_count": 31,
     "metadata": {},
     "output_type": "execute_result"
    },
    {
     "data": {
      "image/png": "[encoded data removed]",
      "text/plain": [
       "<Figure size 640x480 with 1 Axes>"
      ]
     },
     "metadata": {},
     "output_type": "display_data"
    }
   ],
   "source": [
    "import matplotlib.pyplot as plt\n",
    "plt.plot(L)"
   ]
  },
  {
   "cell_type": "code",
   "execution_count": 32,
   "id": "b6c5e574",
   "metadata": {},
   "outputs": [],
   "source": [
    "data_loader=DataLoader(dataset=arr_train,batch_size=len(arr_train))"
   ]
  },
  {
   "cell_type": "code",
   "execution_count": 33,
   "id": "c2da6cba",
   "metadata": {},
   "outputs": [],
   "source": [
    "for step, x in enumerate(data_loader):\n",
    "    recon1=model.encode(x.float())"
   ]
  },
  {
   "cell_type": "code",
   "execution_count": 34,
   "id": "1eee2af8",
   "metadata": {},
   "outputs": [],
   "source": [
    "data_loader=DataLoader(dataset=arr_test,batch_size=len(arr_test))"
   ]
  },
  {
   "cell_type": "code",
   "execution_count": 35,
   "id": "eef0d21c",
   "metadata": {},
   "outputs": [],
   "source": [
    "for step, x in enumerate(data_loader):\n",
    "    recon2=model.encode(x.float())"
   ]
  },
  {
   "cell_type": "code",
   "execution_count": 36,
   "id": "3f3dcb92",
   "metadata": {},
   "outputs": [],
   "source": [
    "en1=recon1.detach().numpy()\n",
    "en2=recon2.detach().numpy()"
   ]
  },
  {
   "cell_type": "code",
   "execution_count": 37,
   "id": "8b403ebc",
   "metadata": {},
   "outputs": [],
   "source": [
    "endf1 = pd.DataFrame(en1, columns = ['x','y'])\n",
    "endf2 = pd.DataFrame(en2, columns = ['x','y'])"
   ]
  },
  {
   "cell_type": "code",
   "execution_count": 38,
   "id": "75763b77",
   "metadata": {},
   "outputs": [
    {
     "data": {
      "text/plain": [
       "<seaborn.axisgrid.PairGrid at 0x17cc4227be0>"
      ]
     },
     "execution_count": 38,
     "metadata": {},
     "output_type": "execute_result"
    },
    {
     "data": {
      "image/png": "[encoded data removed]",
      "text/plain": [
       "<Figure size 500x500 with 6 Axes>"
      ]
     },
     "metadata": {},
     "output_type": "display_data"
    }
   ],
   "source": [
    "import seaborn as sns\n",
    "sns.pairplot(endf1)"
   ]
  },
  {
   "cell_type": "code",
   "execution_count": 39,
   "id": "ffb02b25",
   "metadata": {},
   "outputs": [
    {
     "data": {
      "text/plain": [
       "<seaborn.axisgrid.PairGrid at 0x17cbd531db0>"
      ]
     },
     "execution_count": 39,
     "metadata": {},
     "output_type": "execute_result"
    },
    {
     "data": {
      "image/png": "[encoded data removed]",
      "text/plain": [
       "<Figure size 500x500 with 6 Axes>"
      ]
     },
     "metadata": {},
     "output_type": "display_data"
    }
   ],
   "source": [
    "import seaborn as sns\n",
    "sns.pairplot(endf2)"
   ]
  },
  {
   "cell_type": "code",
   "execution_count": 40,
   "id": "abd36980",
   "metadata": {},
   "outputs": [],
   "source": [
    "from sklearn.cluster import KMeans\n",
    "from sklearn.cluster import DBSCAN"
   ]
  },
  {
   "cell_type": "code",
   "execution_count": 41,
   "id": "dd20e5a4",
   "metadata": {},
   "outputs": [],
   "source": [
    "dbscan=DBSCAN(eps = 0.003, min_samples =5)\n",
    "dbscan.fit(endf1[['x']],endf1[['y']])\n",
    "#dbscan.fit(endf1[['x']])\n",
    "endf1['dbs']=dbscan.labels_"
   ]
  },
  {
   "cell_type": "code",
   "execution_count": 42,
   "id": "82df7abd",
   "metadata": {},
   "outputs": [],
   "source": [
    "dbscan.fit_predict(endf2[['x']],endf2[['y']])\n",
    "#dbscan.fit_predict(endf2[['x']])\n",
    "endf2['dbs']=dbscan.labels_"
   ]
  },
  {
   "cell_type": "code",
   "execution_count": 43,
   "id": "8dc77c72",
   "metadata": {},
   "outputs": [
    {
     "data": {
      "text/plain": [
       "<matplotlib.legend.Legend at 0x17cc96fbee0>"
      ]
     },
     "execution_count": 43,
     "metadata": {},
     "output_type": "execute_result"
    },
    {
     "data": {
      "image/png": "[encoded data removed]",
      "text/plain": [
       "<Figure size 640x480 with 1 Axes>"
      ]
     },
     "metadata": {},
     "output_type": "display_data"
    }
   ],
   "source": [
    "sc=plt.scatter(x=endf1['x'],y=endf1['y'],c=endf1['dbs'])\n",
    "plt.legend(*sc.legend_elements(), title='clusters',loc='center left', bbox_to_anchor=(1, 0.5))"
   ]
  },
  {
   "cell_type": "code",
   "execution_count": 44,
   "id": "bbda73c9",
   "metadata": {},
   "outputs": [
    {
     "data": {
      "text/plain": [
       " 0    765\n",
       " 4     62\n",
       "-1     39\n",
       " 2     38\n",
       " 1     16\n",
       " 3     15\n",
       " 5      8\n",
       " 6      5\n",
       "Name: dbs, dtype: int64"
      ]
     },
     "execution_count": 44,
     "metadata": {},
     "output_type": "execute_result"
    }
   ],
   "source": [
    "endf1.dbs.value_counts()"
   ]
  },
  {
   "cell_type": "code",
   "execution_count": 45,
   "id": "f181292e",
   "metadata": {},
   "outputs": [
    {
     "data": {
      "text/plain": [
       "<matplotlib.legend.Legend at 0x17cca31e770>"
      ]
     },
     "execution_count": 45,
     "metadata": {},
     "output_type": "execute_result"
    },
    {
     "data": {
      "image/png": "[encoded data removed]",
      "text/plain": [
       "<Figure size 640x480 with 1 Axes>"
      ]
     },
     "metadata": {},
     "output_type": "display_data"
    }
   ],
   "source": [
    "sc=plt.scatter(x=endf2['x'],y=endf2['y'],c=endf2['dbs'])\n",
    "plt.legend(*sc.legend_elements(), title='clusters',loc='center left', bbox_to_anchor=(1, 0.5))"
   ]
  },
  {
   "cell_type": "code",
   "execution_count": 46,
   "id": "978a2280",
   "metadata": {},
   "outputs": [
    {
     "data": {
      "text/plain": [
       " 2    112\n",
       " 1     44\n",
       "-1     35\n",
       " 0     12\n",
       " 6     10\n",
       " 4      8\n",
       " 3      5\n",
       " 5      5\n",
       " 7      5\n",
       " 8      5\n",
       "Name: dbs, dtype: int64"
      ]
     },
     "execution_count": 46,
     "metadata": {},
     "output_type": "execute_result"
    }
   ],
   "source": [
    "endf2.dbs.value_counts()"
   ]
  },
  {
   "cell_type": "code",
   "execution_count": null,
   "id": "de988352",
   "metadata": {},
   "outputs": [],
   "source": []
  }
 ],
 "metadata": {
  "kernelspec": {
   "display_name": "Python 3 (ipykernel)",
   "language": "python",
   "name": "python3"
  },
  "language_info": {
   "codemirror_mode": {
    "name": "ipython",
    "version": 3
   },
   "file_extension": ".py",
   "mimetype": "text/x-python",
   "name": "python",
   "nbconvert_exporter": "python",
   "pygments_lexer": "ipython3",
   "version": "3.10.9"
  }
 },
 "nbformat": 4,
 "nbformat_minor": 5
}
